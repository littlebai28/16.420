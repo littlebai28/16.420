{
  "nbformat": 4,
  "nbformat_minor": 5,
  "metadata": {
    "colab": {
      "name": "mp02.ipynb",
      "provenance": [],
      "collapsed_sections": []
    },
    "kernelspec": {
      "display_name": "Python 3",
      "name": "python3"
    },
    "language_info": {
      "name": "python"
    }
  },
  "cells": [
    {
      "cell_type": "markdown",
      "metadata": {
        "id": "a1568dcc"
      },
      "source": [
        "# Miniproject 2"
      ],
      "id": "a1568dcc"
    },
    {
      "cell_type": "markdown",
      "metadata": {
        "id": "ae173c26"
      },
      "source": [
        "## Imports and Utilities\n",
        "**Note**: these imports and functions are available in catsoop. You do not need to copy them in."
      ],
      "id": "ae173c26"
    },
    {
      "cell_type": "code",
      "metadata": {
        "id": "d8f7467b"
      },
      "source": [
        "import sys\n",
        "import math\n",
        "import numpy as np\n",
        "from typing import List\n",
        "from collections import namedtuple\n",
        "\n",
        "# Basic data structures.\n",
        "Pose = namedtuple(\"Pose\", [\"x\", \"y\", \"theta\"])  # x, y coordinate and the rotation of the robot.\n",
        "Landmark = namedtuple(\"Landmark\", [\"x\", \"y\"])   # x, y coordinate of the landmark.\n",
        "Measurement = namedtuple(\"Measurement\", [\"r\", \"b\"])  # r --- distance to the landmark; b --- angle to the landmark, computed by arctan2.\n",
        "Command = namedtuple(\"Command\", [\"delta_p\", \"delta_theta\"])\n",
        "\n",
        "\n",
        "def eval_gaussian(x, mean=0, var=1):\n",
        "  \"\"\"Compute the Gaussian pdf function.\"\"\"\n",
        "  return 1.0/math.sqrt(2*math.pi*var)*math.exp(-0.5*(x-mean)**2/var)\n",
        "\n",
        "\n",
        "class Simulator:\n",
        "  robot: Pose\n",
        "  motion_noise_covariance: np.ndarray  # 2x2 covariance matrix of the motion noise.\n",
        "  sensor_noise_covariance: np.ndarray  # 2x2 covariance matrix of the sensor noise.\n",
        "  landmark: List[Landmark]  # a list of landmarks.\n",
        "\n",
        "  def __init__(self):\n",
        "    self.robot = Pose(0, 0, 0)\n",
        "    self.motion_noise_covariance = np.array([[1, 0], [0, 1]], dtype='float64')\n",
        "    self.sensor_noise_covariance = np.array([[1, 0], [0, np.deg2rad(5)**2]], dtype='float64')\n",
        "    self.landmarks = [Landmark(-1, -1), Landmark(-1, -1), Landmark(11, 11), Landmark(-1, 11)]\n",
        "\n",
        "  def set_motion_noise_covariance(self, cov):\n",
        "    \"\"\"Set the motion noise covariance.\"\"\"\n",
        "    self.motion_noise_covariance = np.array(cov, dtype='float64')\n",
        "\n",
        "  def set_sensor_noise_covariance(self, cov):\n",
        "    \"\"\"Set the sensor noise covariance.\"\"\"\n",
        "    self.sensor_noise_covariance = np.array(cov, dtype='float64')\n",
        "\n",
        "  def simulate_motion(self, command):\n",
        "    \"\"\"Simulate robot motion. This function updates the value of self.robot.\n",
        "\n",
        "    Args:\n",
        "      command: a Command tuple containing fields delta_p(float), the distance of the\n",
        "      movement, and delta_theta(float), the rotation of the movement.\n",
        "    \"\"\"\n",
        "    noise = np.random.multivariate_normal([0, 0], self.motion_noise_covariance)\n",
        "    x = self.robot.x + math.cos(self.robot.theta) * (command.delta_p + noise[0])\n",
        "    y = self.robot.y + math.sin(self.robot.theta) * (command.delta_p + noise[0])\n",
        "    theta = self.robot.theta + command.delta_theta + noise[1]\n",
        "    self.robot = Pose(x, y, theta)\n",
        "\n",
        "  def simulate_sensing(self):\n",
        "    \"\"\"Simulate the robot sensing process. This function returns a list of measurements, in the same order as the\n",
        "    self.landmarks list. Specifically, it measures the distance and the angle w.r.t. each landmark, and add a\n",
        "    Gaussian noise on the measurement.\n",
        "\n",
        "    Returns:\n",
        "      measurements: a list of measurements, in the same order as the self.landmarks list.\n",
        "    \"\"\"\n",
        "\n",
        "    measurements = []\n",
        "    for landmark in self.landmarks:\n",
        "      noise = np.random.multivariate_normal([0, 0], self.sensor_noise_covariance)\n",
        "\n",
        "      r = math.hypot(landmark[0]-self.robot.x, landmark[1]-self.robot.y) + noise[0]\n",
        "      b = math.atan2(landmark[1]-self.robot.y, landmark[0]-self.robot.x) - self.robot.theta + noise[1]\n",
        "\n",
        "      measurements.append(Measurement(r, b))\n",
        "\n",
        "    return measurements\n",
        "\n",
        "\n",
        "def drive_in_a_square(simulator):\n",
        "  \"\"\"Simulate the robot's movement in a square. See the code for details.\n",
        "\n",
        "  Returns:\n",
        "    poses: a numpy array of the robot's trajectory. It is a T by 3 matrix, where T is the trajectory length, and the\n",
        "    second dimension contains: x, y, theta.\n",
        "  \"\"\"\n",
        "  poses = []\n",
        "  poses.append(simulator.robot)\n",
        "  for sides in range(4):\n",
        "    for i in range(100):\n",
        "      simulator.simulate_motion(Command(.1, 0))\n",
        "      poses.append(simulator.robot)\n",
        "    simulator.simulate_motion(Command(0, np.pi/2))\n",
        "    poses.append(simulator.robot)\n",
        "  return np.array(poses)\n",
        "\n",
        "\n",
        "def press(event):\n",
        "  \"\"\"matplotlib helper function. It processes the keyboard event. If the user hits q, it exit the program.\"\"\"\n",
        "  import matplotlib.pyplot as plt\n",
        "  if event.key == 'q':\n",
        "    sys.exit(0)\n",
        "  plt.close()\n",
        "\n",
        "\n",
        "def plot_samples(samples, xmin=-1, xmax=1, ymin=-1, ymax=1):\n",
        "  \"\"\"matplotlib helper function. It takes a list of samples as input and scatter plot the samples.\n",
        "\n",
        "  Args:\n",
        "    samples: a numpy array of the samples. This function only plots the first two components: x and y.\n",
        "    xmin, xmax, ymin, ymax: the range of the x and y axes.\n",
        "  \"\"\"\n",
        "  import matplotlib.pyplot as plt\n",
        "  fig, ax = plt.subplots()\n",
        "  ax.axis([xmin, xmax, ymin, ymax])\n",
        "  fig.canvas.mpl_connect('key_press_event', press)\n",
        "\n",
        "  ax.set_xlabel('x')\n",
        "  ax.set_ylabel('y')\n",
        "  ax.plot(samples[:, 0], samples[:, 1], 'g+')\n",
        "  plt.show()\n",
        "\n",
        "\n",
        "def plot_trajectories(true_poses, estimated_poses, xmin=-1, xmax=1, ymin=-1, ymax=1):\n",
        "  \"\"\"matplotlib helper function. It overlays both the true pose and the estimated pose.\n",
        "\n",
        "  Args:\n",
        "    true_poses: a numpy array of the true robot trajectory. This function only plots the first two components: x and y.\n",
        "    estimated_poses: a numpy array of the estimated robot trajectory. This function only plots the first two components: x and y.\n",
        "    xmin, xmax, ymin, ymax: the range of the x and y axes.\n",
        "  \"\"\"\n",
        "\n",
        "  import matplotlib.pyplot as plt\n",
        "  fig, ax = plt.subplots()\n",
        "  ax.axis([xmin, xmax, ymin, ymax])\n",
        "  fig.canvas.mpl_connect('key_press_event', press)\n",
        "\n",
        "  ax.set_xlabel('x')\n",
        "  ax.set_ylabel('y')\n",
        "  ax.plot(true_poses[:, 0], true_poses[:,1], 'b')\n",
        "  ax.plot(estimated_poses[:, 0], estimated_poses[:,1], 'r')\n",
        "  plt.show()\n",
        "\n",
        "\n"
      ],
      "id": "d8f7467b",
      "execution_count": null,
      "outputs": []
    },
    {
      "cell_type": "markdown",
      "metadata": {
        "id": "4bff7b14"
      },
      "source": [
        "## Problems"
      ],
      "id": "4bff7b14"
    },
    {
      "cell_type": "markdown",
      "metadata": {
        "id": "3824c798"
      },
      "source": [
        "### Warmup 1\n",
        "Let's make sure we know how to sample from a set of values\n",
        "based on their weights.\n",
        "\n",
        "Please write a function that takes in a list of samples and associated weights,\n",
        "and re-samples from the list of samples with replacement according the\n",
        "likelihood of each sample given by the list of weights.\n",
        "\n",
        "This should be an easy question --- you should feel free to use the sampling\n",
        "helper functions in numpy. Specifically, take a look at the function numpy.random.choice.\n",
        "\n",
        "\n",
        "For reference, our solution is **1** lines of code."
      ],
      "id": "3824c798"
    },
    {
      "cell_type": "code",
      "metadata": {
        "id": "2e82582d"
      },
      "source": [
        "def warmup_1(samples, weights, nr_samples):\n",
        "  \"\"\"Draw N samples from the input list based on their weights.\n",
        "\n",
        "  Args:\n",
        "    samples: a numpy array: a list of samples.\n",
        "    weights: a numpy array of the same length as samples, indicating the weights for individual samples.\n",
        "    nr_samples: an integer.\n",
        "\n",
        "  Returns:\n",
        "    resampled_samples: the return numpy array, containing nr_samples samples drawn from the input list, based on the weights with replacement.\n",
        "  \"\"\"\n",
        "  raise NotImplementedError(\"Implement me!\")"
      ],
      "id": "2e82582d",
      "execution_count": null,
      "outputs": []
    },
    {
      "cell_type": "markdown",
      "metadata": {
        "id": "8f7a5ae4"
      },
      "source": [
        "Tests"
      ],
      "id": "8f7a5ae4"
    },
    {
      "cell_type": "code",
      "metadata": {
        "id": "42225c21"
      },
      "source": [
        "import random; import numpy.random; random.seed(0); numpy.random.seed(0);\n",
        "assert np.allclose(warmup_1(np.array([0, 1, 2, 3, 4, 5, 6, 7, 8, 9], dtype=np.int64), np.array([0.03191091, 0.10365558, 0.07293406, 0.13085621, 0.12995933, 0.0454193 , 0.04606439, 0.1336077 , 0.15964489, 0.14594763], dtype=np.float64), 10), np.array([6, 8, 7, 6, 4, 7, 4, 9, 9, 4], dtype=np.int64), atol=1e-6)\n",
        "print('Tests passed.')"
      ],
      "id": "42225c21",
      "execution_count": null,
      "outputs": []
    },
    {
      "cell_type": "markdown",
      "metadata": {
        "id": "48db0f5c"
      },
      "source": [
        "### Warmup 2\n",
        "We are going to be sampling from Gaussian\n",
        "distributions in this miniproject. Let us check that we know how to sample from a\n",
        "multi-variate Gaussian.\n",
        "\n",
        "Please write a function that takes in a mean vector, a covariance matrix and a\n",
        "integer number of samples and returns a list of the requested number of\n",
        "samples drawn from a Gaussian with the given mean and covariance.\n",
        "\n",
        "This should be an easy question --- you should feel free to use the sampling\n",
        "helper functions in numpy. Specifically, take a look at the function numpy.random.multivariate_normal.\n",
        "\n",
        "\n",
        "For reference, our solution is **1** lines of code."
      ],
      "id": "48db0f5c"
    },
    {
      "cell_type": "code",
      "metadata": {
        "id": "cd667fed"
      },
      "source": [
        "def warmup_2(mean, covariance, num_samples):\n",
        "  \"\"\"Sample from a multi-variate Gaussian distribution.\n",
        "\n",
        "  Args:\n",
        "    mean: a vector in numpy.\n",
        "    covariance: a matrix in numpy.\n",
        "    num_samples: an integer.\n",
        "\n",
        "  Returns:\n",
        "    sample: a numpy vector with length num_samples.\n",
        "  \"\"\"\n",
        "  raise NotImplementedError(\"Implement me!\")"
      ],
      "id": "cd667fed",
      "execution_count": null,
      "outputs": []
    },
    {
      "cell_type": "markdown",
      "metadata": {
        "id": "3c723d50"
      },
      "source": [
        "Tests"
      ],
      "id": "3c723d50"
    },
    {
      "cell_type": "code",
      "metadata": {
        "id": "349b60f4"
      },
      "source": [
        "import random; import numpy.random; random.seed(0); numpy.random.seed(0);\n",
        "assert np.allclose(warmup_2(np.array([0.58345008, 0.05778984, 0.13608912], dtype=np.float64), np.array([[1.61405906, 0.93399482, 0.79165733],  [0.93399482, 1.65599579, 1.43616931],  [0.79165733, 1.43616931, 1.25177385]], dtype=np.float64), 5), np.array([[-0.8347847 , -2.30256418, -1.83805061],  [-0.13115218, -3.33917428, -2.91354857],  [-0.47476854, -1.05885092, -0.83435982],  [ 0.29510331, -0.55660856, -0.28675913],  [-0.06919861, -0.94320128, -0.69794801]], dtype=np.float64), atol=1e-6)\n",
        "print('Tests passed.')"
      ],
      "id": "349b60f4",
      "execution_count": null,
      "outputs": []
    },
    {
      "cell_type": "markdown",
      "metadata": {
        "id": "08523c86"
      },
      "source": [
        "### Experiment 1: Sampling from Multivariate Gaussian\n",
        "\n",
        "Please generate a 2D scatter plot of 1000 samples drawn from a 2D Gaussian with `mean = [0, 0]` and\n",
        "`covariance = [[0.05, 0], [[0, 0.01]]`, using the function you just coded: `warmup_2`.\n",
        "Consider using the helper function provided: `plot_samples`.\n",
        "\n",
        "<div class=\"question question-multiplechoice\">\n",
        "<b>Submission Material 1a:</b> In your submitted pdf, please include the generated figure.\n",
        "Name this figure as Figure 1a.\n",
        "</div>\n",
        "\n",
        "Let's get some intuition about the geometry. Please generate a second 2D scatter plot of\n",
        "1000 samples drawn from a 2D Gaussian distribution. You should pick the mean and covariance\n",
        "so that the figure is shown as a ellipse that has a 45-degree angle with the x-y axes.\n",
        "Specifically, try to modify the mean and covariance to rotate the figure 1a by 45-degree counter-clockwise.\n",
        "\n",
        "<div class=\"question question-multiplechoice\">\n",
        "<b>Submission Material 1b:</b> In your submitted pdf, please include the generated figure.\n",
        "Name this figure as Figure 1b.\n",
        "</div>"
      ],
      "id": "08523c86"
    },
    {
      "cell_type": "markdown",
      "metadata": {
        "id": "b4ce3162"
      },
      "source": [
        "### Experiment 2: Motion Noises\n",
        "\n",
        "We have provided a simulator class for you, that simulates the noisy motion\n",
        "and sensing of the robot. Let's begin by exploring what happens if we don't\n",
        "actually do any inference, and assume we always know where the robot is.\n",
        "\n",
        "We have provided a method `drive_in_a_square` that simulates the motion of the\n",
        "robot driving around the perimeter of a 10 x 10 square. If you call this\n",
        "method, you will get a list of poses representing the ''true'' trajectory of\n",
        "the robot.\n",
        "\n",
        "Please run the method twice, once with the simulator.motion_noise_covariance\n",
        "set to `zeros((2, 2))` and once with the simulator.motion_noise_covariance set\n",
        "to `[[.001, 0], [0, np.deg2rad(3)**2]]`. You should see a significant difference\n",
        "between the trajectory without noise, and the trajectory with noise. If on each step we\n",
        "knew the noise, the noise wouldn't be a problem. We could just correct for it\n",
        "as we steer the robot, but the problem is we **don't** know what the noise is\n",
        "-- it's just the random perturbations added by nature. We have to use the\n",
        "sensors to know where the robot is and correct for the\n",
        "''drift'' in the robot motion. **That** is why we perform inference.\n",
        "\n",
        "**Hint**: take a look at the helper function `plot_trajectory` to generate the trajectory plot.\n",
        "\n",
        "<!-- eighth_experiment() -->\n",
        "<div class=\"question question-multiplechoice\">\n",
        "<b>Submission Material 2:</b> In your submitted pdf, please include a single figure which has both\n",
        "experiment results overlapped on each other. Name this figure as Figure 2.\n",
        "</div>\n",
        "\n",
        "Now we've convinced ourselves of the need for inference, let us implement\n",
        "the two functions we need for sampling-based inference.\n"
      ],
      "id": "b4ce3162"
    },
    {
      "cell_type": "markdown",
      "metadata": {
        "id": "e83223a0"
      },
      "source": [
        "### Sampling Question 1\n",
        "\n",
        "Let us now start by building a motion model for a\n",
        "simple ground robot that moves in straight lines, and performs point turns.\n",
        "\n",
        "A common motion model for such a robot assumes that the robot has a pose given\n",
        "by $[x_t, y_t, \\theta_t]$ at time $t$. The robot takes a command $[\\Delta p_t,\n",
        "\\Delta \\theta_t]$ which modifies the robot's pose according to the following:\n",
        "\n",
        "$$\n",
        "\\begin{bmatrix} x_{t+1} \\\\ y_{t+1} \\\\ \\theta_{t+1} \\end{bmatrix} =\n",
        "\\begin{bmatrix} x_t + \\cos(\\theta_t) (\\Delta p_t + \\omega_t) \\\\\n",
        "y_t + \\sin(\\theta_t)(\\Delta p_t + \\omega_t) \\\\\n",
        "\\theta_t + \\Delta \\theta_t + \\nu_t\n",
        "\\end{bmatrix}\n",
        "$$\n",
        "\n",
        "where $[\\omega_t, \\nu_t]$ is Gaussian error injected at each time\n",
        "step, distributed as $\\omega_t \\sim \\mathcal{N}(0, \\sigma^2_p)$, and\n",
        "$\\nu_t \\sim \\mathcal{N}(0, \\sigma^2_\\theta)$. The units of $\\Delta  p_t$ is in\n",
        "metres and $\\Delta \\theta_t$ in radians.\n",
        "\n",
        "Let us assume that the robot's pose at each time step is a random variable,\n",
        "represented as a set of samples.\n",
        "\n",
        "Please implement a function that takes in a set of sampled poses\n",
        "drawn from prior pose random variable $\\mathbf{X}_t$\n",
        "and a control $[\\Delta p_t, \\Delta \\theta_t]$ and returns a set\n",
        "of samples drawn from the posterior $X_{t+1}$.\n",
        "\n",
        "**Hint**: Use `np.random.multivariate_normal` to generate the noise.\n",
        "\n",
        "\n",
        "For reference, our solution is **8** lines of code."
      ],
      "id": "e83223a0"
    },
    {
      "cell_type": "code",
      "metadata": {
        "id": "ad359307"
      },
      "source": [
        "def motion_model(samples, command, motion_noise_covariance):\n",
        "  \"\"\"A motion model that simulates a one-step movement of the robot,\n",
        "  and updates the samples.\n",
        "\n",
        "  Args:\n",
        "    samples: a list of samples, given as a numpy array.\n",
        "    command: a Command tuple containing fields delta_p(float), the distance of the\n",
        "    movement, and delta_theta(float), the rotation of the movement.\n",
        "    motion_noise_covariance: a 2x2 numpy array for the motion covariance.\n",
        "\n",
        "  Returns:\n",
        "    new_samples: a numpy array of new samples by applying the motion model. Same size as the input samples.\n",
        "  \"\"\"\n",
        "  raise NotImplementedError(\"Implement me!\")"
      ],
      "id": "ad359307",
      "execution_count": null,
      "outputs": []
    },
    {
      "cell_type": "markdown",
      "metadata": {
        "id": "bb56b102"
      },
      "source": [
        "Tests"
      ],
      "id": "bb56b102"
    },
    {
      "cell_type": "code",
      "metadata": {
        "id": "c3c919d4"
      },
      "source": [
        "import random; import numpy.random; random.seed(0); numpy.random.seed(0);\n",
        "assert np.allclose(motion_model(np.array([[ 0.14940791,  0.03336743, -0.01790344],  [-0.08540957,  0.03130677, -0.22279039],  [ 0.08644362,  0.06536186, -0.06476612],  [-0.14543657,  0.22697546,  0.00399318],  [ 0.15327792, -0.01871839,  0.12822574],  [ 0.03781625,  0.01549474, -0.07747392],  [-0.03479121, -0.19807965,  0.01364402],  [ 0.12023798,  0.12302907, -0.03380064],  [-0.1048553 , -0.03023028, -0.12391994],  [ 0.19507754, -0.17062702, -0.04447554]], dtype=np.float64), Command(1, 0), [[0.01, 0], [0, 0.007615435494667714]]), np.array([[ 1.32562461,  0.01230686,  0.01701687],  [ 0.98532995, -0.21127054, -0.02723557],  [ 1.27071128, -0.01144598, -0.1500497 ],  [ 0.94956354,  0.23134802, -0.00921522],  [ 1.13483111,  0.10783636,  0.16405722],  [ 1.0491778 , -0.06301655,  0.04943538],  [ 1.0412124 , -0.18339772,  0.02426217],  [ 1.16402777,  0.08773486, -0.00468206],  [ 1.03573866, -0.17230058, -0.14182338],  [ 1.22536448, -0.21647983, -0.11900946]], dtype=np.float64), atol=1e-6)\n",
        "print('Tests passed.')"
      ],
      "id": "c3c919d4",
      "execution_count": null,
      "outputs": []
    },
    {
      "cell_type": "markdown",
      "metadata": {
        "id": "66bc89b3"
      },
      "source": [
        "### Experiment 3: Update with a Motion Model: 1\n",
        "\n",
        "Now that you have implemented these, let's play with the noise\n",
        "parameters. Let's first use the default motion parameters, of $\\sigma^2_p = 1$\n",
        "and $\\sigma^2_\\theta = 1$. Let's assume our initial estimate of the robot's\n",
        "pose is a Gaussian with `mean = [0, 0, 0]` and `covariance = [[.01, 0, 0], [0, .01,\n",
        "0], [0, 0, np.deg2rad(5)**2]]`. Please sample 1000 samples from this initial estimate and\n",
        "propagate the samples through the motion model twice, using a control of\n",
        "$\\Delta p = 1m$ and $\\Delta \\theta = 0$ both times.\n",
        "\n",
        "Please generate plots of the [x, y] component of the samples after the first and\n",
        "second motions (two separate plots).\n",
        "This is pretty noisy motion! You should see the samples much\n",
        "more spread out than they were at the start.  Why is the distribution long and\n",
        "skinny after one motion, and then really spread out after the second motion?\n",
        "\n",
        "<!-- second_experiment() -->\n",
        "<div class=\"question question-multiplechoice\">\n",
        "<b>Submission Material 3:</b> In your submitted pdf, please include the generated figures.\n",
        "Name them as Figure 3a and 3b.\n",
        "</div>\n"
      ],
      "id": "66bc89b3"
    },
    {
      "cell_type": "markdown",
      "metadata": {
        "id": "1408c4fd"
      },
      "source": [
        "### Experiment 4: Update with a Motion Model: 2\n",
        "\n",
        "Now let's try reducing the noise parameters. Let's set $\\sigma^2_p = .01$ and\n",
        "$\\sigma^2_\\theta = \\text{np.deg2rad}(.5)^2$. Please generate plots of the [x, y]\n",
        "component of 1000 samples after the same first and second motions as above. The\n",
        "particle set should be much more compact than before, and track the motion you\n",
        "commanded.\n",
        "\n",
        "<!-- third_experiment() -->\n",
        "<div class=\"question question-multiplechoice\">\n",
        "<b>Submission Material 4:</b> In your submitted pdf, please include the generated figures.\n",
        "Name them as Figure 4a and 4b.\n",
        "</div>\n"
      ],
      "id": "1408c4fd"
    },
    {
      "cell_type": "markdown",
      "metadata": {
        "id": "7f79813b"
      },
      "source": [
        "### Experiment 5: Update with a Motion Model: 3\n",
        "\n",
        "For both of the two experiments above, we're taking pretty big motions,\n",
        "commanding a metre at a time. A mobile robot would generally send commands and\n",
        "get measurements at a much higher frequency. Let's say the robot is sending\n",
        "commands at 10 Hz, and travelling at 1 m/s. Please implement a method that\n",
        "moves the robot the same 2m forward, but in .1 m increments. Please upload a\n",
        "plot of the [x, y] component of the samples after 2 m.\n",
        "\n",
        "In this question, please use the same reduced noise parameters: $\\sigma^2_p = .01$ and\n",
        "$\\sigma^2_\\theta = \\text{np.deg2rad}(.5)^2$.\n",
        "\n",
        "<!-- fourth_experiment() -->\n",
        "<div class=\"question question-multiplechoice\">\n",
        "<b>Submission Material 5:</b> In your submitted pdf, please include the generated figure.\n",
        "Name this figure as Figure 5.\n",
        "</div>\n"
      ],
      "id": "7f79813b"
    },
    {
      "cell_type": "markdown",
      "metadata": {
        "id": "1c0119e5"
      },
      "source": [
        "### Experiment 6: Update with a Motion Model: 4\n",
        "\n",
        "Even though all we did is changed how often we sent a command to the robot,\n",
        "the sample set is much more spread out. You might think that the uncertainty\n",
        "in the robot's position is independent of things like control frequency, but\n",
        "this plot should show you that they aren't. When we adjust the control\n",
        "frequency, we also have to adjust the model parameters.\n",
        "\n",
        "Let's set $\\sigma^2_p = .001$. In your submitted pdf, plaese include plots of the [x, y] component of\n",
        "1000 samples after the same first and second motions as above. The particle set\n",
        "should be much more compact again, and track the motion you commanded.\n",
        "\n",
        "<!-- fifth_experiment() -->\n",
        "<div class=\"question question-multiplechoice\">\n",
        "<b>Submission Material 6:</b> In your submitted pdf, please include the generated figure.\n",
        "Name this figure as Figure 6.\n",
        "</div>\n"
      ],
      "id": "1c0119e5"
    },
    {
      "cell_type": "markdown",
      "metadata": {
        "id": "0e059568"
      },
      "source": [
        "### Experiment 7: Update with a Motion Model: 5\n",
        "\n",
        "What happens when our motion model has worse rotation noise than translation\n",
        "noise? Let's leave $\\sigma^2_p = .001$ but set $\\sigma^2_\\theta =\n",
        "\\text{np.deg2rad}(30)^2$. Please generate plots of the [x, y] component of the samples\n",
        "after 1m, 2m and 3m of motion made in 1m increments. You should see the samples are\n",
        "tightly contained, but are in a curved shape. This shape is a result of the\n",
        "non-linear relationship between orientation and position, and is one of the\n",
        "reasons we often use sampling for localization, rather than a parametric form\n",
        "such as a Gaussian.\n",
        "\n",
        "<!-- sixth_experiment() -->\n",
        "<div class=\"question question-multiplechoice\">\n",
        "<b>Submission Material 7:</b> In your submitted pdf, please include the generated figures.\n",
        "Name them as Figure 7a, 7b, and 7c.\n",
        "</div>\n",
        "\n"
      ],
      "id": "0e059568"
    },
    {
      "cell_type": "markdown",
      "metadata": {
        "id": "422c7b44"
      },
      "source": [
        "### Experiment 8: Update with a Motion Model: 6\n",
        "\n",
        "We still have the relationship between the noise parameters and the control\n",
        "frequency. Let's leave $\\sigma^2_p = .001$ but set $\\sigma^2_\\theta =\n",
        "\\text{np.deg2rad}(3)^2$. Please generate a plot of the sample distribution after 3m of\n",
        "motion, but after 30 motions of $.1m$.\n",
        "\n",
        "<!-- seventh_experiment() -->\n",
        "<div class=\"question question-multiplechoice\">\n",
        "<b>Submission Material 8:</b> In your submitted pdf, please include the generated figure.\n",
        "Name this figure as Figure 8.\n",
        "</div>\n"
      ],
      "id": "422c7b44"
    },
    {
      "cell_type": "markdown",
      "metadata": {
        "id": "041b844e"
      },
      "source": [
        "### Sampling Question 2\n",
        "\n",
        "Let us now add in a measurement model. Let us assume that\n",
        "there are four landmarks located at $(x, y)$ locations (-1, -1), (11, -1), (11, 11) and\n",
        "(-1, 11). The robot is equipped with a sensor that can measure the range and\n",
        "relative bearing [r, b] from the robot's location to each of these landmarks. If the\n",
        "robot's pose is $(x, y, \\theta)$ and the landmark position is $(l_x, l_y)$,\n",
        "then range is just the Euclidean distance $$r = \\sqrt{(l_x - x)^2 + (l_y\n",
        "-y)^2},$$\n",
        "and the bearing is the angle to the landmark in the robot's body frame (hence\n",
        "relative bearing), $$b = atan2(l_y - y, l_x - x) - \\theta.$$  Each of\n",
        "these measurements is corrupted with noise $[q_r, q_b]$ distributed according\n",
        "to $q_r \\sim \\mathcal{N}(0, \\sigma^2_r)$ and $q_b \\sim \\mathcal{N}(0,\n",
        "\\sigma^2_b)$.\n",
        "\n",
        "Please take a look at our implementation in `simulator.simulate_sensing` and\n",
        "understand how these values are computed.\n",
        "\n",
        "Now the problem is that for a real robot, even if you know this is the model\n",
        "that generates the measurements, you can't know the noise that is being\n",
        "applied. (That would be omniscience!) What we can do is work out how likely\n",
        "each measurement is.  More precisely, given a set of measurements, we can use\n",
        "this model to compute the importance weights of a set of samples of the robot\n",
        "pose.\n",
        "\n",
        "Please implement a function that takes a set of samples and measurements and\n",
        "returns the importance weights of the samples. We encourage you to implement a version\n",
        "that works for an arbitrary number of landmarks (e.g., more than 4). Although we will\n",
        "only test your implementation in settings with 4 landmarks.\n",
        "\n",
        "\n",
        "For reference, our solution is **16** lines of code."
      ],
      "id": "041b844e"
    },
    {
      "cell_type": "code",
      "metadata": {
        "id": "657a7d07"
      },
      "source": [
        "def compute_weights(samples, measurement, landmarks, sensor_noise_covariance):\n",
        "  \"\"\"Compute the importance weights of the samples, based on the new measurement.\n",
        "\n",
        "  Args:\n",
        "    samples: a list of samples.\n",
        "    measurement: a measurement vector. The measurement is computed by\n",
        "      simulator.simulate_sensing() function.\n",
        "    landmarks: a list of Landmark instances. They are namedtuples of (x, y).\n",
        "    sensor_noise_covariance: a 2x2 numpy array for the sensor noise for the\n",
        "    measurements of range and bearing to the landmarks. See the doc for\n",
        "    class `Measurement` and `simulator.simulator_sensing`\n",
        "\n",
        "  Returns:\n",
        "    weights: a numpy array of importance weights.\n",
        "  \"\"\"\n",
        "  raise NotImplementedError(\"Implement me!\")"
      ],
      "id": "657a7d07",
      "execution_count": null,
      "outputs": []
    },
    {
      "cell_type": "markdown",
      "metadata": {
        "id": "e039a5b3"
      },
      "source": [
        "Tests"
      ],
      "id": "e039a5b3"
    },
    {
      "cell_type": "code",
      "metadata": {
        "id": "dc1bf427"
      },
      "source": [
        "import random; import numpy.random; random.seed(0); numpy.random.seed(0);\n",
        "assert np.allclose(compute_weights(np.array([[ 0.06536186, -0.25529898,  0.07543629],  [ 0.22697546, -0.0742165 , -0.12691735],  [-0.01871839,  0.00457585,  0.13376022],  [ 0.01549474,  0.14693588,  0.03300091],  [-0.19807965, -0.08877857, -0.03036106],  [ 0.12302907,  0.0156349 ,  0.10492744],  [-0.03023028, -0.03873268, -0.09150351],  [-0.17062702, -0.14200179,  0.17023727],  [-0.04380743, -0.05096522, -0.10932702],  [-0.16138978,  0.07774904, -0.01856509]], dtype=np.float64), [Measurement(r=0.5187470011794195, b=-2.3224308778331726), Measurement(r=0.9034084248042221, b=-2.4592240845320847), Measurement(r=15.52816695776539, b=0.8227771705573576), Measurement(r=11.111878239570428, b=1.6878518665472155)], [Landmark(x=-1, y=-1), Landmark(x=-1, y=-1), Landmark(x=11, y=11), Landmark(x=-1, y=11)], np.array([[1.        , 0.        ],  [0.        , 0.00761544]], dtype=np.float64)), np.array([0.00093525, 0.20265774, 0.01294748, 0.36825098, 0.18785768, 0.01952611, 0.13269058, 0.00078359, 0.05323473, 0.02111586], dtype=np.float64), atol=1e-6)\n",
        "print('Tests passed.')"
      ],
      "id": "dc1bf427",
      "execution_count": null,
      "outputs": []
    },
    {
      "cell_type": "markdown",
      "metadata": {
        "id": "bda3500c"
      },
      "source": [
        "### Main Question\n",
        "\n",
        "Now let's put everything together. We've given you a method\n",
        "test_localization() that does the following:\n",
        "  * Initializes a set of samples drawn from a Gaussian distribution with mean\n",
        "equal to the robot starting position, and a diagonal covariance matrix equal\n",
        "to np.diag(1, 1, np.deg2rad(5))^2.\n",
        "  * Drives the robot along the same pattern as in the drive_in_a_square method,\n",
        "but on each step, after the command motion do the following:\n",
        "    * Simulates measurements.\n",
        "    * Update the samples based on the measurements.\n",
        "\n",
        "What we want you to do is to write a method for step 4: `update_samples` that takes in a\n",
        "set of samples, the most recent command, the most recent measurement, and the\n",
        "motion and sensor covariances and does the following:\n",
        "  * use the motion_model method to update the sample based on the command\n",
        "  * use compute_weights to compute the sample weights from the\n",
        "measurement,\n",
        "  * resample a new set of samples,\n",
        "  * blur the samples by applying noise drawn from a zero-mean Gaussian with\n",
        "covariance equal to `np.diag(.001, .001, np.deg2rad(1))^2`. (You'll need to\n",
        "recall from lecture why we do this blurring --- if you have machine learning\n",
        "background, it's a form of regularization, but you don't need to know about\n",
        "regularization to understand why this is important.)\n",
        "\n",
        "\n",
        "For reference, our solution is **14** lines of code.\n",
        "\n",
        "In addition to all of the utilities defined at the top of the colab notebook, the following functions are available in this question environment: `compute_weights`, `motion_model`. You may not need to use all of them."
      ],
      "id": "bda3500c"
    },
    {
      "cell_type": "code",
      "metadata": {
        "id": "d09c5a83"
      },
      "source": [
        "def update_samples(samples, command, measurement, landmarks, motion_noise_covariance, sensor_noise_covariance):\n",
        "  \"\"\"Update the samples, based on the command and the new measurement.\n",
        "\n",
        "  Args:\n",
        "    samples: a list of samples.\n",
        "    command: a Command tuple containing fields delta_p(float), the distance of the\n",
        "    movement, and delta_theta(float), the rotation of the movement.\n",
        "    measurement: a measurement vector. The measurement is computed by\n",
        "      simulator.simulate_sensing() function.\n",
        "    landmarks: a list of Landmark instances. They are namedtuples of (x, y).\n",
        "    motion_noise_covariance: a 2x2 numpy array for the motion covariance.\n",
        "    sensor_noise_covariance: a 2x2 numpy array for the sensor noise for the\n",
        "    measurements of range and bearing to the landmarks\n",
        "\n",
        "  Returns:\n",
        "    weights: a numpy array of importance weights.\n",
        "  \"\"\"\n",
        "  raise NotImplementedError(\"Implement me!\")"
      ],
      "id": "d09c5a83",
      "execution_count": null,
      "outputs": []
    },
    {
      "cell_type": "markdown",
      "metadata": {
        "id": "1c739bcf"
      },
      "source": [
        "Tests"
      ],
      "id": "1c739bcf"
    },
    {
      "cell_type": "code",
      "metadata": {
        "id": "7f0dfe3b"
      },
      "source": [
        "import random; import numpy.random; random.seed(0); numpy.random.seed(0);\n",
        "ret = update_samples(np.array([[ 0.12654082,  0.55784233,  0.085411  ],  [ 0.59057369,  0.70863265, -0.08528358],  [-0.04786335,  0.30044434, -0.00900754],  [ 0.04555058,  0.12984265,  0.1269093 ],  [ 0.03847702,  0.24066126,  0.03873437],  [ 0.47246929,  0.10551709, -0.01790344],  [-0.27008879,  0.0990007 , -0.22279039],  [ 0.27335873,  0.20669235, -0.06476612],  [-0.45991081,  0.71775943,  0.00399318],  [ 0.48470735, -0.05919273,  0.12822574]], dtype=np.float64), Command(1, 0.7853981633974483), [Measurement(r=1.4878822442234976, b=-4.0435354339861895), Measurement(r=2.0277558425274576, b=-3.8570343116094588), Measurement(r=15.992575740663117, b=-0.21788536673740827), Measurement(r=10.821767633417135, b=0.5743090660168355)], [Landmark(x=-1, y=-1), Landmark(x=-1, y=-1), Landmark(x=11, y=11), Landmark(x=-1, y=11)], np.array([[1., 0.],  [0., 1.]], dtype=np.float64), np.array([[1.        , 0.        ],  [0.        , 0.00761544]], dtype=np.float64))\n",
        "target = np.array([[0.98105071, 0.32385957, 1.23743538],  [1.68612052, 0.12520285, 1.01973495],  [0.9395297 , 0.26438688, 1.25620366],  [0.92233716, 0.31341142, 1.22945486],  [0.8896806 , 0.24223067, 1.20495101],  [1.69807815, 0.17493323, 1.04666054],  [0.95917191, 0.23577196, 1.20656321],  [0.90626837, 0.26866139, 1.24148376],  [0.89725064, 0.25923575, 1.23423917],  [0.93668897, 0.28893387, 1.24001017]], dtype=np.float64)\n",
        "assert all((np.allclose(x, y, atol=1e-6) for x, y in zip(ret, target)))\n",
        "print('Tests passed.')"
      ],
      "id": "7f0dfe3b",
      "execution_count": null,
      "outputs": []
    },
    {
      "cell_type": "markdown",
      "metadata": {
        "id": "b51bb403"
      },
      "source": [
        "### Simulation, Sensing, and Localization\n",
        "\n",
        "Let's test this out. Using the same motion noise that we used for the initial\n",
        "experiments at the beginning of this miniproject that convinced us we needed\n",
        "inference ($\\sigma^2_p = .001, \\sigma^2_\\theta = \\text{np.deg2rad}(3)^2$), and sensor\n",
        "noise where $\\sigma^2_r = 1$ and $\\sigma^2_b = \\text{np.deg2rad}(5)^2$, please\n",
        "generate a plot of the vehicle trying to execute the same 10m square\n",
        "trajectory, but in .1m increments. And also plot the x/y mean of the sample\n",
        "estimates using measurements simulated after each motion using the\n",
        "`simulator.simulate_sensing()` method we provided.\n",
        "\n",
        "If everything is working, your estimated and ground truth curves should match\n",
        "up closely, but not exactly. (You should be very suspicious if they match up\n",
        "exactly.)\n",
        "\n",
        "Please take a look at the provided implementation of `test_localization()`.\n",
        "Use this function to simulate the motion, collect sensory data, and perform localization.\n",
        "You can use the `plot_trajectories` helpful function to generate the plots.\n",
        "\n",
        "<!-- ninth_experiment() -->\n",
        "<div class=\"question question-multiplechoice\">\n",
        "<b>Submission Material 9:</b> In your submitted pdf, please include the generated figure.\n",
        "Name this figure as Figure 9.\n",
        "</div>\n"
      ],
      "id": "b51bb403"
    },
    {
      "cell_type": "code",
      "metadata": {
        "id": "9852f10b"
      },
      "source": [
        "def test_localization(simulator):\n",
        "  num_samples = 10  # number of initial samples.\n",
        "  mean = simulator.robot\n",
        "  covariance = [[.1, 0, 0], [0, .1, 0], [0, 0, np.deg2rad(5)**2]]\n",
        "  samples = np.random.multivariate_normal(mean, covariance, num_samples)\n",
        "\n",
        "  true_poses = []\n",
        "  true_poses.append(simulator.robot)\n",
        "  estimated_poses = []\n",
        "  estimated_poses.append(mean)\n",
        "\n",
        "  for sides in range(4):\n",
        "    # Straight line motion\n",
        "    for i in range(10):  # we have lowered the resolution to make the code run faster.\n",
        "      command = Command(1, 0)\n",
        "\n",
        "      # Step 1: Simulate the robot motion and append it to true_poses.\n",
        "      simulator.simulate_motion(command)\n",
        "      true_poses.append(simulator.robot)\n",
        "      measurement = simulator.simulate_sensing()\n",
        "\n",
        "      # Step 2: Compute the estimated motion based on the commanded motion and\n",
        "      # received measurement using update_samples and then append the mean of\n",
        "      # the samples to estimated_poses.\n",
        "      samples = update_samples(samples, command, measurement,\n",
        "                               simulator.landmarks,\n",
        "                               simulator.motion_noise_covariance,\n",
        "                               simulator.sensor_noise_covariance)\n",
        "      estimated_poses.append(np.mean(samples, axis=0))\n",
        "\n",
        "    # Turn left 90 degrees\n",
        "    command = Command(0, np.deg2rad(90))\n",
        "\n",
        "    # Step 1: Simulate the robot motion and append it to true_poses.\n",
        "    simulator.simulate_motion(command)\n",
        "    true_poses.append(simulator.robot)\n",
        "    measurement = simulator.simulate_sensing()\n",
        "\n",
        "    # Step 2: Compute the estimated motion based on the measurement and append it to estimated_poses.\n",
        "    # You can use the resample helper function to resample and add noise.\n",
        "    samples = update_samples(samples, command, measurement,\n",
        "                             simulator.landmarks,\n",
        "                             simulator.motion_noise_covariance,\n",
        "                             simulator.sensor_noise_covariance)\n",
        "    estimated_poses.append(np.mean(samples, axis=0))\n",
        "\n",
        "  return np.array(true_poses), np.array(estimated_poses)"
      ],
      "id": "9852f10b",
      "execution_count": null,
      "outputs": []
    }
  ]
}