{
  "nbformat": 4,
  "nbformat_minor": 0,
  "metadata": {
    "colab": {
      "name": "“hw04.ipynb”的副本",
      "provenance": [],
      "collapsed_sections": []
    },
    "kernelspec": {
      "display_name": "Python 3",
      "name": "python3"
    },
    "language_info": {
      "name": "python"
    }
  },
  "cells": [
    {
      "cell_type": "markdown",
      "metadata": {
        "id": "VPyXvRLz9fxS"
      },
      "source": [
        "# Homework 4"
      ]
    },
    {
      "cell_type": "markdown",
      "metadata": {
        "id": "OEFv8Bmy9fxV"
      },
      "source": [
        "## Imports and Utilities\n",
        "**Note**: these imports and functions are available in catsoop. You do not need to copy them in."
      ]
    },
    {
      "cell_type": "code",
      "metadata": {
        "id": "FBEoBSfb9fxW"
      },
      "source": [
        "## Same as hw03\n",
        "from collections import namedtuple\n",
        "import itertools\n",
        "import numpy as np\n",
        "\n",
        "\n",
        "class RV:\n",
        "  \"\"\"A random variable with a finite domain.\n",
        "\n",
        "  Example usage:\n",
        "    A = RV(\"A\", [\"x\", \"y\", \"z\"])\n",
        "    print(A.domain)\n",
        "    print(A.dim)\n",
        "    B = RV(\"B\", [(0, 0), (0, 1), (0, 2)]))\n",
        "    print(B.domain)\n",
        "    print(B.dim)\n",
        "  \"\"\"\n",
        "  def __init__(self, name, domain):\n",
        "    \"\"\"Initialize a RV.\n",
        "\n",
        "    Args:\n",
        "      name: str name for the RV.\n",
        "      domain: list or tuple of domain values.\n",
        "    \"\"\"\n",
        "    assert isinstance(domain, (list, tuple))\n",
        "    self.name = name\n",
        "    self.domain = domain\n",
        "    self.dim = len(domain)\n",
        "\n",
        "  def __hash__(self):\n",
        "    return hash((self.name, tuple(self.domain)))\n",
        "\n",
        "  def __eq__(self, other):\n",
        "    return self.name == other.name and self.domain == other.domain\n",
        "\n",
        "  def __repr__(self):\n",
        "    return f\"RV('{self.name}', {self.domain})\"\n",
        "\n",
        "\n",
        "class Potential:\n",
        "  \"\"\"A potential over RVs.\n",
        "\n",
        "  Example usage:\n",
        "    A = RV(\"varA\", [\"x\", \"y\", \"z\"])\n",
        "    B = RV(\"varB\", [0, 1])\n",
        "    table = np.array([\n",
        "      [0.1, 0.0],\n",
        "      [0.4, 0.9],\n",
        "      [0.5, 0.1]\n",
        "    ])\n",
        "    potential = Potential([A, B], table)\n",
        "    print(potential.rvs)\n",
        "    print(potential.get((\"y\", 0)))\n",
        "    print(potential.get_by_rvs({A: \"y\", B: 0}))\n",
        "    print(potential.get_by_names({\"varA\": \"y\", \"varB\": 0}))\n",
        "  \"\"\"\n",
        "  def __init__(self, rvs, table):\n",
        "    \"\"\"Create a potential from a list of RVs and a numpy array.\n",
        "\n",
        "    The order of the random variables corresponds to the axes\n",
        "    of the numpy array.\n",
        "\n",
        "    Args:\n",
        "      rvs: A list or tuple of RVs.\n",
        "      array: A numpy array of potential values.\n",
        "\n",
        "    Returns:\n",
        "      potential: A Potential.\"\"\"\n",
        "    assert isinstance(rvs, (tuple, list))\n",
        "    assert len(rvs) == len(table.shape)\n",
        "    assert all(rv.dim == dim for (rv, dim) in zip(rvs, table.shape))\n",
        "    assert isinstance(table, np.ndarray)\n",
        "    self.rvs = rvs\n",
        "    self.table = table\n",
        "\n",
        "  def set(self, assignment, new_value):\n",
        "    \"\"\"Given a complete assignment and a value, update table.\n",
        "\n",
        "    Args:\n",
        "      assignment: A tuple of values in the order of self.rv.\n",
        "      new_value: A new value to add to the table.\n",
        "\n",
        "    Returns:\n",
        "      value: The value in self.table.\n",
        "    \"\"\"\n",
        "    assert len(assignment) == len(self.rvs)\n",
        "    indices = [None for _ in self.rvs]\n",
        "    for index, value in enumerate(assignment):\n",
        "      rv = self.rvs[index]\n",
        "      indices[index] = rv.domain.index(value)\n",
        "    self.table[tuple(indices)] = new_value\n",
        "\n",
        "  def get(self, assignment):\n",
        "    \"\"\"Given a complete assignment of values, lookup table value.\n",
        "\n",
        "    Args:\n",
        "      assignment: A tuple of values in the order of self.rv.\n",
        "\n",
        "    Returns:\n",
        "      value: The value in self.table.\n",
        "    \"\"\"\n",
        "    assert len(assignment) == len(self.rvs)\n",
        "    indices = [None for _ in self.rvs]\n",
        "    for index, value in enumerate(assignment):\n",
        "      rv = self.rvs[index]\n",
        "      indices[index] = rv.domain.index(value)\n",
        "    return self.table[tuple(indices)]\n",
        "\n",
        "  def get_by_rvs(self, rvs_to_vals):\n",
        "    \"\"\"Given a complete assignment of RVs to values, lookup table value.\n",
        "\n",
        "    Args:\n",
        "      rvs_to_values: A dict from RVs to values in their domains.\n",
        "\n",
        "    Returns:\n",
        "      value: The value in self.table.\n",
        "    \"\"\"\n",
        "    assert set(rvs_to_vals.keys()) == set(self.rvs)\n",
        "    indices = [None for _ in self.rvs]\n",
        "    for rv, value in rvs_to_vals.items():\n",
        "      index = self.rvs.index(rv)\n",
        "      indices[index] = rv.domain.index(value)\n",
        "    return self.table[tuple(indices)]\n",
        "\n",
        "  def get_by_names(self, rv_name_dict):\n",
        "    \"\"\"Given a dict from RV names (strs) to assignments,\n",
        "    return the corresponding value in the potential table.\n",
        "\n",
        "    Args:\n",
        "      rv_name_dict: A dict from str names to values.\n",
        "      potential: A Potential.\n",
        "\n",
        "    Returns:\n",
        "      value: The float value from potential.table.\n",
        "    \"\"\"\n",
        "    assert len(rv_name_dict) == len(self.rvs)\n",
        "    rv_name_to_rv = {rv.name: rv for rv in self.rvs}\n",
        "    rvs_to_vals = {}\n",
        "    for rv_name, value in rv_name_dict.items():\n",
        "      rv = rv_name_to_rv[rv_name]\n",
        "      rvs_to_vals[rv] = value\n",
        "    return self.get_by_rvs(rvs_to_vals)\n",
        "\n",
        "  def __hash__(self):\n",
        "    return hash(tuple(self.rvs)) ^ hash(self.table.tobytes())\n",
        "\n",
        "  def __eq__(self, other):\n",
        "    return hash(self) == hash(other)\n",
        "\n",
        "  def __neq__(self, other):\n",
        "    return not (self == other)\n",
        "\n",
        "  def allclose(self, other, decimals=6):\n",
        "    \"\"\"Check whether two potentials are (nearly) equal.\n",
        "    \"\"\"\n",
        "    if set(self.rvs) != set(other.rvs):\n",
        "      raise ValueError(\"Can only compare potentials with the same RVs.\")\n",
        "    new_idxs = [other.rvs.index(rv) for rv in self.rvs]\n",
        "    trans_table2 = np.transpose(other.table, new_idxs)\n",
        "    assert self.table.shape == trans_table2.shape\n",
        "    return np.allclose(self.table, trans_table2)\n",
        "\n",
        "\n",
        "def iter_joint_values(rvs):\n",
        "  \"\"\"Iterates over joint assignments for a list of RVs.\n",
        "\n",
        "  Returns an iterator that can be used in a for loop.\n",
        "\n",
        "  Example usage:\n",
        "    for assignment in iter_joint_values(rvs):\n",
        "      print(assignment)  # a tuple\n",
        "      assert assignment[0] in rvs[0].domain\n",
        "\n",
        "  Args:\n",
        "    rvs: A list of RVs.\n",
        "\n",
        "  Yields:\n",
        "    assignment: A tuple of ints representing a joint\n",
        "      assignment of the random variables.\n",
        "  \"\"\"\n",
        "  domains = [rv.domain for rv in rvs]\n",
        "  return itertools.product(*domains)\n",
        "\n",
        "\n",
        "def get_sub_assignment(rvs, assignment, sub_rvs):\n",
        "  \"\"\"Given an assignment of rvs to values, get a subassignment,\n",
        "  that is, a sub-tuple of the given assignment involving only\n",
        "  the given sub_rvs.\n",
        "\n",
        "  Example usage:\n",
        "    x = RV(\"x\", [0, 1])\n",
        "    y = RV(\"y\", [\"a\", \"b\"])\n",
        "    z = RV(\"z\", [3, 5])\n",
        "    rvs = (x, y, z)\n",
        "    assignment = (0, \"b\", 3)\n",
        "    sub_rvs = (z, x)\n",
        "    sub_assignment = get_sub_assignment(rvs, assignment, sub_rvs)\n",
        "    assert sub_assignment == (3, 0)\n",
        "\n",
        "  Args:\n",
        "    rvs: A tuple or list of RVs.\n",
        "    assignment: A tuple or list of values.\n",
        "    sub_rvs: A tuple or list of RVs, a subset of rvs.\n",
        "\n",
        "  Returns:\n",
        "    sub_assignment: A tuple of values.\n",
        "  \"\"\"\n",
        "  assert set(sub_rvs).issubset(set(rvs))\n",
        "  sub_assignment = []\n",
        "  for rv in sub_rvs:\n",
        "    idx = rvs.index(rv)\n",
        "    val = assignment[idx]\n",
        "    sub_assignment.append(val)\n",
        "  return tuple(sub_assignment)\n",
        "\n",
        "\n",
        "def multiply_potentials(potentials):\n",
        "  \"\"\"Multiply potentials together.\n",
        "\n",
        "  Args:\n",
        "    potentials: A list of Potentials.\n",
        "\n",
        "  Returns:\n",
        "    result: A new Potential.\n",
        "  \"\"\"\n",
        "  # Note: this implementation favors clarity over\n",
        "  # efficiency. If you are curious about a more\n",
        "  # efficient implementation, please ask course staff :)\n",
        "\n",
        "  # Collect all random variables\n",
        "  rvs = set()\n",
        "  for pot in potentials:\n",
        "    rvs |= set(pot.rvs)\n",
        "  rvs = list(rvs)\n",
        "\n",
        "  # Initialize result table\n",
        "  table = np.empty([rv.dim for rv in rvs])\n",
        "\n",
        "  # Initialize result potential\n",
        "  result = Potential(rvs, table)\n",
        "\n",
        "  # Iterate over assignments in the new potential\n",
        "  for assignment in iter_joint_values(rvs):\n",
        "    value = 1.\n",
        "    for pot in potentials:\n",
        "      # Get the sub-assignment\n",
        "      sub_assignment = get_sub_assignment(rvs, assignment, pot.rvs)\n",
        "      # Compute product\n",
        "      value *= pot.get(sub_assignment)\n",
        "    # Add value to result table\n",
        "    result.set(assignment, value)\n",
        "\n",
        "  # Finalize potential\n",
        "  return result\n",
        "\n",
        "\n",
        "### New for HW04 ###\n",
        "HMM = namedtuple(\"HMM\", [\n",
        "    \"state_rvs\",  # A list of RVs, one per timestep\n",
        "    \"observation_rvs\",  # A list of RVs, one per timestep\n",
        "    \"transition_potentials\",  # A list of Potentials, one per transition\n",
        "    \"observation_potentials\",  # A list of Potentials, one per timestep\n",
        "    \"initial_distribution\"  # A single Potential\n",
        "])\n",
        "\n",
        "\n",
        "def condition_potential(potential, condition):\n",
        "  \"\"\"Given a potential and an assignment of one or more RVs,\n",
        "    create a new potential representing the conditional.\n",
        "\n",
        "  Example usage:\n",
        "    A, B = RV('A', [\"x\", \"y\", \"z\"]), RV('B', [0, 1])\n",
        "    pot = Potential([A, B],\n",
        "      np.array([\n",
        "        [1, 0],\n",
        "        [0, 1],\n",
        "        [0, 0],\n",
        "    ]))\n",
        "    condition = {A: \"y\"}\n",
        "    result = condition_potential(pot, condition)\n",
        "    assert result.rvs == [B]\n",
        "    assert result.get_by_rvs({B: 0}) == 0\n",
        "    assert result.get_by_rvs({B: 1}) == 1\n",
        "\n",
        "  Args:\n",
        "    potential: A Potential.\n",
        "    condition: A dict from RVs to values.\n",
        "\n",
        "  Returns:\n",
        "    conditional_potential: A Potential.\n",
        "  \"\"\"\n",
        "  new_rvs = [rv for rv in potential.rvs if rv not in condition]\n",
        "  idxs = []\n",
        "  for rv in potential.rvs:\n",
        "    if rv in condition:\n",
        "      value = condition[rv]\n",
        "      idx = rv.domain.index(value)\n",
        "    else:\n",
        "      idx = slice(None)\n",
        "    idxs.append(idx)\n",
        "  new_table = potential.table[tuple(idxs)].copy()\n",
        "  return Potential(new_rvs, new_table)\n",
        "\n",
        "\n",
        "def normalize_potential(potential):\n",
        "  \"\"\"Normalize the values of a potential so they sum to 1.\n",
        "\n",
        "  Args:\n",
        "    potential: A Potential.\n",
        "\n",
        "  Returns:\n",
        "    new_potential: A Potential.\n",
        "  \"\"\"\n",
        "  denom = potential.table.sum()\n",
        "  if denom == 0:\n",
        "    raise Exception(\"WARNING: tried to normalize an all-zeros potential.\")\n",
        "  return Potential(potential.rvs, potential.table / denom)\n",
        "\n",
        "\n",
        "def max_potential(potential, rv=None):\n",
        "  \"\"\"Create a new potential where rv has been maximized out.\n",
        "\n",
        "  If rv is None, then this function returns the max\n",
        "  over all assignments in the potential.\n",
        "\n",
        "  Example usage:\n",
        "    A, B = RV('A', [\"x\", \"y\", \"z\"]), RV('B', [0, 1])\n",
        "    pot = Potential([A, B],\n",
        "      np.array([\n",
        "        [1., 5.],\n",
        "        [2, 6.],\n",
        "        [3., 4.],\n",
        "    ]))\n",
        "    assert max_potential(pot) == 6.\n",
        "    pot1 = max_potential(pot, rv=A)\n",
        "    assert pot1.rvs == [B]\n",
        "    assert pot1.get_by_rvs({B: 0}) == 3\n",
        "    assert pot1.get_by_rvs({B: 1}) == 6\n",
        "    pot2 = max_potential(pot, rv=B)\n",
        "    assert pot2.rvs == [A]\n",
        "    assert pot2.get_by_rvs({A: \"x\"}) == 5\n",
        "    assert pot2.get_by_rvs({A: \"y\"}) == 6\n",
        "    assert pot2.get_by_rvs({A: \"z\"}) == 4\n",
        "\n",
        "  Args:\n",
        "    potential: A Potential.\n",
        "    rv: A random variables in the potential or None.\n",
        "\n",
        "  Returns:\n",
        "    new_potential: A Potential.\n",
        "  \"\"\"\n",
        "  if rv is None:\n",
        "    return potential.table.max()\n",
        "  axis = potential.rvs.index(rv)\n",
        "  new_table = potential.table.max(axis=axis)\n",
        "  new_rvs = list(potential.rvs)\n",
        "  new_rvs.remove(rv)\n",
        "  return Potential(new_rvs, new_table)\n",
        "\n",
        "\n",
        "def argmax_potential(potential, rv=None):\n",
        "  \"\"\"Create a new \"potential\" where the values are domain assignments\n",
        "  of the given rv that lead to maximum values.\n",
        "\n",
        "  If rv is None, then this function returns the argmax assignment\n",
        "  over all assignments in the potential.\n",
        "\n",
        "  Example usage:\n",
        "    A, B = RV('A', [\"x\", \"y\", \"z\"]), RV('B', [0, 1])\n",
        "    pot = Potential([A, B],\n",
        "      np.array([\n",
        "        [1., 5.],\n",
        "        [2, 0.],\n",
        "        [3., 4.],\n",
        "    ]))\n",
        "    assert argmax_potential(pot) == (\"x\", 1)\n",
        "    pot1 = argmax_potential(pot, rv=A)\n",
        "    assert pot1.rvs == [B]\n",
        "    assert pot1.get_by_rvs({B: 0}) == \"z\"\n",
        "    assert pot1.get_by_rvs({B: 1}) == \"x\"\n",
        "    pot2 = argmax_potential(pot, rv=B)\n",
        "    assert pot2.rvs == [A]\n",
        "    assert pot2.get_by_rvs({A: \"x\"}) == 1\n",
        "    assert pot2.get_by_rvs({A: \"y\"}) == 0\n",
        "    assert pot2.get_by_rvs({A: \"z\"}) == 1\n",
        "\n",
        "  Args:\n",
        "    potential: A Potential.\n",
        "    rv: A random variable in the potential or None.\n",
        "\n",
        "  Returns:\n",
        "    new_potential: A Potential.\n",
        "  \"\"\"\n",
        "  if rv is None:\n",
        "    idxs = np.unravel_index(potential.table.argmax(), potential.table.shape)\n",
        "    return tuple(v.domain[idx] for v, idx in zip(potential.rvs, idxs))\n",
        "  axis = potential.rvs.index(rv)\n",
        "  new_table_idxs = potential.table.argmax(axis=axis)\n",
        "  new_table = np.empty(new_table_idxs.shape, dtype=object)\n",
        "  for idx, val in np.ndenumerate(new_table_idxs):\n",
        "    new_table[idx] = rv.domain[val]\n",
        "  new_rvs = list(potential.rvs)\n",
        "  new_rvs.remove(rv)\n",
        "  return Potential(new_rvs, new_table)\n",
        "\n",
        "\n",
        "def create_hmm(obstacle_map, num_timesteps, noise_prob=0.):\n",
        "  \"\"\"Converts a map into an HMM.\n",
        "\n",
        "  Creates the state RVs, the observation RVs, the transition potentials,\n",
        "  and the observation potentials.\n",
        "\n",
        "  You should not need to use this; it's used in tests.\n",
        "\n",
        "  Args:\n",
        "    obstacle_map: A list of lists of ints; see example and\n",
        "        description in `create_state_variable`.\n",
        "    num_timesteps: An int number of timesteps, must be >= 1.\n",
        "    noise_prob: Observation noise parameter.s\n",
        "\n",
        "  Returns:\n",
        "    problem: An HMM.\n",
        "  \"\"\"\n",
        "  assert num_timesteps >= 1\n",
        "\n",
        "  # Create variables\n",
        "  state_rvs = []\n",
        "  observation_rvs = []\n",
        "  for t in range(num_timesteps):\n",
        "    state_t = create_state_variable(obstacle_map, f\"state{t}\")\n",
        "    obs_t = create_observation_variable(f\"observation{t}\")\n",
        "    state_rvs.append(state_t)\n",
        "    observation_rvs.append(obs_t)\n",
        "\n",
        "  # Create observation potentials\n",
        "  observation_potentials = []\n",
        "  for state, obs in zip(state_rvs, observation_rvs):\n",
        "    obs_pot_t = create_observation_potential(obstacle_map, state, obs,\n",
        "                                             noise_prob=noise_prob)\n",
        "    observation_potentials.append(obs_pot_t)\n",
        "\n",
        "  # Create transition potentials\n",
        "  transition_potentials = []\n",
        "  if num_timesteps > 1:\n",
        "    for state_t, state_t1 in zip(state_rvs[:-1], state_rvs[1:]):\n",
        "      trans_pot_t = create_transition_potential(obstacle_map, state_t, state_t1)\n",
        "      transition_potentials.append(trans_pot_t)\n",
        "\n",
        "  # Create (uniform) initial state distribution\n",
        "  init_state_rv = state_rvs[0]\n",
        "  table = np.ones((init_state_rv.dim,)) / init_state_rv.dim\n",
        "  initial_distribution = Potential([init_state_rv], table)\n",
        "\n",
        "  return HMM(state_rvs, observation_rvs, transition_potentials,\n",
        "             observation_potentials, initial_distribution)\n",
        "\n"
      ],
      "execution_count": null,
      "outputs": []
    },
    {
      "cell_type": "markdown",
      "metadata": {
        "id": "Ji2u9Cgu9fxb"
      },
      "source": [
        "## Problems"
      ]
    },
    {
      "cell_type": "markdown",
      "metadata": {
        "id": "BkcIrMjw9fxc"
      },
      "source": [
        "### Conditioning Warmup\n",
        "Given a potential and a variable that occurs in it, return a new potential conditioned on the specified variable having value 0.\n",
        "\n",
        "For reference, our solution is **1** lines of code."
      ]
    },
    {
      "cell_type": "code",
      "metadata": {
        "id": "lLt4O_va9fxc"
      },
      "source": [
        "def conditioning_warmup(potential, rv):\n",
        "  \"\"\"Given a potential and a variable that occurs in it, return a new\n",
        "  potential conditioned on the specified variable having value 0.\n",
        "\n",
        "  Args:\n",
        "    potential: Potential\n",
        "    rv: A RV in the potential that has 0 in its domain.\n",
        "\n",
        "  Returns:\n",
        "    new_potential: Potential\n",
        "  \"\"\"\n",
        "  return condition_potential(potential,{rv:0})"
      ],
      "execution_count": null,
      "outputs": []
    },
    {
      "cell_type": "markdown",
      "metadata": {
        "id": "mcJBcgnQ9fxc"
      },
      "source": [
        "Tests"
      ]
    },
    {
      "cell_type": "code",
      "metadata": {
        "id": "sppgLoWf9fxd",
        "colab": {
          "base_uri": "https://localhost:8080/"
        },
        "outputId": "bfda72e3-63d6-4813-f252-1d821c3136cd"
      },
      "source": [
        "def conditioning_warmup_test():\n",
        "  A = RV(\"A\", [0, 1])\n",
        "  B = RV(\"B\", [0, 1])\n",
        "  pot = Potential(\n",
        "    rvs=[A, B],\n",
        "    table=np.array([\n",
        "      [0.98, 0.01],\n",
        "      [0.02, 0.99],\n",
        "    ])\n",
        "  )\n",
        "  cond_pot = conditioning_warmup(pot, B)\n",
        "  assert set(cond_pot.rvs) == {A}\n",
        "  assert cond_pot.get((0,)) == 0.98\n",
        "  assert cond_pot.get((1,)) == 0.02\n",
        "\n",
        "conditioning_warmup_test()\n",
        "print('Tests passed.')"
      ],
      "execution_count": null,
      "outputs": [
        {
          "output_type": "stream",
          "name": "stdout",
          "text": [
            "Tests passed.\n"
          ]
        }
      ]
    },
    {
      "cell_type": "markdown",
      "metadata": {
        "id": "3tttz-O59fxe"
      },
      "source": [
        "### State variable creation\n",
        "Write a function that creates a random variable for a state at a given time step in an obstacle HMM. The domain of the state variable should be a list of (row, col) indices into the map. Only free positions (not obstacles) should be included in the domain of the state variable. See docstring for more description.\n",
        "\n",
        "For reference, our solution is **3** lines of code."
      ]
    },
    {
      "cell_type": "code",
      "metadata": {
        "id": "x3T3nlaq9fxe"
      },
      "source": [
        "def create_state_variable(obstacle_map, name):\n",
        "  \"\"\"Creates a RV for the HMM state.\n",
        "\n",
        "  The state can be any position in the map.\n",
        "\n",
        "  Example map:\n",
        "    obstacle_map = [\n",
        "      [0, 0, 0, 0, 1, 0, 0, 0, 0, 0, 1, 0, 0, 0, 1, 0],\n",
        "      [1, 1, 0, 0, 1, 0, 1, 1, 0, 1, 0, 1, 0, 1, 1, 1],\n",
        "      [1, 0, 0, 0, 1, 0, 1, 1, 0, 0, 0, 0, 0, 1, 1, 0],\n",
        "      [0, 0, 1, 0, 0, 0, 1, 0, 0, 0, 0, 1, 0, 0, 0, 0]\n",
        "    ]\n",
        "\n",
        "  Ones are obstacles and zeros are free positions.\n",
        "\n",
        "  The domain of the state variable should be a list of (row, col)\n",
        "  indices into the map. Only free positions (not obstacles) should\n",
        "  be included in the domain of the state variable.\n",
        "\n",
        "  The domain should be in row-major order. For example, an empty\n",
        "  2x2 obstacle map should lead to the domain:\n",
        "\n",
        "    [(0, 0), (0, 1), (1, 0), (1, 1)].\n",
        "\n",
        "  Args:\n",
        "    obstacle_map: A list of lists of ints, see example above.\n",
        "    name: A str name for the state variable.\n",
        "\n",
        "  Returns:\n",
        "    state_var: A RV as described above.\n",
        "  \"\"\"\n",
        "  domain =[]\n",
        "  for i in range(len(obstacle_map)):\n",
        "    for j in range(len(obstacle_map[0])):\n",
        "      if obstacle_map[i][j] == 0:\n",
        "        domain.append((i,j))\n",
        "  A = RV(name, domain)\n",
        "  return A"
      ],
      "execution_count": null,
      "outputs": []
    },
    {
      "cell_type": "markdown",
      "metadata": {
        "id": "ep42y8ef9fxf"
      },
      "source": [
        "Tests"
      ]
    },
    {
      "cell_type": "code",
      "metadata": {
        "id": "hal_DAMU9fxf",
        "colab": {
          "base_uri": "https://localhost:8080/"
        },
        "outputId": "11eb2281-0cf8-4bdc-ce24-19c9bcbd9781"
      },
      "source": [
        "def create_state_variable_test():\n",
        "  map1 = [[0, 1, 0],\n",
        "          [1, 0, 0]]\n",
        "  rv = create_state_variable(map1, \"current_state\")\n",
        "  assert rv.name == \"current_state\"\n",
        "  assert rv.dim == 4\n",
        "  assert rv.domain == [(0, 0), (0, 2), (1, 1), (1, 2)]\n",
        "\n",
        "create_state_variable_test()\n",
        "print('Tests passed.')"
      ],
      "execution_count": null,
      "outputs": [
        {
          "output_type": "stream",
          "name": "stdout",
          "text": [
            "Tests passed.\n"
          ]
        }
      ]
    },
    {
      "cell_type": "markdown",
      "metadata": {
        "id": "7qKwKsyH9fxf"
      },
      "source": [
        "### Transition potential creation\n",
        "Write a function that creates a potential for the transition distribution between states $s_{t}$ and $s_{t+1}$. Refer to the previous question for more information about the state variables and their domains.\n",
        "\n",
        "For reference, our solution is **12** lines of code."
      ]
    },
    {
      "cell_type": "code",
      "metadata": {
        "id": "JoDtxTbI9fxg"
      },
      "source": [
        "def create_transition_potential(obstacle_map, st, st1):\n",
        "  \"\"\"Write a function to create a potential for the transition from state s_t\n",
        "  to s_{t+1}, in an HMM that corresponds to the map.\n",
        "\n",
        "  Transitions are uniformly distributed amongst the robot's current\n",
        "  location and the neighboring free (not obstacle) locations, where\n",
        "  neighboring = 4 cardinal directions (up, down, left, right).\n",
        "\n",
        "  Hint: remember that if we have a potential with two variables A and B,\n",
        "  with dimension N and M, then the potential table will be a numpy array\n",
        "  of shape (N, M). Furthermore, the potential value for the i^{th} domain\n",
        "  value of A and the j^{th} domain value of B will be table[i, j]. With\n",
        "  this in mind, you may find it useful to use the following pattern in\n",
        "  your code somewhere:\n",
        "\n",
        "  ```\n",
        "  for i, (prev_r, prev_c) in enumerate(st.domain):\n",
        "    ...\n",
        "    for j, (next_r, next_c) in enumerate(st1.domain):\n",
        "      ...\n",
        "      table[i, j] = ...\n",
        "  ```\n",
        "\n",
        "  Args:\n",
        "    st: An RV representing the state at time t.\n",
        "    st1: An RV representing the state at time t+1.\n",
        "    obstacle_map: A list of lists of ints;\n",
        "        see example and description in `create_state_variable`.\n",
        "\n",
        "  Returns:\n",
        "    potential: A Potential for the transition between st and st1.\n",
        "  \"\"\"\n",
        "  table = np.zeros((st.dim, st1.dim))\n",
        "  for i, (prev_r, prev_c) in enumerate(st.domain):\n",
        "    possible_next_loc_idxs = set()\n",
        "    for j, (next_r, next_c) in enumerate(st1.domain):\n",
        "      # Check if neighbors or self\n",
        "      if abs(prev_r - next_r) + abs(prev_c - next_c) <= 1:\n",
        "        possible_next_loc_idxs.add(j)\n",
        "    # Next locs have uniform probability\n",
        "    p = 1./len(possible_next_loc_idxs)\n",
        "    for j in possible_next_loc_idxs:\n",
        "      table[i, j] = p\n",
        "  return Potential([st, st1], table)\n",
        "\n"
      ],
      "execution_count": null,
      "outputs": []
    },
    {
      "cell_type": "markdown",
      "metadata": {
        "id": "cCzSKYNu9fxg"
      },
      "source": [
        "Tests"
      ]
    },
    {
      "cell_type": "code",
      "metadata": {
        "id": "bn6L97VT9fxg",
        "colab": {
          "base_uri": "https://localhost:8080/"
        },
        "outputId": "90fe2b43-e5ea-40f4-b042-140a64893cd3"
      },
      "source": [
        "def create_transition_potential_test():\n",
        "  map1 = [[0, 0, 0],\n",
        "          [1, 0, 1]]\n",
        "  s0 = create_state_variable(map1, \"state_0\")\n",
        "  s1 = create_state_variable(map1, \"state_1\")\n",
        "  pot = create_transition_potential(map1, s0, s1)\n",
        "  assert set(pot.rvs) == {s0, s1}\n",
        "  assert pot.get_by_names({\"state_0\": (0, 0), \"state_1\": (0, 0)}) == 0.5\n",
        "  assert pot.get_by_names({\"state_0\": (0, 0), \"state_1\": (0, 1)}) == 0.5\n",
        "  assert pot.get_by_names({\"state_0\": (0, 0), \"state_1\": (1, 1)}) == 0.\n",
        "  assert pot.get_by_names({\"state_0\": (0, 1), \"state_1\": (1, 1)}) == 0.25\n",
        "  assert pot.get_by_names({\"state_0\": (0, 1), \"state_1\": (0, 1)}) == 0.25\n",
        "  assert pot.get_by_names({\"state_0\": (0, 1), \"state_1\": (0, 2)}) == 0.25\n",
        "  assert pot.get_by_names({\"state_0\": (0, 1), \"state_1\": (0, 0)}) == 0.25\n",
        "  assert pot.get_by_names({\"state_0\": (1, 1), \"state_1\": (0, 0)}) == 0.\n",
        "  assert pot.get_by_names({\"state_0\": (1, 1), \"state_1\": (0, 1)}) == 0.5\n",
        "\n",
        "create_transition_potential_test()\n",
        "print('Tests passed.')"
      ],
      "execution_count": null,
      "outputs": [
        {
          "output_type": "stream",
          "name": "stdout",
          "text": [
            "Tests passed.\n"
          ]
        }
      ]
    },
    {
      "cell_type": "markdown",
      "metadata": {
        "id": "cmTM-CSZ9fxh"
      },
      "source": [
        "### Observation variable creation\n",
        "Write a function that creates a random variable for an observation at a given time step in an obstacle HMM. See docstring for description.\n",
        "\n",
        "For reference, our solution is **2** lines of code."
      ]
    },
    {
      "cell_type": "code",
      "metadata": {
        "id": "qMxVu8WA9fxh"
      },
      "source": [
        "def create_observation_variable(name):\n",
        "  \"\"\"Creates a RV for the HMM observation with the given name.\n",
        "\n",
        "  Observations are a 4-tuple that list which directions have obstacles,\n",
        "  in order [N E S W], with a 1 for an obstacle and 0 for no obstacle.\n",
        "\n",
        "  Observations that are \"off the map\" are 1, as though they are obstacles.\n",
        "\n",
        "  For instance, in the following map:\n",
        "\n",
        "    obstacle_map = [\n",
        "      [0, 1],\n",
        "      [0, 0],\n",
        "    ]\n",
        "\n",
        "  if there were no observation noise, then the observation for the top left\n",
        "  location would be (1, 1, 0, 1).\n",
        "\n",
        "  The domain of the observation variable should be a list of 4-tuples.\n",
        "\n",
        "  Hint: you may find it useful to use `itertools.product`. For example,\n",
        "  see what happens with `list(itertools.product([\"foo\", \"bar\"], repeat=2))`.\n",
        "\n",
        "  Args:\n",
        "    name: A str name for the variable.\n",
        "\n",
        "  Returns:\n",
        "    zt: A RV as described above.\n",
        "  \"\"\"\n",
        "  domain = list(itertools.product([0, 1], repeat=4))\n",
        "  return RV(name, domain)"
      ],
      "execution_count": null,
      "outputs": []
    },
    {
      "cell_type": "markdown",
      "metadata": {
        "id": "XUhQ2cfO9fxh"
      },
      "source": [
        "Tests"
      ]
    },
    {
      "cell_type": "code",
      "metadata": {
        "id": "6qrdCJWs9fxh",
        "colab": {
          "base_uri": "https://localhost:8080/"
        },
        "outputId": "06e6d91b-0778-426b-9d11-c9f88b281a54"
      },
      "source": [
        "def create_observation_variable_test():\n",
        "  rv = create_observation_variable(\"obs\")\n",
        "  assert rv.name == \"obs\"\n",
        "  assert rv.dim == 2**4\n",
        "  assert set(rv.domain) == {\n",
        "    (0, 0, 0, 0), (1, 0, 0, 0), (0, 1, 0, 0), (1, 1, 0, 0),\n",
        "    (0, 0, 1, 0), (1, 0, 1, 0), (0, 1, 1, 0), (1, 1, 1, 0),\n",
        "    (0, 0, 0, 1), (1, 0, 0, 1), (0, 1, 0, 1), (1, 1, 0, 1),\n",
        "    (0, 0, 1, 1), (1, 0, 1, 1), (0, 1, 1, 1), (1, 1, 1, 1),\n",
        "  }\n",
        "\n",
        "create_observation_variable_test()\n",
        "print('Tests passed.')"
      ],
      "execution_count": null,
      "outputs": [
        {
          "output_type": "stream",
          "name": "stdout",
          "text": [
            "Tests passed.\n"
          ]
        }
      ]
    },
    {
      "cell_type": "markdown",
      "metadata": {
        "id": "G_mYm1E_9fxi"
      },
      "source": [
        "### Observation potential creation\n",
        "Write a function that creates a potential for the observation distribution between $s_{t}$ and $z_{t}$.\n",
        "\n",
        "For reference, our solution is **28** lines of code."
      ]
    },
    {
      "cell_type": "code",
      "metadata": {
        "id": "GL6tuaaR9fxi"
      },
      "source": [
        "def create_observation_potential(obstacle_map, state_rv, observation_rv, noise_prob=0.0):\n",
        "  \"\"\"Write a function to create a potential between state_rv\n",
        "  and observation_rv in an HMM that corresponds to the map.\n",
        "\n",
        "  You can assume that state_rv was created by `create_state_variable`\n",
        "  and observation_rv was created by `create_observation_variable`.\n",
        "\n",
        "  See `create_observation_variable` for a description of the\n",
        "  observation model. Recall the order is [N E S W].\n",
        "\n",
        "  If noise_prob = 0., then the observations are noise-free. That is,\n",
        "  you observe 0 if there is a free space and 1 otherwise.\n",
        "\n",
        "  In general, for each of the four observation entries, with\n",
        "  probability 1 - noise_prob, the entry will be \"correct\"; with\n",
        "  probability noise_prob, the entry will be incorrect, that is,\n",
        "  the opposite of the true occupancy.\n",
        "\n",
        "  So if the noise-free observation would be (1, 0, 0, 1), then\n",
        "  the probability of observation (1, 1, 0, 1) would be\n",
        "  noise_prob*(1 - noise_prob)^3.\n",
        "\n",
        "  Args:\n",
        "    obstacle_map: A list of lists of ints;\n",
        "        see example and description in `create_state_variable`.\n",
        "    state_rv: An RV representing the state at time t.\n",
        "    observation_rv: An RV representing the observation at time t.\n",
        "    noise_prob: A float between 0 and 1 indicating the probability\n",
        "        that an observation flips.\n",
        "\n",
        "  Returns:\n",
        "    potential: A Potential for the distribution between st and zt.\n",
        "  \"\"\"\n",
        "  def get_obs_for_loc(r, c):\n",
        "    # Out of bounds\n",
        "    if not (0 <= r < len(obstacle_map) and 0 <= c < len(obstacle_map[0])):\n",
        "      return 1\n",
        "    return obstacle_map[r][c]\n",
        "\n",
        "  def get_obs_prob(obs, true_obs):\n",
        "    p = 1.\n",
        "    for i, j in zip(obs, true_obs):\n",
        "      if i == j:\n",
        "        p *= (1 - noise_prob)\n",
        "      else:\n",
        "        p *= noise_prob\n",
        "    return p\n",
        "\n",
        "  table = np.zeros((state_rv.dim, observation_rv.dim))\n",
        "  for i, (r, c) in enumerate(state_rv.domain):\n",
        "    true_obs = (\n",
        "        get_obs_for_loc(r-1, c),  # North\n",
        "        get_obs_for_loc(r, c+1),  # East\n",
        "        get_obs_for_loc(r+1, c),  # South\n",
        "        get_obs_for_loc(r, c-1),  # West\n",
        "    )\n",
        "    for j, obs in enumerate(observation_rv.domain):\n",
        "      table[i, j] = get_obs_prob(obs, true_obs)\n",
        "\n",
        "  return Potential([state_rv, observation_rv], table)"
      ],
      "execution_count": null,
      "outputs": []
    },
    {
      "cell_type": "markdown",
      "metadata": {
        "id": "SE0qC-Hg9fxi"
      },
      "source": [
        "Tests"
      ]
    },
    {
      "cell_type": "code",
      "metadata": {
        "id": "vR0w5SgZ9fxi",
        "colab": {
          "base_uri": "https://localhost:8080/"
        },
        "outputId": "26a445f6-66d9-4f85-893d-f4d604bb696e"
      },
      "source": [
        "def create_observation_potential_test1():\n",
        "  map1 = [[0, 0, 0],\n",
        "          [1, 0, 1]]\n",
        "  s0 = create_state_variable(map1, \"state_0\")\n",
        "  z0 = create_observation_variable(\"obs_0\")\n",
        "  pot = create_observation_potential(map1, s0, z0)\n",
        "  assert set(pot.rvs) == {s0, z0}\n",
        "  assert pot.get_by_names({\"state_0\": (0, 0), \"obs_0\": (1, 0, 1, 1)}) == 1.\n",
        "  assert pot.get_by_names({\"state_0\": (0, 0), \"obs_0\": (1, 1, 0, 1)}) == 0.\n",
        "  assert pot.get_by_names({\"state_0\": (0, 1), \"obs_0\": (1, 0, 0, 0)}) == 1.\n",
        "  assert pot.get_by_names({\"state_0\": (0, 2), \"obs_0\": (1, 1, 1, 0)}) == 1.\n",
        "  assert pot.get_by_names({\"state_0\": (1, 1), \"obs_0\": (0, 1, 1, 1)}) == 1.\n",
        "\n",
        "create_observation_potential_test1()\n",
        "def create_observation_potential_test2():\n",
        "  map1 = [[0, 0, 0],\n",
        "          [1, 0, 1]]\n",
        "  s0 = create_state_variable(map1, \"state_0\")\n",
        "  z0 = create_observation_variable(\"obs_0\")\n",
        "  pot = create_observation_potential(map1, s0, z0, noise_prob=0.25)\n",
        "  assert set(pot.rvs) == {s0, z0}\n",
        "  assert pot.get_by_names({\"state_0\": (0, 0), \"obs_0\": (1, 0, 1, 1)}) == 0.75*0.75*0.75*0.75\n",
        "  assert pot.get_by_names({\"state_0\": (0, 0), \"obs_0\": (1, 1, 0, 1)}) == 0.75*0.25*0.25*0.75\n",
        "  assert pot.get_by_names({\"state_0\": (0, 1), \"obs_0\": (1, 0, 0, 0)}) == 0.75*0.75*0.75*0.75\n",
        "  assert pot.get_by_names({\"state_0\": (0, 1), \"obs_0\": (0, 0, 0, 0)}) == 0.25*0.75*0.75*0.75\n",
        "\n",
        "create_observation_potential_test2()\n",
        "print('Tests passed.')"
      ],
      "execution_count": null,
      "outputs": [
        {
          "output_type": "stream",
          "name": "stdout",
          "text": [
            "Tests passed.\n"
          ]
        }
      ]
    },
    {
      "cell_type": "markdown",
      "metadata": {
        "id": "dp0lV_bt9fxi"
      },
      "source": [
        "### Viterbi Decoding\n",
        "Complete the implementation of Viterbi decoding. Note: in general, it is a good idea for numerical stability to implement Viterbi in log space. However, for the purpose of this homework, we are not expecting your implementation to be in log space. Moreover, the provided helper functions (e.g., `multiply_potentials`) assume that you are _not_ working in log space.\n",
        "\n",
        "For reference, our solution is **37** lines of code."
      ]
    },
    {
      "cell_type": "code",
      "metadata": {
        "id": "Ig5AA-8x9fxj"
      },
      "source": [
        "def run_viterbi(hmm, observations):\n",
        "  \"\"\"Run the Viterbi algorithm to compute the most likely state\n",
        "  assignments given observations.\n",
        "\n",
        "  Normalize the messages after each step to avoid numerical instability.\n",
        "\n",
        "  Args:\n",
        "    hmm: An HMM.\n",
        "    observations: A list of observation values.\n",
        "\n",
        "  Returns:\n",
        "    most_likely_states: A list of state values.\n",
        "  \"\"\"\n",
        "  forward_msg = hmm.initial_distribution\n",
        "  observation_msg = condition_potential(hmm.observation_potentials[0],\n",
        "      {hmm.observation_rvs[0]: observations[0]})\n",
        "\n",
        "  forward_msg = multiply_potentials([forward_msg, observation_msg])\n",
        "  backpointers = []\n",
        "\n",
        "  # Forward pass\n",
        "  for t in range(1, len(observations)):\n",
        "    # Incorporate transition potential\n",
        "    belief = multiply_potentials([forward_msg, hmm.transition_potentials[t-1]])\n",
        "    # Incorporate observation potential -- remember that the observation\n",
        "    # potential is defined wrt to the next_state_rv\n",
        "    observation_msg = condition_potential(hmm.observation_potentials[t],\n",
        "        {hmm.observation_rvs[t]: observations[t]})\n",
        "    # Max-product (product)\n",
        "    belief = multiply_potentials([belief, observation_msg])\n",
        "    # Max-product (max)\n",
        "    forward_msg = max_potential(belief, rv=hmm.state_rvs[t-1])\n",
        "    # Argmax-product\n",
        "    backpointer = argmax_potential(belief, rv=hmm.state_rvs[t-1])\n",
        "    backpointers.append(backpointer)\n",
        "    # Update timestep for forward msg\n",
        "    # Normalize to avoid numerical instability\n",
        "    forward_msg = normalize_potential(forward_msg)\n",
        "\n",
        "  # Find final mle state\n",
        "  mle_state = argmax_potential(forward_msg)[0]\n",
        "\n",
        "  # Backtrack to decode mle\n",
        "  mle_sequence = [mle_state]\n",
        "  for backpointer in backpointers[::-1]:\n",
        "    mle_state = backpointer.get((mle_state,))\n",
        "    mle_sequence.insert(0, mle_state)\n",
        "\n",
        "  return mle_sequence\n",
        "      \n",
        "  "
      ],
      "execution_count": null,
      "outputs": []
    },
    {
      "cell_type": "markdown",
      "metadata": {
        "id": "LjvHVH5V9fxj"
      },
      "source": [
        "Tests"
      ]
    },
    {
      "cell_type": "code",
      "metadata": {
        "id": "TrTm5FrH9fxj",
        "colab": {
          "base_uri": "https://localhost:8080/"
        },
        "outputId": "bf53a441-60db-433f-ba30-801b19df04e2"
      },
      "source": [
        "def viterbi_test1():\n",
        "  map1 = [[0, 0, 0],\n",
        "          [1, 0, 1]]\n",
        "  observations1 = [(1, 0, 1, 1), (1, 0, 0, 0), (1, 0, 0, 0)]\n",
        "  hmm1 = create_hmm(map1, len(observations1))\n",
        "  most_likely_states1 = run_viterbi(hmm1, observations1)\n",
        "  assert most_likely_states1 == [(0, 0), (0, 1), (0, 1)]\n",
        "\n",
        "viterbi_test1()\n",
        "def viterbi_test2():\n",
        "  map2 = [[0, 0, 0, 0, 0]]\n",
        "  observations2 = [(1, 0, 1, 0), (1, 0, 1, 1), (1, 0, 1, 0),\n",
        "                   (1, 0, 1, 0), (1, 0, 1, 0), (1, 1, 1, 0)]\n",
        "  hmm2 = create_hmm(map2, len(observations2))\n",
        "  most_likely_states2 = run_viterbi(hmm2, observations2)\n",
        "  assert most_likely_states2 == [(0, 1), (0, 0), (0, 1), (0, 2), (0, 3), (0, 4)]\n",
        "\n",
        "viterbi_test2()\n",
        "def viterbi_test3():\n",
        "  map3 = [[1, 1, 1, 1, 1],\n",
        "          [0, 0, 1, 0, 0],\n",
        "          [1, 0, 1, 0, 1]]\n",
        "  observations3 = [(0, 1, 1, 0), (0, 1, 1, 1), (1, 0, 0, 1), (1, 1, 1, 0)]\n",
        "  hmm3 = create_hmm(map3, len(observations3), noise_prob=0.05)\n",
        "  most_likely_states3 = run_viterbi(hmm3, observations3)\n",
        "  assert most_likely_states3 == [(2, 3), (2, 3), (1, 3), (1, 4)]\n",
        "\n",
        "viterbi_test3()\n",
        "def viterbi_test4():\n",
        "  map4 = [\n",
        "      [1, 0, 0, 0, 0],\n",
        "      [0, 0, 0, 0, 0],\n",
        "      [1, 0, 0, 1, 0],\n",
        "      [0, 0, 0, 0, 1],\n",
        "      [1, 0, 0, 0, 0],\n",
        "  ]\n",
        "  observations4 = [(1, 0, 1, 1), (1, 0, 0, 0), (0, 0, 0, 0), (1, 1, 0, 0)]\n",
        "  hmm4 = create_hmm(map4, len(observations4), noise_prob=0.05)\n",
        "  most_likely_states4 = run_viterbi(hmm4, observations4)\n",
        "  assert most_likely_states4 == [(3, 0), (3, 1), (3, 2), (3, 3)]\n",
        "\n",
        "viterbi_test4()\n",
        "print('Tests passed.')"
      ],
      "execution_count": null,
      "outputs": [
        {
          "output_type": "stream",
          "name": "stdout",
          "text": [
            "Tests passed.\n"
          ]
        }
      ]
    },
    {
      "cell_type": "markdown",
      "metadata": {
        "id": "8sxDYknd9fxj"
      },
      "source": [
        "### Viterbi Visualization\n",
        "\n",
        "We have created a visualization tool for you in colab to visualize the inference result. You can run the following code blocks\n",
        "and they will generate the visualized trajectory step by step, and show the comparison between the observed trajectory\n",
        "as well as the \"noiseless\" observation.\n",
        "\n",
        "If you are not passing the test, you can use the simple map `visualize_viterbi_test1` for debugging.\n",
        "**Hint**: one debugging strategy is to modify your viterbi code and print out the likelihood you get at each step.\n"
      ]
    },
    {
      "cell_type": "code",
      "metadata": {
        "id": "f71F3ujE9fxj"
      },
      "source": [
        "import matplotlib.pyplot as plt\n",
        "from PIL import Image\n",
        "\n",
        "\n",
        "def visualize_map(obstacles, current_location):\n",
        "  obstacles = np.array(obstacles, dtype='int64')\n",
        "  gs = 28\n",
        "  output = np.zeros((gs * (obstacles.shape[0] + 2), gs * (obstacles.shape[1] + 2), 3), dtype='uint8') + 255\n",
        "  output[:, :gs, :] = output[:, -gs:, :] = 0\n",
        "  output[:gs, :, :] = output[-gs:, :, :] = 0\n",
        "  for x, y in itertools.product(range(obstacles.shape[0]), range(obstacles.shape[1])):\n",
        "    if obstacles[x, y]:\n",
        "      x, y = x + 1, y + 1\n",
        "      output[x*gs:x*gs+gs,y*gs:y*gs+gs,:] = 0\n",
        "  x0, y0 = current_location\n",
        "  for dx, dy in [(0, 0), (-1, 0), (1, 0), (0, -1), (0, 1)]:\n",
        "    x, y = x0 + dx, y0 + dy\n",
        "    x, y = x + 1, y + 1\n",
        "    if 0 <= x < obstacles.shape[0] + 2 and 0 <= y < obstacles.shape[1] + 2:\n",
        "      val = output[x*gs:x*gs+gs,y*gs:y*gs+gs,:]\n",
        "      output[x*gs:x*gs+gs,y*gs:y*gs+gs,:] = (\n",
        "        val.astype('float32') * 0.5 +\n",
        "        np.array([255, 227, 132], dtype='float32').reshape(1, 1, 3) * 0.5\n",
        "      ).astype('uint8')\n",
        "  return output\n",
        "\n",
        "\n",
        "def gen_groundtruth_local_observation(obstacles, current_location):\n",
        "  obstacles = np.array(obstacles, dtype='int64')\n",
        "  output = [0 for _ in range(4)]\n",
        "  for i, (dx, dy) in enumerate([(-1, 0), (0, 1), (1, 0), (0, -1)]):\n",
        "    x, y = current_location[0] + dx, current_location[1] + dy\n",
        "    if 0 <= x < obstacles.shape[0] and 0 <= y < obstacles.shape[1]:\n",
        "      output[i] = obstacles[x, y]\n",
        "    else:\n",
        "      output[i] = 1\n",
        "  return output\n",
        "\n",
        "\n",
        "def visualize_local_observation(observation):\n",
        "  gs = 28\n",
        "  obs = np.zeros((gs * 3, gs * 3, 3), dtype='uint8') + 255\n",
        "  for (x, y), o in zip([(-1, 0), (0, 1), (1, 0), (0, -1)], observation):\n",
        "    x, y = x + 1, y + 1\n",
        "    obs[x*gs:x*gs+gs, y*gs:y*gs+gs, :] = 255 * (1 - o)\n",
        "  return obs\n",
        "\n",
        "\n",
        "def visualize_step(step, obstacles, current_location, observation):\n",
        "  fig, ax = plt.subplots(1, 3, constrained_layout=True, figsize=(15, 5))\n",
        "  fig.suptitle('Step: ' + str(step), fontsize=24)\n",
        "  ax[0].set_title(\"Map | Robot: \" + str(current_location), fontsize=20)\n",
        "  ax[0].imshow(visualize_map(obstacles, current_location))\n",
        "\n",
        "  ax[1].set_title(\"Noisy Observation\", fontsize=20)\n",
        "  ax[1].imshow(visualize_local_observation(observation))\n",
        "\n",
        "  ax[2].set_title(\"Noiseless Observation\", fontsize=20)\n",
        "  ax[2].imshow(visualize_local_observation(gen_groundtruth_local_observation(obstacles, current_location)))\n",
        "\n",
        "\n",
        "def visualize_viterbi_test1():\n",
        "  map1 = [[0, 0, 0], [1, 0, 1]]\n",
        "  observations1 = [(1, 0, 1, 1), (1, 0, 0, 0), (1, 0, 0, 0)]\n",
        "  hmm1 = create_hmm(map1, len(observations1))\n",
        "  most_likely_states1 = run_viterbi(hmm1, observations1)\n",
        "  for i in range(len(observations1)):\n",
        "    visualize_step(i, map1, most_likely_states1[i], observations1[i])\n",
        "\n",
        "def visualize_viterbi_test4():\n",
        "  map4 = [\n",
        "      [1, 0, 0, 0, 0],\n",
        "      [0, 0, 0, 0, 0],\n",
        "      [1, 0, 0, 1, 0],\n",
        "      [0, 0, 0, 0, 1],\n",
        "      [1, 0, 0, 0, 0],\n",
        "  ]\n",
        "  observations4 = [(1, 0, 1, 1), (1, 0, 0, 0), (0, 0, 0, 0), (1, 1, 0, 0)]\n",
        "  hmm4 = create_hmm(map4, len(observations4), noise_prob=0.05)\n",
        "  most_likely_states4 = run_viterbi(hmm4, observations4)\n",
        "  for i in range(len(observations4)):\n",
        "    visualize_step(i, map4, most_likely_states4[i], observations4[i])"
      ],
      "execution_count": null,
      "outputs": []
    },
    {
      "cell_type": "markdown",
      "metadata": {
        "id": "5zg3btSy9fxk"
      },
      "source": [
        "This visualization visualizes the first test example. It's a very simple example and you can use it for debugging."
      ]
    },
    {
      "cell_type": "code",
      "metadata": {
        "id": "8j6uvTqq9fxk",
        "colab": {
          "base_uri": "https://localhost:8080/",
          "height": 307
        },
        "outputId": "c30e3754-77bb-4e0e-fc12-c19b36eecec3"
      },
      "source": [
        "visualize_viterbi_test1()"
      ],
      "execution_count": null,
      "outputs": [
        {
          "output_type": "error",
          "ename": "NameError",
          "evalue": "ignored",
          "traceback": [
            "\u001b[0;31m---------------------------------------------------------------------------\u001b[0m",
            "\u001b[0;31mNameError\u001b[0m                                 Traceback (most recent call last)",
            "\u001b[0;32m<ipython-input-11-b70d8017019b>\u001b[0m in \u001b[0;36m<module>\u001b[0;34m()\u001b[0m\n\u001b[0;32m----> 1\u001b[0;31m \u001b[0mvisualize_viterbi_test1\u001b[0m\u001b[0;34m(\u001b[0m\u001b[0;34m)\u001b[0m\u001b[0;34m\u001b[0m\u001b[0;34m\u001b[0m\u001b[0m\n\u001b[0m",
            "\u001b[0;32m<ipython-input-10-6e4e800b2a59>\u001b[0m in \u001b[0;36mvisualize_viterbi_test1\u001b[0;34m()\u001b[0m\n\u001b[1;32m     63\u001b[0m   \u001b[0mmap1\u001b[0m \u001b[0;34m=\u001b[0m \u001b[0;34m[\u001b[0m\u001b[0;34m[\u001b[0m\u001b[0;36m0\u001b[0m\u001b[0;34m,\u001b[0m \u001b[0;36m0\u001b[0m\u001b[0;34m,\u001b[0m \u001b[0;36m0\u001b[0m\u001b[0;34m]\u001b[0m\u001b[0;34m,\u001b[0m \u001b[0;34m[\u001b[0m\u001b[0;36m1\u001b[0m\u001b[0;34m,\u001b[0m \u001b[0;36m0\u001b[0m\u001b[0;34m,\u001b[0m \u001b[0;36m1\u001b[0m\u001b[0;34m]\u001b[0m\u001b[0;34m]\u001b[0m\u001b[0;34m\u001b[0m\u001b[0;34m\u001b[0m\u001b[0m\n\u001b[1;32m     64\u001b[0m   \u001b[0mobservations1\u001b[0m \u001b[0;34m=\u001b[0m \u001b[0;34m[\u001b[0m\u001b[0;34m(\u001b[0m\u001b[0;36m1\u001b[0m\u001b[0;34m,\u001b[0m \u001b[0;36m0\u001b[0m\u001b[0;34m,\u001b[0m \u001b[0;36m1\u001b[0m\u001b[0;34m,\u001b[0m \u001b[0;36m1\u001b[0m\u001b[0;34m)\u001b[0m\u001b[0;34m,\u001b[0m \u001b[0;34m(\u001b[0m\u001b[0;36m1\u001b[0m\u001b[0;34m,\u001b[0m \u001b[0;36m0\u001b[0m\u001b[0;34m,\u001b[0m \u001b[0;36m0\u001b[0m\u001b[0;34m,\u001b[0m \u001b[0;36m0\u001b[0m\u001b[0;34m)\u001b[0m\u001b[0;34m,\u001b[0m \u001b[0;34m(\u001b[0m\u001b[0;36m1\u001b[0m\u001b[0;34m,\u001b[0m \u001b[0;36m0\u001b[0m\u001b[0;34m,\u001b[0m \u001b[0;36m0\u001b[0m\u001b[0;34m,\u001b[0m \u001b[0;36m0\u001b[0m\u001b[0;34m)\u001b[0m\u001b[0;34m]\u001b[0m\u001b[0;34m\u001b[0m\u001b[0;34m\u001b[0m\u001b[0m\n\u001b[0;32m---> 65\u001b[0;31m   \u001b[0mhmm1\u001b[0m \u001b[0;34m=\u001b[0m \u001b[0mcreate_hmm\u001b[0m\u001b[0;34m(\u001b[0m\u001b[0mmap1\u001b[0m\u001b[0;34m,\u001b[0m \u001b[0mlen\u001b[0m\u001b[0;34m(\u001b[0m\u001b[0mobservations1\u001b[0m\u001b[0;34m)\u001b[0m\u001b[0;34m)\u001b[0m\u001b[0;34m\u001b[0m\u001b[0;34m\u001b[0m\u001b[0m\n\u001b[0m\u001b[1;32m     66\u001b[0m   \u001b[0mmost_likely_states1\u001b[0m \u001b[0;34m=\u001b[0m \u001b[0mrun_viterbi\u001b[0m\u001b[0;34m(\u001b[0m\u001b[0mhmm1\u001b[0m\u001b[0;34m,\u001b[0m \u001b[0mobservations1\u001b[0m\u001b[0;34m)\u001b[0m\u001b[0;34m\u001b[0m\u001b[0;34m\u001b[0m\u001b[0m\n\u001b[1;32m     67\u001b[0m   \u001b[0;32mfor\u001b[0m \u001b[0mi\u001b[0m \u001b[0;32min\u001b[0m \u001b[0mrange\u001b[0m\u001b[0;34m(\u001b[0m\u001b[0mlen\u001b[0m\u001b[0;34m(\u001b[0m\u001b[0mobservations1\u001b[0m\u001b[0;34m)\u001b[0m\u001b[0;34m)\u001b[0m\u001b[0;34m:\u001b[0m\u001b[0;34m\u001b[0m\u001b[0;34m\u001b[0m\u001b[0m\n",
            "\u001b[0;32m<ipython-input-3-13447ad50794>\u001b[0m in \u001b[0;36mcreate_hmm\u001b[0;34m(obstacle_map, num_timesteps, noise_prob)\u001b[0m\n\u001b[1;32m    429\u001b[0m   \u001b[0;32mfor\u001b[0m \u001b[0mt\u001b[0m \u001b[0;32min\u001b[0m \u001b[0mrange\u001b[0m\u001b[0;34m(\u001b[0m\u001b[0mnum_timesteps\u001b[0m\u001b[0;34m)\u001b[0m\u001b[0;34m:\u001b[0m\u001b[0;34m\u001b[0m\u001b[0;34m\u001b[0m\u001b[0m\n\u001b[1;32m    430\u001b[0m     \u001b[0mstate_t\u001b[0m \u001b[0;34m=\u001b[0m \u001b[0mcreate_state_variable\u001b[0m\u001b[0;34m(\u001b[0m\u001b[0mobstacle_map\u001b[0m\u001b[0;34m,\u001b[0m \u001b[0;34mf\"state{t}\"\u001b[0m\u001b[0;34m)\u001b[0m\u001b[0;34m\u001b[0m\u001b[0;34m\u001b[0m\u001b[0m\n\u001b[0;32m--> 431\u001b[0;31m     \u001b[0mobs_t\u001b[0m \u001b[0;34m=\u001b[0m \u001b[0mcreate_observation_variable\u001b[0m\u001b[0;34m(\u001b[0m\u001b[0;34mf\"observation{t}\"\u001b[0m\u001b[0;34m)\u001b[0m\u001b[0;34m\u001b[0m\u001b[0;34m\u001b[0m\u001b[0m\n\u001b[0m\u001b[1;32m    432\u001b[0m     \u001b[0mstate_rvs\u001b[0m\u001b[0;34m.\u001b[0m\u001b[0mappend\u001b[0m\u001b[0;34m(\u001b[0m\u001b[0mstate_t\u001b[0m\u001b[0;34m)\u001b[0m\u001b[0;34m\u001b[0m\u001b[0;34m\u001b[0m\u001b[0m\n\u001b[1;32m    433\u001b[0m     \u001b[0mobservation_rvs\u001b[0m\u001b[0;34m.\u001b[0m\u001b[0mappend\u001b[0m\u001b[0;34m(\u001b[0m\u001b[0mobs_t\u001b[0m\u001b[0;34m)\u001b[0m\u001b[0;34m\u001b[0m\u001b[0;34m\u001b[0m\u001b[0m\n",
            "\u001b[0;31mNameError\u001b[0m: name 'create_observation_variable' is not defined"
          ]
        }
      ]
    },
    {
      "cell_type": "markdown",
      "metadata": {
        "id": "trBixsum9fxk"
      },
      "source": [
        "This visualization considers a slightly larger map.\n",
        "If you only look at the first three observation, there is an ambiguity between starting from (1, 0) and move right vs. starting from (3, 0) and move right.\n",
        "This ambiguity can be resolved based on the last element in the observation."
      ]
    },
    {
      "cell_type": "code",
      "metadata": {
        "id": "qkmfEDux9fxk"
      },
      "source": [
        "visualize_viterbi_test4()"
      ],
      "execution_count": null,
      "outputs": []
    }
  ]
}