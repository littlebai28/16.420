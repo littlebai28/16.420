{
  "nbformat": 4,
  "nbformat_minor": 0,
  "metadata": {
    "colab": {
      "name": "“hw06.ipynb”的副本",
      "provenance": [],
      "collapsed_sections": []
    },
    "kernelspec": {
      "display_name": "Python 3",
      "name": "python3"
    },
    "language_info": {
      "name": "python"
    }
  },
  "cells": [
    {
      "cell_type": "markdown",
      "metadata": {
        "id": "WUW3EQDKIUrl"
      },
      "source": [
        "# Homework 6"
      ]
    },
    {
      "cell_type": "code",
      "metadata": {
        "id": "FrYmrqRKIUrp",
        "colab": {
          "base_uri": "https://localhost:8080/"
        },
        "outputId": "c851349a-376e-4530-c428-0201d3fcc68e"
      },
      "source": [
        "!pip install pyperplan\n"
      ],
      "execution_count": 4,
      "outputs": [
        {
          "output_type": "stream",
          "name": "stdout",
          "text": [
            "Looking in indexes: https://pypi.org/simple, https://us-python.pkg.dev/colab-wheels/public/simple/\n",
            "Collecting pyperplan\n",
            "  Downloading pyperplan-2.1-py2.py3-none-any.whl (69 kB)\n",
            "\u001b[K     |████████████████████████████████| 69 kB 3.5 MB/s \n",
            "\u001b[?25hRequirement already satisfied: wheel in /usr/local/lib/python3.7/dist-packages (from pyperplan) (0.37.1)\n",
            "Installing collected packages: pyperplan\n",
            "Successfully installed pyperplan-2.1\n"
          ]
        }
      ]
    },
    {
      "cell_type": "markdown",
      "metadata": {
        "id": "GvFenXO1IUrr"
      },
      "source": [
        "## Problems"
      ]
    },
    {
      "cell_type": "markdown",
      "metadata": {
        "id": "dq4KPlShIUrr"
      },
      "source": [
        "### Pyperplan Utilities\n",
        "**Note**: these imports and functions are available in catsoop. You do not need to copy them in."
      ]
    },
    {
      "cell_type": "code",
      "metadata": {
        "id": "4P-MzMYQIUrs"
      },
      "source": [
        "from pyperplan.pddl.parser import Parser\n",
        "from pyperplan import grounding, planner\n",
        "from collections import namedtuple\n",
        "import numpy as np\n",
        "import os\n",
        "import tempfile\n",
        "import pdb\n",
        "import math, random\n",
        "\n",
        "\n",
        "BLOCKS_DOMAIN = \"\"\"(define (domain prodigy-bw)\n",
        "  (:requirements :strips)\n",
        "  (:predicates (on ?x ?y)\n",
        "               (on-table ?x)\n",
        "               (clear ?x)\n",
        "               (arm-empty)\n",
        "               (holding ?x)\n",
        "               )\n",
        "  (:action pick-up\n",
        "             :parameters (?ob1)\n",
        "             :precondition (and (clear ?ob1) (on-table ?ob1) (arm-empty))\n",
        "             :effect\n",
        "             (and (not (on-table ?ob1))\n",
        "                   (not (clear ?ob1))\n",
        "                   (not (arm-empty))\n",
        "                   (holding ?ob1)))\n",
        "  (:action put-down\n",
        "             :parameters (?ob)\n",
        "             :precondition (holding ?ob)\n",
        "             :effect\n",
        "             (and (not (holding ?ob))\n",
        "                   (clear ?ob)\n",
        "                   (arm-empty)\n",
        "                   (on-table ?ob)))\n",
        "  (:action stack\n",
        "             :parameters (?sob ?sunderob)\n",
        "             :precondition (and (holding ?sob) (clear ?sunderob))\n",
        "             :effect\n",
        "             (and (not (holding ?sob))\n",
        "                   (not (clear ?sunderob))\n",
        "                   (clear ?sob)\n",
        "                   (arm-empty)\n",
        "                   (on ?sob ?sunderob)))\n",
        "  (:action unstack\n",
        "             :parameters (?sob ?sunderob)\n",
        "             :precondition (and (on ?sob ?sunderob) (clear ?sob) (arm-empty))\n",
        "             :effect\n",
        "             (and (holding ?sob)\n",
        "                   (clear ?sunderob)\n",
        "                   (not (clear ?sob))\n",
        "                   (not (arm-empty))\n",
        "                   (not (on ?sob ?sunderob)))))\n",
        "\"\"\"\n",
        "\n",
        "BLOCKS_PROBLEM_1 = \"\"\"(define (problem bw-simple)\n",
        "  (:domain prodigy-bw)\n",
        "  (:objects A B C)\n",
        "  (:init (clear a) (arm-empty) (on a b) (on-table b))\n",
        "  (:goal (and (on-table a) (clear b))))\n",
        "\"\"\"\n",
        "\n",
        "BLOCKS_PROBLEM_2 = \"\"\"(define (problem bw-sussman)\n",
        "  (:domain prodigy-bw)\n",
        "  (:objects A B C)\n",
        "  (:init (on-table a) (on-table b) (on c a)\n",
        "                (clear b) (clear c) (arm-empty))\n",
        "  (:goal (and (on a b) (on b c))))\n",
        "\"\"\"\n",
        "\n",
        "BLOCKS_PROBLEM_3 = \"\"\"(define (problem bw-large-a)\n",
        "  (:domain prodigy-bw)\n",
        "  (:objects 1 2 3 4 5 6 7 8 9)\n",
        "  (:init (arm-empty)\n",
        "         (on 3 2)\n",
        "         (on 2 1)\n",
        "         (on-table 1)\n",
        "         (on 5 4)\n",
        "         (on-table 4)\n",
        "         (on 9 8)\n",
        "         (on 8 7)\n",
        "         (on 7 6)\n",
        "         (on-table 6)\n",
        "         (clear 3)\n",
        "         (clear 5)\n",
        "         (clear 9))\n",
        "  (:goal (and\n",
        "          (on 1 5)\n",
        "          (on-table 5)\n",
        "          (on 8 9)\n",
        "          (on 9 4)\n",
        "          (on-table 4)\n",
        "          (on 2 3)\n",
        "          (on 3 7)\n",
        "          (on 7 6)\n",
        "          (on-table 6)\n",
        "          (clear 1)\n",
        "          (clear 8)\n",
        "          (clear 2)\n",
        "          )))\n",
        "\"\"\"\n",
        "\n",
        "BLOCKS_PROBLEM_4 = \"\"\"(define (problem bw-large-b)\n",
        "  (:domain prodigy-bw)\n",
        "  (:objects 1 2 3 4 5 6 7 8 9 10 11)\n",
        "  (:init (arm-empty)\n",
        "         (on 3 2)\n",
        "         (on 2 1)\n",
        "         (on-table 1)\n",
        "         (on 11 10)\n",
        "         (on 10 5)\n",
        "         (on 5 4)\n",
        "         (on-table 4)\n",
        "         (on 9 8)\n",
        "         (on 8 7)\n",
        "         (on 7 6)\n",
        "         (on-table 6)\n",
        "         (clear 3)\n",
        "         (clear 11)\n",
        "         (clear 9))\n",
        "  (:goal (and\n",
        "          (on 1 5)\n",
        "          (on 5 10)\n",
        "          (on-table 10)\n",
        "          (on 8 9)\n",
        "          (on 9 4)\n",
        "          (on-table 4)\n",
        "          (on 2 3)\n",
        "          (on 3 11)\n",
        "          (on 11 7)\n",
        "          (on 7 6)\n",
        "          (on-table 6)\n",
        "          (clear 1)\n",
        "          (clear 8)\n",
        "          (clear 2)\n",
        "          )))\n",
        "\"\"\"\n",
        "\n",
        "def get_task_definition_str(domain_pddl_str, problem_pddl_str):\n",
        "  \"\"\"Get Pyperplan task definition from PDDL domain and problem\n",
        "\n",
        "  This function is a lightweight wrapper around Pyperplan.\n",
        "\n",
        "  Args:\n",
        "    domain_pddl_str: A str, the contents of a domain.pddl file.\n",
        "    problem_pddl_str: A str, the contents of a problem.pddl file.\n",
        "\n",
        "  Returns:\n",
        "    task: a structure defining the problem\n",
        "  \"\"\"\n",
        "  # Parsing the PDDDL\n",
        "  domain_file = tempfile.NamedTemporaryFile(delete=False)\n",
        "  problem_file = tempfile.NamedTemporaryFile(delete=False)\n",
        "  with open(domain_file.name, 'w') as f:\n",
        "    f.write(domain_pddl_str)\n",
        "  with open(problem_file.name, 'w') as f:\n",
        "    f.write(problem_pddl_str)\n",
        "  parser = Parser(domain_file.name, problem_file.name)\n",
        "  domain = parser.parse_domain()\n",
        "  problem = parser.parse_problem(domain)\n",
        "  os.remove(domain_file.name)\n",
        "  os.remove(problem_file.name)\n",
        "\n",
        "  # Ground the PDDL\n",
        "  task = grounding.ground(problem)\n",
        "\n",
        "  return task\n",
        "\n",
        "def get_task_definition(domain_pddl, problem_pddl):\n",
        "  \"\"\"Get Pyperplan task definition from PDDL domain and problem\n",
        "\n",
        "  This function is a lightweight wrapper around Pyperplan.\n",
        "\n",
        "  Args:\n",
        "    domain_pddl_str: A str, the name of a domain.pddl file.\n",
        "    problem_pddl_str: A str, the name of a problem.pddl file.\n",
        "\n",
        "  Returns:\n",
        "    task: a structure defining the problem\n",
        "  \"\"\"\n",
        "  # Parsing the PDDDL\n",
        "  parser = Parser(domain_pddl, problem_pddl)\n",
        "  domain = parser.parse_domain()\n",
        "  problem = parser.parse_problem(domain)\n",
        "\n",
        "  # Ground the PDDL\n",
        "  task = grounding.ground(problem)\n",
        "\n",
        "  return task\n",
        "\n",
        "def h_add_test(prob_str, expected_h):\n",
        "  task = get_task_definition_str(BLOCKS_DOMAIN, prob_str)\n",
        "  h = h_add(task)\n",
        "  assert h == expected_h, f\"Expected h={expected_h}, but got {h}.\"\n",
        "  return h\n",
        "\n",
        "def h_ff_test(prob_str, expected_h):\n",
        "  task = get_task_definition_str(BLOCKS_DOMAIN, prob_str)\n",
        "  h = h_ff(task)\n",
        "  assert h == expected_h, f\"Expected h={expected_h}, but got {h}.\""
      ],
      "execution_count": 5,
      "outputs": []
    },
    {
      "cell_type": "markdown",
      "metadata": {
        "id": "WMh0tA0yIUru"
      },
      "source": [
        "### Construct Reduced Planning Graph (RPG)\n",
        "Given a [Pyperplan Task](https://github.com/aibasel/pyperplan/blob/master/pyperplan/task.py) instance and an optional state, return (F_t, A_t), two lists as defined in the RPG pseudo-code from lecture.  Note that _fact names_ in the documentation of `Task` are strings such as '(on a b)' and operator instances are instances of the `Operator` class; the `name` of an operator instance is a string such as '(unstack a c)'.  Is state is None, use `task.initial_state`.\n",
        "\n",
        "For reference, our solution is **13** lines of code."
      ]
    },
    {
      "cell_type": "code",
      "metadata": {
        "id": "l7-ejXimIUrv"
      },
      "source": [
        "def construct_rpg(task, state=None):\n",
        "  \"\"\"Constructs a Relaxed Planning Graph (RPG) for a given Pyperplan Task and state.  If state is None, use the initial_state of the task.\n",
        "\n",
        "  Args:\n",
        "    task: a Pyperplan Task instance\n",
        "    state: a set of facts (can be None)\n",
        "\n",
        "  Returns:\n",
        "    rpg: A pair (F_sets, A_sets).  Note that F_sets has length one longger than A_sets.  F_sets is a list and the item in the list at F[t] should be a set of fact names.  We expect F_set to be something like \"[{'(clear a)', ...}, {'(on-table b)',...}, ...]”.  A_sets is a list and the item in the list at A[t] should be a set of operator instance names.  We expect A_sets to be something like \"[{'(unstack a b)', ...}, {'(stack a b)', ... }, ... ]\"\n",
        "  \"\"\"\n",
        "  if state == None:\n",
        "    state = task.initial_state\n",
        "  f = [state]\n",
        "  a = []\n",
        "  t = 0\n",
        "  while not task.goal_reached(f[t]):\n",
        "    temp = set(f[t])\n",
        "    act = set()\n",
        "    for ac in task.operators:\n",
        "      if ac.applicable(f[t]):\n",
        "        act.add(ac)\n",
        "        temp = temp.union(set(ac.add_effects))\n",
        "    a.append(act)\n",
        "    f.append(temp)\n",
        "    if temp == f[t]:\n",
        "      break\n",
        "    t+=1\n",
        "  return f,a\n"
      ],
      "execution_count": 6,
      "outputs": []
    },
    {
      "cell_type": "markdown",
      "metadata": {
        "id": "fIjVgIUcIUrw"
      },
      "source": [
        "Tests"
      ]
    },
    {
      "cell_type": "code",
      "metadata": {
        "id": "_kOTvZNsIUrx",
        "colab": {
          "base_uri": "https://localhost:8080/"
        },
        "outputId": "ab1941be-bf48-402b-8a7e-820a3e174df5"
      },
      "source": [
        "def construct_rpg_test1():\n",
        "  task = get_task_definition_str(BLOCKS_DOMAIN, BLOCKS_PROBLEM_1)\n",
        "  expected_F_sets = [{'(clear a)', '(on a b)', '(on-table b)', '(arm-empty)'}, {'(on-table b)', '(arm-empty)', '(clear a)', '(on a b)', '(holding a)', '(clear b)'}, {'(arm-empty)', '(on-table a)', '(holding a)', '(holding b)', '(on-table b)', '(on a a)', '(clear a)', '(on a b)', '(clear b)'}]\n",
        "  F_sets, A_sets = construct_rpg(task)\n",
        "  assert len(F_sets) == len(expected_F_sets), f\"Expected F_sets of length {len(expected_F_sets)}, but got {len(F_sets)}.\"\n",
        "  for F_set, expected_F_set in zip(F_sets, expected_F_sets):\n",
        "      assert F_set == expected_F_set, f\"Incorrect F_set: {F_set}\"\n",
        "  expected_A_set_strs = [{'(unstack a b)'}, {'(unstack a b)', '(pick-up b)', '(stack a a)', '(stack a b)', '(put-down a)'}]\n",
        "  assert len(A_sets) == len(expected_A_set_strs), f\"Expected A_sets of length {len(expected_A_set_strs)}, but got {len(A_sets)}.\"\n",
        "  for A_set, expected_A_set_str in zip(A_sets, expected_A_set_strs):\n",
        "      A_set_str = {a.name for a in A_set}\n",
        "      assert A_set_str == expected_A_set_str, f\"Incorrect A_set: {A_set_str}, expected {expected_A_set_str}\"\n",
        "  return F_sets, [{a.name for a in A_set} for a in A_sets]\n",
        "\n",
        "construct_rpg_test1()\n",
        "def construct_rpg_test2():\n",
        "  task = get_task_definition_str(BLOCKS_DOMAIN, BLOCKS_PROBLEM_2)\n",
        "  expected_F_sets = [{'(arm-empty)', '(clear c)', '(on-table a)', '(on c a)', '(clear b)', '(on-table b)'}, {'(clear c)', '(holding b)', '(on-table a)', '(holding c)', '(clear b)', '(clear a)', '(on-table b)', '(arm-empty)', '(on c a)'}, {'(clear c)', '(holding b)', '(on-table a)', '(holding c)', '(on b a)', '(on c c)', '(clear b)', '(holding a)', '(clear a)', '(on-table b)', '(arm-empty)', '(on b b)', '(on b c)', '(on c b)', '(on c a)', '(on-table c)'}, {'(holding b)', '(on-table a)', '(on c c)', '(clear a)', '(on-table b)', '(on b b)', '(on c a)', '(on a b)', '(clear c)', '(holding c)', '(on b a)', '(on a a)', '(clear b)', '(holding a)', '(on a c)', '(arm-empty)', '(on b c)', '(on c b)', '(on-table c)'}]\n",
        "  F_sets, A_sets = construct_rpg(task)\n",
        "  assert len(F_sets) == len(expected_F_sets), f\"Expected F_sets of length {len(expected_F_sets)}, but got {len(F_sets)}.\"\n",
        "  for F_set, expected_F_set in zip(F_sets, expected_F_sets):\n",
        "      assert F_set == expected_F_set, f\"Incorrect F_set: {F_set}\"\n",
        "  expected_A_set_strs = [{'(unstack c a)', '(pick-up b)'}, {'(unstack c a)', '(pick-up b)', '(stack b a)', '(stack b c)', '(put-down c)', '(stack c a)', '(stack c c)', '(put-down b)', '(stack c b)', '(pick-up a)', '(stack b b)'}, {'(stack b a)', '(stack b c)', '(unstack b b)', '(stack c c)', '(stack c b)', '(unstack c b)', '(unstack b c)', '(stack a b)', '(put-down a)', '(stack a c)', '(pick-up a)', '(stack a a)', '(unstack c a)', '(pick-up b)', '(put-down c)', '(stack c a)', '(put-down b)', '(unstack b a)', '(stack b b)', '(pick-up c)', '(unstack c c)'}]\n",
        "  assert len(A_sets) == len(expected_A_set_strs), f\"Expected A_sets of length {len(expected_A_set_strs)}, but got {len(A_sets)}.\"\n",
        "  for A_set, expected_A_set_str in zip(A_sets, expected_A_set_strs):\n",
        "      assert {a.name for a in A_set} == expected_A_set_str, f\"Incorrect A_set: {A_set}\"\n",
        "  return F_sets, [{a.name for a in A_set} for a in A_sets]\n",
        "\n",
        "construct_rpg_test2()\n",
        "print('Tests passed.')"
      ],
      "execution_count": 7,
      "outputs": [
        {
          "output_type": "stream",
          "name": "stdout",
          "text": [
            "Tests passed.\n"
          ]
        }
      ]
    },
    {
      "cell_type": "markdown",
      "metadata": {
        "id": "zVuuqS5lIUrz"
      },
      "source": [
        "### Implement h_add\n",
        "Given a [Pyperplan Task](https://github.com/aibasel/pyperplan/blob/master/pyperplan/task.py) instance and a state (set of facts or None), return h_add(state).\n",
        "\n",
        "For reference, our solution is **4** lines of code.\n",
        "\n",
        "In addition to all of the utilities defined at the top of the colab notebook, the following functions are available in this question environment: `construct_rpg`. You may not need to use all of them."
      ]
    },
    {
      "cell_type": "code",
      "metadata": {
        "id": "n8xqgckwIUrz"
      },
      "source": [
        "def h_add(task, state=None):\n",
        "  \"\"\"Computes h_add for a given Pyperplan Task and state.  If state is None, use the initial_state of the task.\n",
        "\n",
        "  Args:\n",
        "    task: a pyperplan Task instance\n",
        "    state: a set of facts (can be None)\n",
        "\n",
        "  Returns:\n",
        "    h: an integer\n",
        "  \"\"\"\n",
        "  G = task.goals\n",
        "  F_sets, A_sets = construct_rpg(task, state)\n",
        "  level_g = {g: min(t for t in range(len(F_sets)) if g in F_sets[t]) for g in G}\n",
        "  return sum(level_g.values())"
      ],
      "execution_count": 8,
      "outputs": []
    },
    {
      "cell_type": "markdown",
      "metadata": {
        "id": "Qha2MI7EIUr0"
      },
      "source": [
        "Tests"
      ]
    },
    {
      "cell_type": "code",
      "metadata": {
        "id": "WLhFBZy2IUr0",
        "colab": {
          "base_uri": "https://localhost:8080/"
        },
        "outputId": "8c4c9c73-d883-4ae4-e8a9-aae84256b4ba"
      },
      "source": [
        "def h_add_test1(): return h_add_test(BLOCKS_PROBLEM_1, 3)\n",
        "\n",
        "h_add_test1()\n",
        "def h_add_test2(): return h_add_test(BLOCKS_PROBLEM_2, 5)\n",
        "\n",
        "h_add_test2()\n",
        "def h_add_test3(): return h_add_test(BLOCKS_PROBLEM_3, 21)\n",
        "\n",
        "h_add_test3()\n",
        "def h_add_test4(): return h_add_test(BLOCKS_PROBLEM_4, 30)\n",
        "\n",
        "h_add_test4()\n",
        "print('Tests passed.')"
      ],
      "execution_count": 9,
      "outputs": [
        {
          "output_type": "stream",
          "name": "stdout",
          "text": [
            "Tests passed.\n"
          ]
        }
      ]
    },
    {
      "cell_type": "markdown",
      "metadata": {
        "id": "uxelAqVzIUr0"
      },
      "source": [
        "### Implement h_ff\n",
        "Given a [Pyperplan Task](https://github.com/aibasel/pyperplan/blob/master/pyperplan/task.py) and a state (set of facts or None), return h_ff(state).\n",
        "\n",
        "For reference, our solution is **18** lines of code.\n",
        "\n",
        "In addition to all of the utilities defined at the top of the colab notebook, the following functions are available in this question environment: `construct_rpg`. You may not need to use all of them."
      ]
    },
    {
      "cell_type": "code",
      "metadata": {
        "id": "Mfsp77ouIUr1"
      },
      "source": [
        "def h_ff(task, state=None):\n",
        "  \"\"\"Computes h_ff for a given task and state.  If state is None, use the initial_state of the task.\n",
        "\n",
        "  Args:\n",
        "    task: a Pyperplan Task instance\n",
        "    state: a set of facts (can be None)\n",
        "\n",
        "  Returns:\n",
        "    h: an integer\n",
        "  \"\"\"\n",
        "  G = task.goals\n",
        "  A = task.operators\n",
        "  F_sets, A_sets = construct_rpg(task, state)\n",
        "  level_p = {p: min(t for t in range(len(F_sets)) if p in F_sets[t]) for p in F_sets[-1]}\n",
        "  level_a = {a: min((t for t in range(len(A_sets)) if a in A_sets[t]), default=float('inf')) for a in A}\n",
        "  M = max(level_p[p] for p in G)\n",
        "  G_by_level = [{g for g in G if level_p[g] == t} for t in range(M+1)]\n",
        "  selected = set()\n",
        "  for t in range(M, 0, -1):\n",
        "    for g in G_by_level[t]:\n",
        "      sel_a = next(a for a in A if level_a[a] == t-1 and g in a.add_effects)\n",
        "      assert sel_a\n",
        "      selected.add(sel_a)\n",
        "      for p in sel_a.preconditions:\n",
        "        p_level = level_p[p]\n",
        "        assert p_level < t, 'Preconditions for action not true at this level'\n",
        "        G_by_level[p_level].add(p)\n",
        "  return len(selected)"
      ],
      "execution_count": 10,
      "outputs": []
    },
    {
      "cell_type": "markdown",
      "metadata": {
        "id": "AJ7LxfboIUr1"
      },
      "source": [
        "Tests"
      ]
    },
    {
      "cell_type": "code",
      "metadata": {
        "id": "AAOittgqIUr2",
        "colab": {
          "base_uri": "https://localhost:8080/"
        },
        "outputId": "b62756d3-2c76-459e-8bde-5957850c5dbf"
      },
      "source": [
        "def h_ff_test1(): return h_ff_test(BLOCKS_PROBLEM_1, 2)\n",
        "\n",
        "h_ff_test1()\n",
        "def h_ff_test2(): return h_ff_test(BLOCKS_PROBLEM_2, 5)\n",
        "\n",
        "h_ff_test2()\n",
        "def h_ff_test3(): return h_ff_test(BLOCKS_PROBLEM_3, 12)\n",
        "\n",
        "h_ff_test3()\n",
        "def h_ff_test4(): return h_ff_test(BLOCKS_PROBLEM_4, 16)\n",
        "\n",
        "h_ff_test4()\n",
        "print('Tests passed.')"
      ],
      "execution_count": 11,
      "outputs": [
        {
          "output_type": "stream",
          "name": "stdout",
          "text": [
            "Tests passed.\n"
          ]
        }
      ]
    },
    {
      "cell_type": "markdown",
      "metadata": {
        "id": "nIG185JtIUr2"
      },
      "source": [
        "### RRT-Related Utilties\n",
        "**Note**: these imports and functions are available in catsoop. You do not need to copy them in."
      ]
    },
    {
      "cell_type": "code",
      "metadata": {
        "id": "9a92s2u7IUr2"
      },
      "source": [
        "# Useful geometric data structures and methods.\n",
        "def euclidean_distance(a, b):\n",
        "  return math.sqrt((a.x - b.x) ** 2 + (a.y - b.y) ** 2)\n",
        "\n",
        "\n",
        "RobotConfig = namedtuple('RobotConfig', ['x', 'y'])\n",
        "\n",
        "\n",
        "class Circle(namedtuple('Circle', ['x', 'y', 'r'])):\n",
        "  def collide(self, config):\n",
        "    return euclidean_distance(config, self) < self.r\n",
        "\n",
        "\n",
        "class RobotPlanningProblem:\n",
        "  \"\"\"\n",
        "  A robot planning problem definition contains the configuration space of the robot\n",
        "  and all obstacles represented as geometries in the configuration space.\n",
        "\n",
        "  In this problem set, we will consider a simple 2D map, where the robot configuration\n",
        "  space is represented as a tuple (x, y).\n",
        "\n",
        "  In the __init__ definition, we will define the range of x and y values of the robot's configuration,\n",
        "  as well as a list of obstacles. See the code for details.\n",
        "  \"\"\"\n",
        "  def __init__(self):\n",
        "    # The ma\n",
        "    self.x_range = (-10, 10)  # range of the x value.\n",
        "    self.y_range = (-10, 10)  # range of the y value.\n",
        "    self.obstacles = [\n",
        "      Circle(0, 0, 4),\n",
        "      Circle(-5, -5, 2),\n",
        "      Circle(3, -4, 3),\n",
        "      Circle(-3, 4, 1)\n",
        "    ]\n",
        "\n",
        "  def sample(self):\n",
        "    \"\"\"Generate a random sample in the robot configuration space.\"\"\"\n",
        "    return RobotConfig(random.uniform(*self.x_range), random.uniform(*self.y_range))\n",
        "\n",
        "  def distance(self, a, b):\n",
        "    \"\"\"Return the distance between two robot configurations.\n",
        "\n",
        "    Args:\n",
        "      a (RobotConfig): the first robot configuration.\n",
        "      b (RobotConfig): the second robot configuration.\n",
        "\n",
        "    Return:\n",
        "      distance (float): the distance between two configurations.\n",
        "    \"\"\"\n",
        "    return math.sqrt((a[0] - b[0]) ** 2 + (a[1] - b[1]) ** 2)\n",
        "\n",
        "  def collide(self, x):\n",
        "    \"\"\"Test if the input robot configuration collides with some obstacles.\n",
        "\n",
        "    Args:\n",
        "      x (RobotConfig): the input configuration.\n",
        "\n",
        "    Returns:\n",
        "      collision (bool): True if a collision happens between the input configuration and one of the obstacle in the environment.\n",
        "    \"\"\"\n",
        "    for obs in self.obstacles:\n",
        "      if obs.collide(x):\n",
        "        return True\n",
        "    return False\n",
        "\n",
        "\n",
        "class RRTNode:\n",
        "  \"\"\"Node of a rapidly-exploring random tree.\n",
        "\n",
        "  Each node is associated with a robot configuration.\n",
        "  It also keeps track of\n",
        "    - the parent in the tree.\n",
        "    - a list of children nodes in the tree.\n",
        "\n",
        "  If the node itself is the node for an RRT, node.parent will be set to None.\n",
        "  If the node is a leaf node in an RRT, node.children will be an empty list.\n",
        "  \"\"\"\n",
        "\n",
        "  # config: RobotConfig # Robot state\n",
        "  # parent: Optional['RRTNode']  # parent node\n",
        "  # children: List['RRTNode']  # children\n",
        "\n",
        "  def __init__(self, config: RobotConfig, parent = None):\n",
        "    self.config = config\n",
        "    self.parent = parent\n",
        "    self.children = list()\n",
        "\n",
        "  def add_child(self, other):\n",
        "    \"\"\"\n",
        "    Register another node as the child of the current node.\n",
        "\n",
        "    Args:\n",
        "      other (RRTNode): the other RRTNode.\n",
        "\n",
        "    Returns:\n",
        "      self (RRTNode)\n",
        "    \"\"\"\n",
        "    self.children.append(other)\n",
        "    return self\n",
        "\n",
        "  def attach_to(self, parent):\n",
        "    \"\"\"Attach the current node to another node. This function will:\n",
        "      - set the parent of self to parent.\n",
        "      - add self to parent.children.\n",
        "\n",
        "    Args:\n",
        "      parent (RRTNode): the parent node.\n",
        "\n",
        "    Returns:\n",
        "      self (RRTNode)\n",
        "    \"\"\"\n",
        "    self.parent = parent\n",
        "    self.parent.add_child(self)\n",
        "    return self\n",
        "\n",
        "  def backtrace(self, config=True):\n",
        "    \"\"\"Return the path from root to the current node. For example, if the tree is:\n",
        "\n",
        "    s0 --> s1 -> s2 -> S3 -> s4\n",
        "       \\\n",
        "        -> s5 -> s6\n",
        "\n",
        "    Calling s6.backtrace() will return the list: [s0, s5, s6].\n",
        "\n",
        "    Args:\n",
        "      config (bool): if True, return a list of robot configurations.\n",
        "      Otherwise, return the RRTNode list.\n",
        "\n",
        "    Returns:\n",
        "      path (List[RobotConfig]): the path from root to the current node.\n",
        "    \"\"\"\n",
        "    path = list()\n",
        "\n",
        "    def dfs(x):\n",
        "      nonlocal path\n",
        "      if x.parent is not None:\n",
        "        dfs(x.parent)\n",
        "      path.append(x.config if config else x)\n",
        "\n",
        "    try:\n",
        "      dfs(self)\n",
        "      return path\n",
        "    finally:\n",
        "      del dfs\n",
        "\n",
        "  def __repr__(self):\n",
        "      return f'RRTNode(config={self.config}, parent={self.parent})'\n",
        "\n",
        "\n",
        "class RRT:\n",
        "  \"\"\"The RRT tree.\n",
        "\n",
        "  The constructor of RRT takes two parameters:\n",
        "    problem (RobotPlanningProblem): an instance of the robot planning problem.\n",
        "      It will define the distance metric in the configuration space.\n",
        "    roots (List[RRTNode]): a list of RRTNode instances. They are the \"roots\" of the RRT.\n",
        "      Note that it is a list of nodes. So if you want to construct an RRT with a single\n",
        "      root node, please use RRT(problem, [your_single_node]).\n",
        "\n",
        "  Note that the RRT class does not explicitly manages all nodes in the tree.\n",
        "  It only keeps track of the root nodes of the tree.\n",
        "  To get all nodes in an RRT tree, we need to do a tree travesal from the roots.\n",
        "  We have provided a helper function traverse_rrt_bfs for you to do that.\n",
        "\n",
        "  There are two useful helper functions in RRT class.\n",
        "    - extend: which attaches a new node to an existing node in the tree.\n",
        "    - nearest: which finds the node in the RRT that is most close to the query node.\n",
        "  See the function docstrings for details.\n",
        "  \"\"\"\n",
        "\n",
        "  def __init__(self, problem, roots):\n",
        "    if isinstance(roots, RRTNode):\n",
        "      roots = [roots]\n",
        "    else:\n",
        "      assert isinstance(roots, list)\n",
        "\n",
        "    self.problem = problem\n",
        "    self.roots = roots\n",
        "    self.size = len(roots)\n",
        "\n",
        "  def extend(self, parent, child_config):\n",
        "    \"\"\"Create a new RRTNode from a robot configuration and set its parent.\n",
        "\n",
        "    Basically, it creates a new RRTNode instance from child_config and attach this\n",
        "    new node to the `parent` node. We recommend you to use this function\n",
        "    instead of doing it yourself because it will help you keep track of the size\n",
        "    of the RRT, which may be useful for your debugging purpose.\n",
        "\n",
        "    Args:\n",
        "      parent (RRTNode): the parent node (in the current RRT).\n",
        "      child_config (RobotConig): the robot configuration of the new node.\n",
        "\n",
        "    Returns:\n",
        "      child (RRTNode): the new node.\n",
        "    \"\"\"\n",
        "    child = RRTNode(child_config).attach_to(parent)\n",
        "    self.size += 1\n",
        "    return child\n",
        "\n",
        "  def nearest(self, config):\n",
        "    \"\"\"Return the RRTNode in the tree that is closest to the target configuration.\n",
        "    We strongly suggest you to take a look at the function definition to see\n",
        "    the example usage of function `traverse_rrt_bfs` and `problem.distance`.\n",
        "\n",
        "    Args:\n",
        "      config (RobotConfig): the query robot config.\n",
        "\n",
        "    Returns:\n",
        "      best_node (RRTNode): a node in the RRT that is closest to the query configuration\n",
        "        based on the distance metric in the configuration space.\n",
        "    \"\"\"\n",
        "    best_node, best_value = None, np.inf\n",
        "    for node in traverse_rrt_bfs(self.roots):\n",
        "      distance = self.problem.distance(node.config, config)\n",
        "      if distance < best_value:\n",
        "        best_value = distance\n",
        "        best_node = node\n",
        "\n",
        "    return best_node\n",
        "\n",
        "\n",
        "def traverse_rrt_bfs(nodes):\n",
        "  \"\"\"Run breath-first search to return all RRTNodes that are descendants of\n",
        "  the input list of RRTNodes.\n",
        "\n",
        "  Args:\n",
        "    nodes: a list of RRTNodes as the seed nodes.\n",
        "\n",
        "  Returns:\n",
        "    a list of RRTNodes that are descendants of the input lists (including the input list).\n",
        "  \"\"\"\n",
        "  queue = nodes.copy()\n",
        "  results = list()\n",
        "\n",
        "  while len(queue) > 0:\n",
        "    x = queue[0]\n",
        "    queue = queue[1:]\n",
        "    results.append(x)\n",
        "    for y in x.children:\n",
        "      queue.append(y)\n",
        "\n",
        "  return results\n",
        "\n",
        "\n",
        "########## Test-Related Tools for RRT ##########\n",
        "\n",
        "\n",
        "def check_path_smooth(problem, path, max_diff, eps=1e-5):\n",
        "  \"\"\"Check if a path is collision-free and satisfies the max_diff constraint.\"\"\"\n",
        "  if path is None or len(path) == 0:\n",
        "    return False\n",
        "  for config1, config2 in zip(path[:-1], path[1:]):\n",
        "    if any(abs(config1[i] - config2[i]) > max_diff + eps for i in range(len(config1))):\n",
        "      return False\n",
        "  for config in path:\n",
        "    if problem.collide(config):\n",
        "      return False\n",
        "  return True\n",
        "\n",
        "\n",
        "def check_path_smooth_and_successful(problem, path, initial_config, goal_config, max_diff, eps=1e-5):\n",
        "  \"\"\"Check if a path is collision-free, satisfies the max_diff constraint, and connects initial_config and goal_config.\"\"\"\n",
        "  return path is not None and len(path) > 0 and np.allclose(path[0], initial_config, atol=eps) and np.allclose(path[-1], goal_config, atol=eps) and check_path_smooth(problem, path, max_diff, eps=eps)"
      ],
      "execution_count": 12,
      "outputs": []
    },
    {
      "cell_type": "markdown",
      "metadata": {
        "id": "doTwdwgiIUr5"
      },
      "source": [
        "### Extend Path in a Robot Configuration Space (OPTIONAL)\n",
        "In this section, you will implement an important utility for doing motion planning in a continuous space: extend_path.\n",
        "The function will take two arguments, `initial_config` and `goal_config` and make a linear interpolation between these\n",
        "two configurations in the robot's configuration space.\n",
        "\n",
        "Its output is a path, that is, a list of robot configurations along the line from `initial_config` to `goal_config`.\n",
        "When the `initial_config` and `goal_config` cannot be directly connected with a line because of collision,\n",
        "your function should return a \"prefix\" of the path.\n",
        "In other words, you should try to move towards the goal until you reach some obstacles in the environment.\n",
        "\n",
        "Take a close look at the docstring of the `RobotPlanningProblem` class before you implement this function.\n",
        "\n",
        "\n",
        "For reference, our solution is **15** lines of code."
      ]
    },
    {
      "cell_type": "code",
      "metadata": {
        "id": "0x1cJVNNIUr6"
      },
      "source": [
        "def extend_path(problem, initial_config, goal_config, max_diff):\n",
        "  \"\"\"Construct a linear path in the configuration space from the initial configuration to the goal configuration.\n",
        "\n",
        "  Your implementation should have two steps.\n",
        "  Step 1, construct a path that is a linear interpolation between initial_config and goal_config.\n",
        "  At each step, the movement along x and along y should be both smaller than or equal to max_diff.\n",
        "\n",
        "  Step 2: check for collisions.\n",
        "  You should iterate over the configurations in the path generated in step 1,\n",
        "  if a configuration triggers a collision with an obstacle,\n",
        "  your algorithm should return the longest prefix path that does not have any collision.\n",
        "  We have implemented this test for you. But make sure you read the code and understand how it works.\n",
        "\n",
        "  Note that, even though we have separated linear interpolation and collision checking as two\n",
        "  separate steps, you can also choose to do them simultaneously in a single for loop.\n",
        "\n",
        "  Args:\n",
        "    problem (RobotPlanningProblem): a RobotPlanningProblem instance, used for collision checking.\n",
        "    initial_config (RobotConfig): the initial configuration. It should be the first element of your return list.\n",
        "    goal_config (RobotConfig): the target configuration. It should be the last element of your return list (if succeed).\n",
        "    max_diff (float): the maximum movement in x or y.\n",
        "\n",
        "  Returns:\n",
        "    successful: a bool value indicating whether we have found a path from the initial configuration to the goal configuration.\n",
        "      If a collision happens, you should return False. See the starter code.\n",
        "    path: a list of RobotConfig: extending from the initial to the goal configuration.\n",
        "  \"\"\"\n",
        "  path = [initial_config]\n",
        "  # Step 1: Generate a list of robot configurations that connects initial_config and goal_config.\n",
        "  # Your code only needs to take care of max_diff. You can ignore collision checking for now.\n",
        "  # Your code here...\n",
        "  ndims = len(initial_config)\n",
        "  diffs = [goal_config[i] - initial_config[i] for i in range(ndims)]\n",
        "  nr_samples = max([int(math.ceil(abs(diff) / max_diff)) + 1 for diff in diffs])\n",
        "  nr_samples = max(2, nr_samples)\n",
        "  linear_interpolation = [diff / (nr_samples - 1.0) for diff in diffs]\n",
        "  path = [initial_config]\n",
        "  for s in range(1, nr_samples - 1):\n",
        "    sample = RobotConfig(*[initial_config[i] + s * linear_interpolation[i] for i in range(ndims)])\n",
        "    path.append(sample)\n",
        "  path.append(goal_config)\n",
        "\n",
        "  for i, config in enumerate(path):\n",
        "    if problem.collide(config):\n",
        "      return False, path[:i]\n",
        "  return True, path"
      ],
      "execution_count": 15,
      "outputs": []
    },
    {
      "cell_type": "markdown",
      "metadata": {
        "id": "E7fPms4qIUr7"
      },
      "source": [
        "Tests"
      ]
    },
    {
      "cell_type": "code",
      "metadata": {
        "id": "709CKLAPIUr7",
        "colab": {
          "base_uri": "https://localhost:8080/"
        },
        "outputId": "198ffcb8-d3da-4397-9ec6-19a3336dd2f2"
      },
      "source": [
        "def extend_path_test1():\n",
        "  problem = RobotPlanningProblem()\n",
        "  initial_config = RobotConfig(-8, -8)\n",
        "  goal_config = RobotConfig(8, 8)\n",
        "\n",
        "  success, path = extend_path(problem, initial_config, goal_config, 0.1)\n",
        "  assert not success     # you can't reach the goal with a single linear motion.\n",
        "  assert len(path) > 10  # you should make some progress.\n",
        "  assert check_path_smooth(problem, path, 0.1)\n",
        "\n",
        "extend_path_test1()\n",
        "def extend_path_test2():\n",
        "  problem = RobotPlanningProblem()\n",
        "  initial_config = RobotConfig(-8, -8)\n",
        "  goal_config = RobotConfig(-7, 6)\n",
        "\n",
        "  success, path = extend_path(problem, initial_config, goal_config, 0.1)\n",
        "  assert success\n",
        "  assert check_path_smooth_and_successful(problem, path, initial_config, goal_config, 0.1)\n",
        "\n",
        "extend_path_test2()\n",
        "print('Tests passed.')"
      ],
      "execution_count": 16,
      "outputs": [
        {
          "output_type": "stream",
          "name": "stdout",
          "text": [
            "Tests passed.\n"
          ]
        }
      ]
    },
    {
      "cell_type": "markdown",
      "metadata": {
        "id": "P6aj5YZeIUr7"
      },
      "source": [
        "### Extend Path Visualization (OPTIONAL)\n",
        "\n",
        "We have created a visualization tool for you in colab to visualize the path. You can run the following code blocks\n",
        "and they will generate the visualized the map as well as the path.\n"
      ]
    },
    {
      "cell_type": "code",
      "metadata": {
        "id": "5kNm217SIUr7"
      },
      "source": [
        "problem = RobotPlanningProblem()\n",
        "initial_config = RobotConfig(-8, -8)\n",
        "goal_config = RobotConfig(-7, 6)\n",
        "\n",
        "# we have set max_diff to 0.5 for better visualization.\n",
        "success, path = extend_path(problem, initial_config, goal_config, 0.5)\n",
        "# visualize_path(problem, path)"
      ],
      "execution_count": 18,
      "outputs": []
    },
    {
      "cell_type": "markdown",
      "metadata": {
        "id": "OfwGz_oTIUr8"
      },
      "source": [
        "### RRT (OPTIONAL)\n",
        "In this section, you will implement the RRT algorithm we talked about in class to find a path from one configuration to the goal configuration in a 2D environment.\n",
        "\n",
        "We have implemented some utility classes (RRTNode, RRT) for you, as well as their corresponding visualization tools.\n",
        "You should take a close look at their docstrings before you implement this function.  **To run in Colab, you will need an implementation of `extend_path`, if you did not write your own, use the solution in Catsoop.**\n",
        "\n",
        "**Hint**: recall that there is a hyperparameter in RRT, which balances how frequently we want to test if the goal configuration can be reached from a node in the current\n",
        "RRT tree. Our suggested value for this hyperparameter is 0.1.\n",
        "\n",
        "\n",
        "For reference, our solution is **18** lines of code.\n",
        "\n",
        "In addition to all of the utilities defined at the top of the colab notebook, the following functions are available in this question environment: `extend_path`. You may not need to use all of them."
      ]
    },
    {
      "cell_type": "code",
      "metadata": {
        "id": "H8MKn6X5IUr8"
      },
      "source": [
        "def rrt(problem, initial_config, goal_config, max_diff, nr_iterations=100, goal_sample_prob=0.1):\n",
        "  \"\"\"Implement RRT algorithm to compute a path from the initial configuration to the target configuration.\n",
        "  Your implementation should returns a list of robot configurations, starting from initial_config and terminating at goal_config.\n",
        "\n",
        "  Similar to the definition in extend_path, at each step, the movement along x and along y should be both smaller than or equal to max_diff.\n",
        "  You should use the extend_path utility that you just implemented to check whether there is a path from one node to another.\n",
        "\n",
        "  Args:\n",
        "    problem (RobotPlanningProblem): an RobotPlanningProblem instance, used for configuration sampling and collision checking.\n",
        "    initial_config (RobotConfig): the initial configuration. It should be the first element of your return list.\n",
        "    goal_config (RobotConfig): the target configuration. It should be the last element of your return list.\n",
        "    max_diff (float): the maximum movement in x or y.\n",
        "    nr_iterations (int): the number of iterations in RRT.\n",
        "    goal_sample_prob (float): at each iteration, with prob p, you should try to construct a path from a node to the goal configuration.\n",
        "      Otherwise, you should sample a new configuration and try to constrcut a path from a node to it.\n",
        "\n",
        "  Returns:\n",
        "    path: a list of RobotConfig as the trajectory. Return None if we can't find such a path after the specified number of iterations.\n",
        "    rrt: an RRT object. The root should be the intial_config. There must also exist another node for goal_config.\n",
        "  \"\"\"\n",
        "  raise NotImplementedError(\"Implement me!\")"
      ],
      "execution_count": null,
      "outputs": []
    },
    {
      "cell_type": "markdown",
      "metadata": {
        "id": "dm056oJSIUr8"
      },
      "source": [
        "Tests"
      ]
    },
    {
      "cell_type": "code",
      "metadata": {
        "id": "NyAyTNojIUr8"
      },
      "source": [
        "def rrt_test():\n",
        "  problem = RobotPlanningProblem()\n",
        "  initial_config = RobotConfig(-8, -8)\n",
        "  goal_config = RobotConfig(8, 8)\n",
        "\n",
        "  path, tree = rrt(problem, initial_config, goal_config, 0.5, nr_iterations=200)\n",
        "  assert check_path_smooth_and_successful(problem, path, initial_config, goal_config, 0.5)\n",
        "\n",
        "rrt_test()\n",
        "print('Tests passed.')"
      ],
      "execution_count": null,
      "outputs": []
    },
    {
      "cell_type": "markdown",
      "metadata": {
        "id": "aezJ7VzvIUr8"
      },
      "source": [
        "### RRT Visualization (OPTIONAL)\n",
        "\n",
        "We have created a visualization tool for you in colab to visualize the RRT tree during your search. You can run the following code blocks\n",
        "and they will generate the visualized the map as well as some lines showing the edges in the RRT.\n",
        "\n",
        "If you run this cell multiple times, you will see different RRT trees due to different random seeds.\n",
        "You will find that sometimes the tree has very few nodes -- indicating that your RRT algorithm finds a solution very quickly.\n",
        "Sometimes it takes many iterations to find the solution. This suggests that the algorithm is very sensitive to random seeds,\n",
        "which is bad for practical usage. Thus, in practice, we shuold always use improved RRT algorithm variants such as BiRRT (bidirectional RRT).\n",
        "\n",
        "We recommend you try in your colab notebook to see how the hyperparameter `goal_sample_probability` will affect the search process.\n",
        "Specifically, try to set that probability to 0.05 or 0.2 and visualize your result.\n"
      ]
    },
    {
      "cell_type": "code",
      "metadata": {
        "id": "kkFgOQezIUr9"
      },
      "source": [
        "problem = RobotPlanningProblem()\n",
        "initial_config = RobotConfig(-8, -8)\n",
        "goal_config = RobotConfig(8, 8)\n",
        "\n",
        "# we have set max_diff to 0.5 for better visualization.\n",
        "path, tree = rrt(problem, initial_config, goal_config, 0.5)\n",
        "visualize_rrts(problem, [tree], initial_config, goal_config)"
      ],
      "execution_count": null,
      "outputs": []
    }
  ]
}