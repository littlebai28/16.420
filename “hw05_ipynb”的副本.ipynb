{
  "nbformat": 4,
  "nbformat_minor": 0,
  "metadata": {
    "colab": {
      "name": "“hw05.ipynb”的副本",
      "provenance": [],
      "collapsed_sections": []
    },
    "kernelspec": {
      "display_name": "Python 3",
      "name": "python3"
    },
    "language_info": {
      "name": "python"
    }
  },
  "cells": [
    {
      "cell_type": "markdown",
      "metadata": {
        "id": "fcPS8qXGxASc"
      },
      "source": [
        "# Homework 5"
      ]
    },
    {
      "cell_type": "markdown",
      "metadata": {
        "id": "gcfxubfHxASg"
      },
      "source": [
        "## Imports and Utilities\n",
        "**Note**: these imports and functions are available in catsoop. You do not need to copy them in."
      ]
    },
    {
      "cell_type": "code",
      "metadata": {
        "id": "qhMK0XmpxASh"
      },
      "source": [
        "\n",
        "########## Graph-Search-Related Utilities and Class Definitions ##########\n",
        "\n",
        "from collections import namedtuple, defaultdict\n",
        "from typing import Optional, List\n",
        "import heapq as hq\n",
        "import numpy as np\n",
        "import math\n",
        "import random\n",
        "\n",
        "\n",
        "def grid_successor_fn(state):\n",
        "  \"\"\"Helper for testing heuristic search.\n",
        "  \"\"\"\n",
        "  arrival_costs = np.array([\n",
        "    [1, 1, 8, 1, 1],\n",
        "    [1, 8, 1, 1, 1],\n",
        "    [1, 8, 1, 1, 1],\n",
        "    [1, 1, 1, 8, 1],\n",
        "    [1, 1, 2, 1, 1],\n",
        "  ], dtype=float)\n",
        "\n",
        "  act_to_delta = {\n",
        "    \"up\": (-1, 0),\n",
        "    \"down\": (1, 0),\n",
        "    \"left\": (0, -1),\n",
        "    \"right\": (0, 1),\n",
        "  }\n",
        "\n",
        "  r, c = state\n",
        "\n",
        "  for act, (dr, dc) in act_to_delta.items():\n",
        "    new_r, new_c = r + dr, c + dc\n",
        "    # Check if in bounds\n",
        "    if not (0 <= new_r < arrival_costs.shape[0] and \\\n",
        "            0 <= new_c < arrival_costs.shape[1]):\n",
        "      continue\n",
        "    # Valid action\n",
        "    yield (act, (new_r, new_c), arrival_costs[new_r, new_c])\n",
        "\n",
        "\n",
        "def grid_check_goal_fn(state):\n",
        "  \"\"\"Helper for testing heuristic search.\n",
        "  \"\"\"\n",
        "  # Bottom right corner of grid\n",
        "  return state == (4, 4)\n",
        "\n",
        "\n",
        "def grid_heuristic_fn(state):\n",
        "  \"\"\"Helper for testing heuristic search.\n",
        "  \"\"\"\n",
        "  # Manhattan distance\n",
        "  return abs(state[0] - 4) + abs(state[1] - 4)\n",
        "\n",
        "\n",
        "# A useful data structure for heuristic search\n",
        "Node = namedtuple(\"Node\", [\"state\", \"parent\", \"action\", \"cost\", \"g\"])\n",
        "\n",
        "\n"
      ],
      "execution_count": 1,
      "outputs": []
    },
    {
      "cell_type": "markdown",
      "metadata": {
        "id": "fFCakiJkxASj"
      },
      "source": [
        "## Problems"
      ]
    },
    {
      "cell_type": "markdown",
      "metadata": {
        "id": "JIC0EO_-xASj"
      },
      "source": [
        "### Heuristic Search\n",
        "Complete an implementation of heuristic search, encompassing A*, GBFS, or UCS.  You can assume any heuristics are consistent.\n",
        "\n",
        "For reference, our solution is **46** lines of code."
      ]
    },
    {
      "cell_type": "code",
      "metadata": {
        "id": "RaS9gh-jxASk"
      },
      "source": [
        "def run_heuristic_search(initial_state, check_goal, get_successors, get_priority, max_expansions=1000):\n",
        "  \"\"\"A generic heuristic search implementation.\n",
        "\n",
        "  Depending on get_priority, can implement A*, GBFS, or UCS.\n",
        "\n",
        "  The get_priority function here should determine the order\n",
        "  in which nodes are expanded. For example, if you want to\n",
        "  use path cost as part of this determination, then the\n",
        "  path cost (node.g) should appear inside of get_priority,\n",
        "  rather than in this implementation of `run_heuristic_search`.\n",
        "\n",
        "  Important: for determinism (and to make sure our tests pass),\n",
        "  please break ties using the state itself. For example,\n",
        "  if you would've otherwise sorted by get_priority(node), you\n",
        "  should now sort by (get_priority(node), node.state).\n",
        "\n",
        "  Args:\n",
        "    initial_state: A hashable representation of state.\n",
        "    check_goal: A callable that takes a state and returns True\n",
        "        if the state is a goal.\n",
        "    get_successors: A callable that takes a state and returns an\n",
        "        iterable of (action, next state, cost).\n",
        "    get_priority: A callable that takes a Node and returns a\n",
        "        float priority, with lower better, for the priority\n",
        "        queue. This function is what switches between different\n",
        "        versions of heurstic search.\n",
        "    max_expansions: An int maximum number of nodes to expand\n",
        "        before giving up.\n",
        "\n",
        "  Returns:\n",
        "    state_sequence: A list of states.\n",
        "    action_sequence: A list of actions.\n",
        "    cost_sequence: A list of costs.\n",
        "    num_node_expansions: An int.\n",
        "\n",
        "  Raises:\n",
        "    error: ValueError, if no plan was found.\n",
        "  \"\"\"\n",
        "  open = []\n",
        "  closed = []\n",
        "    # Add the start node\n",
        "  start = Node(initial_state,None,None,0,0)\n",
        "  open.append(start)\n",
        "  count = 0\n",
        "    # Loop until the open list is empty\n",
        "  while count < max_expansions and len(open) > 0:\n",
        "    #print(open)\n",
        "    open.sort(key = lambda node: (get_priority(node), node.state))\n",
        "        # Get the node with the lowest cost\n",
        "    current_node = open.pop(0)\n",
        "    count+=1\n",
        "        # Add the current node to the closed list\n",
        "    closed.append(current_node.state)\n",
        "    #print(2)\n",
        "    if check_goal(current_node.state):\n",
        "      state_sequence= []\n",
        "      action_sequence = []\n",
        "      cost_sequence = []\n",
        "      print(action_sequence)\n",
        "      while current_node.state != initial_state:\n",
        "        #print(1)\n",
        "        state_sequence.append(current_node.state)\n",
        "        print(current_node.action)\n",
        "        action_sequence.append(current_node.action)\n",
        "        print(action_sequence)\n",
        "        cost_sequence.append(current_node.cost)\n",
        "        current_node = current_node.parent\n",
        "      state_sequence.append(initial_state)\n",
        "      state_sequence.reverse()\n",
        "      action_sequence.reverse()\n",
        "      cost_sequence.reverse()\n",
        "      return (state_sequence,action_sequence,cost_sequence,count)  \n",
        "    for (action, next_state, cost) in get_successors(current_node.state):\n",
        "        if(next_state in closed):\n",
        "            continue\n",
        "        node = Node(next_state, current_node, action, cost, current_node.g+cost)\n",
        "        indi = False\n",
        "        for n in open:\n",
        "          if n.state == node.state:\n",
        "            indi = True\n",
        "            if current_node.g+cost < n.g:\n",
        "              open.remove(n)\n",
        "              open.append(node)\n",
        "        if not indi:\n",
        "          open.append(node)\n",
        "  raise ValueError(\"no plan found\")"
      ],
      "execution_count": 2,
      "outputs": []
    },
    {
      "cell_type": "markdown",
      "metadata": {
        "id": "1qhNraFWxASl"
      },
      "source": [
        "Tests"
      ]
    },
    {
      "cell_type": "code",
      "metadata": {
        "id": "5sArako1xASm",
        "colab": {
          "base_uri": "https://localhost:8080/"
        },
        "outputId": "035f70ff-68be-41e5-ff10-c7f60fabf6d3"
      },
      "source": [
        "initial_state = (0, 0)\n",
        "get_priority_fn = lambda node: 0\n",
        "result = run_heuristic_search(initial_state, grid_check_goal_fn,\n",
        "    grid_successor_fn, get_priority_fn)\n",
        "assert len(result) == 4\n",
        "\n",
        "def heuristic_search_test2():\n",
        "    # We will test this implementation more thoroughly with the\n",
        "    # specific heuristic search algorithms that follow\n",
        "    initial_state = (0, 0)\n",
        "    get_priority_fn = lambda node: 0\n",
        "    state_sequence, action_sequence, cost_sequence, num_expansions = run_heuristic_search(initial_state, grid_check_goal_fn,\n",
        "        grid_successor_fn, get_priority_fn)\n",
        "    # Textbook implementation\n",
        "    try:\n",
        "        assert state_sequence == [(0, 0), (0, 1), (0, 2), (0, 3), (0, 4), (1, 4), (2, 4), (3, 4), (4, 4)]\n",
        "        assert action_sequence == ['right', 'right', 'right', 'right', 'down', 'down', 'down', 'down']\n",
        "        assert cost_sequence == [1.0, 8.0, 1.0, 1.0, 1.0, 1.0, 1.0, 1.0]\n",
        "    # Alternative implementation that tracks best-cost-to-nodes\n",
        "    except AssertionError:\n",
        "        assert state_sequence == [(0, 0), (1, 0), (2, 0), (3, 0), (3, 1), (3, 2), (4, 2), (4, 3), (4, 4)]\n",
        "        assert action_sequence == ['down', 'down', 'down', 'right', 'right', 'down', 'right', 'right']\n",
        "        assert cost_sequence == [1.0, 1.0, 1.0, 1.0, 1.0, 2.0, 1.0, 1.0]\n",
        "    assert num_expansions <= 35\n",
        "\n",
        "heuristic_search_test2()\n",
        "# If your results do not match the expected ones, make sure that you are tiebreaking\n",
        "# as described in the docstring for `run_heuristic_search`.\n",
        "initial_state = (0, 0)\n",
        "get_priority_fn = lambda node: node.g\n",
        "state_sequence, action_sequence, cost_sequence, num_expansions = run_heuristic_search(initial_state, grid_check_goal_fn,\n",
        "    grid_successor_fn, get_priority_fn)\n",
        "assert state_sequence == [(0, 0), (1, 0), (2, 0), (3, 0), (3, 1), (3, 2), (4, 2), (4, 3), (4, 4)]\n",
        "assert action_sequence == ['down', 'down', 'down', 'right', 'right', 'down', 'right', 'right']\n",
        "assert cost_sequence == [1.0, 1.0, 1.0, 1.0, 1.0, 2.0, 1.0, 1.0]\n",
        "assert num_expansions <= 35\n",
        "\n",
        "print('Tests passed.')"
      ],
      "execution_count": 3,
      "outputs": [
        {
          "output_type": "stream",
          "name": "stdout",
          "text": [
            "[]\n",
            "right\n",
            "['right']\n",
            "right\n",
            "['right', 'right']\n",
            "down\n",
            "['right', 'right', 'down']\n",
            "right\n",
            "['right', 'right', 'down', 'right']\n",
            "right\n",
            "['right', 'right', 'down', 'right', 'right']\n",
            "down\n",
            "['right', 'right', 'down', 'right', 'right', 'down']\n",
            "down\n",
            "['right', 'right', 'down', 'right', 'right', 'down', 'down']\n",
            "down\n",
            "['right', 'right', 'down', 'right', 'right', 'down', 'down', 'down']\n",
            "[]\n",
            "right\n",
            "['right']\n",
            "right\n",
            "['right', 'right']\n",
            "down\n",
            "['right', 'right', 'down']\n",
            "right\n",
            "['right', 'right', 'down', 'right']\n",
            "right\n",
            "['right', 'right', 'down', 'right', 'right']\n",
            "down\n",
            "['right', 'right', 'down', 'right', 'right', 'down']\n",
            "down\n",
            "['right', 'right', 'down', 'right', 'right', 'down', 'down']\n",
            "down\n",
            "['right', 'right', 'down', 'right', 'right', 'down', 'down', 'down']\n",
            "[]\n",
            "right\n",
            "['right']\n",
            "right\n",
            "['right', 'right']\n",
            "down\n",
            "['right', 'right', 'down']\n",
            "right\n",
            "['right', 'right', 'down', 'right']\n",
            "right\n",
            "['right', 'right', 'down', 'right', 'right']\n",
            "down\n",
            "['right', 'right', 'down', 'right', 'right', 'down']\n",
            "down\n",
            "['right', 'right', 'down', 'right', 'right', 'down', 'down']\n",
            "down\n",
            "['right', 'right', 'down', 'right', 'right', 'down', 'down', 'down']\n",
            "Tests passed.\n"
          ]
        }
      ]
    },
    {
      "cell_type": "code",
      "metadata": {
        "id": "8-bfSPS8ZSF3"
      },
      "source": [
        "  # open = []\n",
        "  # closed = []\n",
        "  # parents = {}\n",
        "    \n",
        "  #   # Add the start node\n",
        "  # open.append(initial_state)\n",
        "  # count = 0\n",
        "  #   # Loop until the open list is empty\n",
        "  # while count < max_expansions and len(open) > 0:\n",
        "  #       # Sort the open list to get the node with the lowest cost first\n",
        "  #     open.sort((get_priority(node), node.state))\n",
        "  #       # Get the node with the lowest cost\n",
        "  #     current_node = open.pop(0)\n",
        "  #     count++\n",
        "  #       # Add the current node to the closed list\n",
        "  #     closed.append(current_node)\n",
        "        \n",
        "  #       # Check if we have reached the goal, return the path\n",
        "  #     if check_goal(current_node.state):\n",
        "  #         state_sequence= []\n",
        "  #         action_sequnece = []\n",
        "  #         cost_sequence = []\n",
        "  #         while current_node.state != initial_state:\n",
        "  #             state_sequence.append(current_node.state)\n",
        "  #             action_seqyence.append(parents[current_node](0))\n",
        "  #             action_seqyence.append(parents[current_node](2))\n",
        "  #             current_node = parents[current_node](1)\n",
        "  #         return (state_sequence,action_sequence,cost_sequence,count)\n",
        "     \n",
        "  #     for (action, next_state, cost) in get_successors(current_node.state):\n",
        "  #         if(next_state in closed):\n",
        "  #             continue\n",
        "  #         open.append()\n",
        "  #   raise ValueError(\"no plan found\")"
      ],
      "execution_count": 15,
      "outputs": []
    },
    {
      "cell_type": "markdown",
      "metadata": {
        "id": "jtN1NT-cxASn"
      },
      "source": [
        "### Uniform Cost Search\n",
        "Use your implementation of `run_heuristic_search` to implement uniform cost search.\n",
        "\n",
        "For reference, our solution is **4** lines of code.\n",
        "\n",
        "In addition to all of the utilities defined at the top of the colab notebook, the following functions are available in this question environment: `run_heuristic_search`. You may not need to use all of them."
      ]
    },
    {
      "cell_type": "code",
      "metadata": {
        "id": "NS5zSJr4xASo"
      },
      "source": [
        "def run_uniform_cost_search(initial_state, check_goal, get_successors, max_expansions=1000):\n",
        "  \"\"\"Uniform-cost search.\n",
        "\n",
        "  Use your implementation of `run_heuristic_search`.\n",
        "\n",
        "  Args:\n",
        "    initial_state: A hashable representation of state.\n",
        "    check_goal: A callable that takes a state and returns True\n",
        "        if the state is a goal.\n",
        "    get_successors: A callable that takes a state and returns an\n",
        "        iterable of (action, next state, cost).\n",
        "    max_expansions: An int maximum number of nodes to expand\n",
        "        because giving up.\n",
        "\n",
        "  Returns:\n",
        "    state_sequence: A list of states.\n",
        "    action_sequence: A list of actions.\n",
        "    cost_sequence: A list of costs.\n",
        "    num_node_expansions: An int.\n",
        "\n",
        "  Raises:\n",
        "    error: ValueError, if no plan was found.\n",
        "  \"\"\"\n",
        "  get_priority = lambda node: node.g\n",
        "  return run_heuristic_search(initial_state, check_goal, get_successors,\n",
        "      get_priority, max_expansions=max_expansions)"
      ],
      "execution_count": 7,
      "outputs": []
    },
    {
      "cell_type": "markdown",
      "metadata": {
        "id": "15kZmOOQxASp"
      },
      "source": [
        "Tests"
      ]
    },
    {
      "cell_type": "code",
      "metadata": {
        "id": "mavcJjBQxASp",
        "colab": {
          "base_uri": "https://localhost:8080/"
        },
        "outputId": "217d108a-ff05-4208-fe03-e0c48614cc49"
      },
      "source": [
        "# If your results do not match the expected ones, make sure that you are tiebreaking\n",
        "# as described in the docstring for `run_heuristic_search`.\n",
        "initial_state = (0, 0)\n",
        "state_sequence, action_sequence, cost_sequence, num_expansions = run_uniform_cost_search(\n",
        "    initial_state, grid_check_goal_fn, grid_successor_fn)\n",
        "assert state_sequence == [(0, 0), (1, 0), (2, 0), (3, 0), (3, 1), (3, 2), (4, 2), (4, 3), (4, 4)]\n",
        "assert action_sequence == ['down', 'down', 'down', 'right', 'right', 'down', 'right', 'right']\n",
        "assert cost_sequence == [1.0, 1.0, 1.0, 1.0, 1.0, 2.0, 1.0, 1.0]\n",
        "assert abs(num_expansions - 21) <= 1\n",
        "\n",
        "print('Tests passed.')"
      ],
      "execution_count": 8,
      "outputs": [
        {
          "output_type": "stream",
          "name": "stdout",
          "text": [
            "[]\n",
            "right\n",
            "['right']\n",
            "right\n",
            "['right', 'right']\n",
            "down\n",
            "['right', 'right', 'down']\n",
            "right\n",
            "['right', 'right', 'down', 'right']\n",
            "right\n",
            "['right', 'right', 'down', 'right', 'right']\n",
            "down\n",
            "['right', 'right', 'down', 'right', 'right', 'down']\n",
            "down\n",
            "['right', 'right', 'down', 'right', 'right', 'down', 'down']\n",
            "down\n",
            "['right', 'right', 'down', 'right', 'right', 'down', 'down', 'down']\n",
            "Tests passed.\n"
          ]
        }
      ]
    },
    {
      "cell_type": "markdown",
      "metadata": {
        "id": "xdJAIZa8xASq"
      },
      "source": [
        "### A* Search\n",
        "Use your implementation of `run_heuristic_search` to implement A* search.\n",
        "\n",
        "For reference, our solution is **4** lines of code.\n",
        "\n",
        "In addition to all of the utilities defined at the top of the colab notebook, the following functions are available in this question environment: `run_heuristic_search`. You may not need to use all of them."
      ]
    },
    {
      "cell_type": "code",
      "metadata": {
        "id": "GG0zsZwaxASq"
      },
      "source": [
        "def run_astar_search(initial_state, check_goal, get_successors, heuristic, max_expansions=1000):\n",
        "  \"\"\"A* search.\n",
        "\n",
        "  Use your implementation of `run_heuristic_search`.\n",
        "\n",
        "  Args:\n",
        "    initial_state: A hashable representation of state.\n",
        "    check_goal: A callable that takes a state and returns True\n",
        "        if the state is a goal.\n",
        "    get_successors: A callable that takes a state and returns an\n",
        "        iterable of (action, next state, cost).\n",
        "    heuristic: A callable that takes a state and returns an\n",
        "        estimated cost-to-go (must be nonnegative).\n",
        "    max_expansions: An int maximum number of nodes to expand\n",
        "        because giving up.\n",
        "\n",
        "  Returns:\n",
        "    state_sequence: A list of states.\n",
        "    action_sequence: A list of actions.\n",
        "    cost_sequence: A list of costs.\n",
        "    num_node_expansions: An int.\n",
        "\n",
        "  Raises:\n",
        "    error: ValueError, if no plan was found.\n",
        "  \"\"\"\n",
        "  get_priority = lambda node: node.g+heuristic(node.state)\n",
        "  return run_heuristic_search(initial_state, check_goal, get_successors,\n",
        "      get_priority, max_expansions=max_expansions)"
      ],
      "execution_count": 9,
      "outputs": []
    },
    {
      "cell_type": "markdown",
      "metadata": {
        "id": "uFD_0bqSxASr"
      },
      "source": [
        "Tests"
      ]
    },
    {
      "cell_type": "code",
      "metadata": {
        "id": "i_U9wvcIxASr",
        "colab": {
          "base_uri": "https://localhost:8080/"
        },
        "outputId": "7ac7cab9-1386-4cf6-f74d-278f3f0f3d51"
      },
      "source": [
        "# If your results do not match the expected ones, make sure that you are tiebreaking\n",
        "# as described in the docstring for `run_heuristic_search`.\n",
        "initial_state = (0, 0)\n",
        "state_sequence, action_sequence, cost_sequence, num_expansions = run_astar_search(\n",
        "    initial_state, grid_check_goal_fn, grid_successor_fn, grid_heuristic_fn)\n",
        "assert state_sequence == [(0, 0), (1, 0), (2, 0), (3, 0), (3, 1), (3, 2), (4, 2), (4, 3), (4, 4)]\n",
        "assert action_sequence == ['down', 'down', 'down', 'right', 'right', 'down', 'right', 'right']\n",
        "assert cost_sequence == [1.0, 1.0, 1.0, 1.0, 1.0, 2.0, 1.0, 1.0]\n",
        "assert abs(num_expansions - 11) <= 1\n",
        "\n",
        "print('Tests passed.')"
      ],
      "execution_count": 10,
      "outputs": [
        {
          "output_type": "stream",
          "name": "stdout",
          "text": [
            "[]\n",
            "right\n",
            "['right']\n",
            "right\n",
            "['right', 'right']\n",
            "down\n",
            "['right', 'right', 'down']\n",
            "right\n",
            "['right', 'right', 'down', 'right']\n",
            "right\n",
            "['right', 'right', 'down', 'right', 'right']\n",
            "down\n",
            "['right', 'right', 'down', 'right', 'right', 'down']\n",
            "down\n",
            "['right', 'right', 'down', 'right', 'right', 'down', 'down']\n",
            "down\n",
            "['right', 'right', 'down', 'right', 'right', 'down', 'down', 'down']\n",
            "Tests passed.\n"
          ]
        }
      ]
    },
    {
      "cell_type": "markdown",
      "metadata": {
        "id": "7HVpPGSGxASr"
      },
      "source": [
        "### Greedy Best-First Search\n",
        "Use your implementation of `run_heuristic_search` to implement GBFS.\n",
        "\n",
        "For reference, our solution is **4** lines of code.\n",
        "\n",
        "In addition to all of the utilities defined at the top of the colab notebook, the following functions are available in this question environment: `run_heuristic_search`. You may not need to use all of them."
      ]
    },
    {
      "cell_type": "code",
      "metadata": {
        "id": "XnArnIT4xASr"
      },
      "source": [
        "def run_greedy_best_first_search(initial_state, check_goal, get_successors, heuristic, max_expansions=1000):\n",
        "  \"\"\"GBFS.\n",
        "\n",
        "  Use your implementation of `run_heuristic_search`.\n",
        "\n",
        "  Args:\n",
        "    initial_state: A hashable representation of state.\n",
        "    check_goal: A callable that takes a state and returns True\n",
        "        if the state is a goal.\n",
        "    get_successors: A callable that takes a state and returns an\n",
        "        iterable of (action, next state, cost).\n",
        "    heuristic: A callable that takes a state and returns an\n",
        "        estimated cost-to-go (must be nonnegative).\n",
        "    max_expansions: An int maximum number of nodes to expand\n",
        "        because giving up.\n",
        "\n",
        "  Returns:\n",
        "    state_sequence: A list of states.\n",
        "    action_sequence: A list of actions.\n",
        "    cost_sequence: A list of costs.\n",
        "    num_node_expansions: An int.\n",
        "\n",
        "  Raises:\n",
        "    error: ValueError, if no plan was found.\n",
        "  \"\"\"\n",
        "  get_priority = lambda node: heuristic(node.state)\n",
        "  return run_heuristic_search(initial_state, check_goal, get_successors,\n",
        "      get_priority, max_expansions=max_expansions)"
      ],
      "execution_count": 11,
      "outputs": []
    },
    {
      "cell_type": "markdown",
      "metadata": {
        "id": "4p9QO_STxASs"
      },
      "source": [
        "Tests"
      ]
    },
    {
      "cell_type": "code",
      "metadata": {
        "id": "xWxFjhRnxASs",
        "colab": {
          "base_uri": "https://localhost:8080/"
        },
        "outputId": "819a498a-fe63-4e78-ccea-c85dc7d5968c"
      },
      "source": [
        "# If your results do not match the expected ones, make sure that you are tiebreaking\n",
        "# as described in the docstring for `run_heuristic_search`.\n",
        "initial_state = (0, 0)\n",
        "state_sequence, action_sequence, cost_sequence, num_expansions = run_greedy_best_first_search(\n",
        "    initial_state, grid_check_goal_fn, grid_successor_fn, grid_heuristic_fn)\n",
        "assert state_sequence == [(0, 0), (0, 1), (0, 2), (0, 3), (0, 4), (1, 4), (2, 4), (3, 4), (4, 4)]\n",
        "assert action_sequence == ['right', 'right', 'right', 'right', 'down', 'down', 'down', 'down']\n",
        "assert cost_sequence == [1.0, 8.0, 1.0, 1.0, 1.0, 1.0, 1.0, 1.0]\n",
        "assert abs(num_expansions - 8) <= 1\n",
        "\n",
        "print('Tests passed.')"
      ],
      "execution_count": 12,
      "outputs": [
        {
          "output_type": "stream",
          "name": "stdout",
          "text": [
            "[]\n",
            "down\n",
            "['down']\n",
            "down\n",
            "['down', 'down']\n",
            "down\n",
            "['down', 'down', 'down']\n",
            "down\n",
            "['down', 'down', 'down', 'down']\n",
            "right\n",
            "['down', 'down', 'down', 'down', 'right']\n",
            "right\n",
            "['down', 'down', 'down', 'down', 'right', 'right']\n",
            "right\n",
            "['down', 'down', 'down', 'down', 'right', 'right', 'right']\n",
            "right\n",
            "['down', 'down', 'down', 'down', 'right', 'right', 'right', 'right']\n",
            "Tests passed.\n"
          ]
        }
      ]
    }
  ]
}