{
  "nbformat": 4,
  "nbformat_minor": 5,
  "metadata": {
    "colab": {
      "name": "“hw02.ipynb”的副本",
      "provenance": [],
      "collapsed_sections": []
    },
    "kernelspec": {
      "display_name": "Python 3",
      "name": "python3"
    },
    "language_info": {
      "name": "python"
    }
  },
  "cells": [
    {
      "cell_type": "markdown",
      "metadata": {
        "id": "1789798c"
      },
      "source": [
        "# Homework 2"
      ],
      "id": "1789798c"
    },
    {
      "cell_type": "markdown",
      "metadata": {
        "id": "9b123396"
      },
      "source": [
        "## Imports and Utilities\n",
        "**Note**: these imports and functions are available in catsoop. You do not need to copy them in."
      ],
      "id": "9b123396"
    },
    {
      "cell_type": "code",
      "metadata": {
        "id": "015d8a6b"
      },
      "source": [
        "from collections import namedtuple\n",
        "\n",
        "# Take a moment to review the namedtuple documentation:\n",
        "# https://docs.python.org/3/library/collections.html#collections.namedtuple\n",
        "\n",
        "## Common logic data structures\n",
        "Not = namedtuple(\"Not\", [\"sentence\"])\n",
        "And = namedtuple(\"And\", [\"sentence1\", \"sentence2\"])\n",
        "Or = namedtuple(\"Or\", [\"sentence1\", \"sentence2\"])\n",
        "Implies = namedtuple(\"Implies\", [\"sentence1\", \"sentence2\"])\n",
        "\n",
        "## Propositional logic data structures\n",
        "Proposition = str # Name of the proposition\n",
        "PropositionalModel = dict # Proposition -> bool\n",
        "\n",
        "## Example of PropositionalModel, used in tests\n",
        "IS_RAINING = Proposition(\"is-raining\")\n",
        "IS_SUNNY = Proposition(\"is-sunny\")\n",
        "NEED_UMBRELLA = Proposition(\"need-umbrella\")\n",
        "PROP_MODEL = PropositionalModel({\n",
        "  IS_RAINING: True,\n",
        "  IS_SUNNY: False,\n",
        "  NEED_UMBRELLA: True,\n",
        "})\n",
        "\n",
        "## First-order logic data structures\n",
        "Object = str\n",
        "Constant = namedtuple(\"Constant\", [\"name\"])\n",
        "Variable = namedtuple(\"Variable\", [\"name\"])\n",
        "Predicate = namedtuple(\"Predicate\", [\"name\", \"arity\"])\n",
        "Atom = namedtuple(\"Atom\", [\"predicate\", \"terms\"])\n",
        "ForAll = namedtuple(\"ForAll\", [\"variable\", \"sentence\"])\n",
        "Exists = namedtuple(\"Exists\", [\"variable\", \"sentence\"])\n",
        "Interpretation = namedtuple(\"Interpretation\", [\"constant_map\", \"predicate_map\"])\n",
        "FOLModel = namedtuple(\"FOLModel\", [\"objects\", \"interpretation\"])\n",
        "\n",
        "# Example of FOLModel, used in tests\n",
        "TOM = Object(\"tom-object\")\n",
        "NOMSY = Object(\"nomsy-object\")\n",
        "PUDDLES = Object(\"puddles-object\")\n",
        "OBJECTS = {TOM, NOMSY, PUDDLES}\n",
        "CT, CN, CP = Constant(\"Tom\"), Constant(\"Nomsy\"), Constant(\"Puddles\")\n",
        "X, Y = Variable(\"X\"), Variable(\"Y\")\n",
        "Likes = Predicate(\"Likes\", 2)\n",
        "IsDog = Predicate(\"IsDog\", 1)\n",
        "CONSTANT_MAP = {CT : TOM, CN: NOMSY, CP: PUDDLES}\n",
        "PREDICATE_MAP = {\n",
        "  Likes: {(TOM, NOMSY), (TOM, PUDDLES), (NOMSY, TOM)},\n",
        "  IsDog: {(NOMSY,), (PUDDLES,)},\n",
        "}\n",
        "INTERPRETATION = Interpretation(constant_map=CONSTANT_MAP,\n",
        "                                predicate_map=PREDICATE_MAP)\n",
        "FOL_MODEL = FOLModel(objects=OBJECTS, interpretation=INTERPRETATION)\n",
        "\n",
        "## First-order CNF logical data structures\n",
        "Literal = namedtuple(\"Literal\", [\"atom\", \"is_positive\"])\n",
        "def negate(literal):\n",
        "  return Literal(literal.atom, not literal.is_positive)\n",
        "def Clause(literals=tuple()):\n",
        "  return frozenset(literals)\n",
        "def CNFSentence(clauses):\n",
        "  return set(clauses)\n",
        "\n",
        "def unify_var(v, t, th):\n",
        "  \"\"\"Unify a variable and a (non-function) term.\n",
        "\n",
        "  Args:\n",
        "    v: A Variable.\n",
        "    t: A Constant or Variable.\n",
        "    th: A dict mapping variables to objects.\n",
        "\n",
        "  Returns:\n",
        "    theta: A dict mapping variables to objects\n",
        "      or None if no substitution exists.\n",
        "  \"\"\"\n",
        "  if th is None: return None\n",
        "  if v == t:\n",
        "    return th\n",
        "  elif v in th:\n",
        "    return unify(th[v], t, th)\n",
        "  elif t in th:\n",
        "    return unify_var(v, th[t], th)\n",
        "  else:\n",
        "    return {**th, **{v:t}}\n",
        "\n",
        "\n",
        "def subst(a, th):\n",
        "  \"\"\"Substitute variables for a single Literal.\n",
        "\n",
        "  Args:\n",
        "    a: A Constant, Variable, Atom, Literal, list, tuple, or frozenset.\n",
        "    th: A dict mapping variables to objects.\n",
        "\n",
        "  Returns:\n",
        "    b: Same type as a.\n",
        "  \"\"\"\n",
        "  if isinstance(a, Constant):\n",
        "    return a\n",
        "  elif isinstance(a, Variable):\n",
        "    return th[a] if a in th else a\n",
        "  elif isinstance(a, Atom):\n",
        "    return Atom(a.predicate, subst(a.terms, th))\n",
        "  elif isinstance(a, Literal):\n",
        "    return Literal(subst(a.atom, th), a.is_positive)\n",
        "  elif isinstance(a, (list, tuple)):\n",
        "    return tuple(subst(x, th) for x in a)\n",
        "  elif isinstance(a, frozenset):\n",
        "    return frozenset(subst(x, th) for x in a)\n",
        "  else:\n",
        "    raise Exception('Unknown type:'+str(a))\n",
        "\n",
        "\n",
        "def unify(a, b, th):\n",
        "  \"\"\"Run unification.\n",
        "\n",
        "  Args:\n",
        "    a: A Constant, Variable, Atom, Literal, or list or tuple of terms.\n",
        "    b: A Constant, Variable, Atom, Literal, or list or tuple of terms.\n",
        "    th: A dict mapping variables to objects, or None if no unifier exists.\n",
        "\n",
        "  Returns:\n",
        "    new_th: A new dict representing a unifier, or None if none exist.\n",
        "  \"\"\"\n",
        "  if th is None: return None\n",
        "  if isinstance(a, Constant):\n",
        "    if isinstance(b, Variable):\n",
        "      return unify_var(b, a, th)\n",
        "    else:\n",
        "      return {} if a == b else  None\n",
        "  elif isinstance(a, Variable):\n",
        "    return unify_var(a, b, th)\n",
        "  elif isinstance(b, Variable):\n",
        "    return unify_var(b, a, th)\n",
        "  elif isinstance(a, Atom):\n",
        "    return unify(a.terms, b.terms, th) if (isinstance(b, Atom) and a.predicate == b.predicate) else None\n",
        "  elif isinstance(a, Literal):\n",
        "    return unify(a.atom, b.atom, th) if (isinstance(b, Literal) and a.is_positive == b.is_positive) else None\n",
        "  elif isinstance(a, (list, tuple)) and isinstance(b, (list, tuple)):\n",
        "    if len(a) == 0 or len(b) == 0:\n",
        "      return th if len(a) == len(b) else None\n",
        "    else:\n",
        "      return unify(a[0], b[0], unify(a[1:], b[1:], th))\n",
        "  else:\n",
        "    raise Exception('Unknown type:'+str(a))\n",
        "\n"
      ],
      "id": "015d8a6b",
      "execution_count": 1,
      "outputs": []
    },
    {
      "cell_type": "markdown",
      "metadata": {
        "id": "1d728f53"
      },
      "source": [
        "## Problems"
      ],
      "id": "1d728f53"
    },
    {
      "cell_type": "markdown",
      "metadata": {
        "id": "e2437e6a"
      },
      "source": [
        "### Propositional Sentence Evaluation\n",
        "*Note: for these questions, refer to the top of the Colab notebook.*\n",
        "Write a function that takes a propositional sentence and evaluates it against a single model.\n",
        "You may find python's builtin `isinstance` useful. For example, `isinstance(sentence, And)` returns whether a sentence is an `And`.\n",
        "\n",
        "For reference, our solution is **14** lines of code."
      ],
      "id": "e2437e6a"
    },
    {
      "cell_type": "code",
      "metadata": {
        "id": "d0a6a28a"
      },
      "source": [
        "def evaluate_propositional_sentence(sentence, model):\n",
        "  \"\"\"Evaluate a propositional sentence against a single model.\n",
        "\n",
        "  Args:\n",
        "    sentence: A Proposition, And, Or, Not, or Implies.\n",
        "    model: A PropositionalModel.\n",
        "\n",
        "  Returns:\n",
        "    holds: A bool representing the truth value of the sentence\n",
        "      under the model.\n",
        "      \n",
        "  \"\"\"\n",
        "  if isinstance(sentence, Proposition):\n",
        "    return model[sentence]\n",
        "  elif isinstance(sentence, Not):\n",
        "    rec = evaluate_propositional_sentence(sentence[0],model)\n",
        "    return not rec\n",
        "  elif isinstance(sentence, And):\n",
        "    rec1 = evaluate_propositional_sentence(sentence[0],model)\n",
        "    rec2 = evaluate_propositional_sentence(sentence[1],model)\n",
        "    return rec1 and rec2\n",
        "  elif isinstance(sentence, Or):\n",
        "    rec1 = evaluate_propositional_sentence(sentence[0],model)\n",
        "    rec2 = evaluate_propositional_sentence(sentence[1],model)\n",
        "    return rec1 or rec2\n",
        "  elif isinstance(sentence, Implies):\n",
        "    rec1 = evaluate_propositional_sentence(Not(sentence[0]),model)\n",
        "    rec2 = evaluate_propositional_sentence(sentence[1],model)\n",
        "    return rec1 or rec2\n"
      ],
      "id": "d0a6a28a",
      "execution_count": 2,
      "outputs": []
    },
    {
      "cell_type": "markdown",
      "metadata": {
        "id": "fb052e7e"
      },
      "source": [
        "Tests"
      ],
      "id": "fb052e7e"
    },
    {
      "cell_type": "code",
      "metadata": {
        "colab": {
          "base_uri": "https://localhost:8080/"
        },
        "id": "5ae0a191",
        "outputId": "8c5564d2-9eb5-4440-ca6b-4f7b83ea6f1c"
      },
      "source": [
        "assert evaluate_propositional_sentence(IS_RAINING, PROP_MODEL) == True\n",
        "\n",
        "assert evaluate_propositional_sentence(Not(IS_RAINING), PROP_MODEL) == False\n",
        "\n",
        "assert evaluate_propositional_sentence(And(IS_RAINING, IS_SUNNY), PROP_MODEL) == False\n",
        "\n",
        "assert evaluate_propositional_sentence(Implies(IS_SUNNY, Not(IS_RAINING)), PROP_MODEL) == True\n",
        "\n",
        "assert evaluate_propositional_sentence(Or(IS_RAINING, Not(IS_RAINING)), PROP_MODEL) == True\n",
        "\n",
        "print('Tests passed.')"
      ],
      "id": "5ae0a191",
      "execution_count": 3,
      "outputs": [
        {
          "output_type": "stream",
          "name": "stdout",
          "text": [
            "Tests passed.\n"
          ]
        }
      ]
    },
    {
      "cell_type": "markdown",
      "metadata": {
        "id": "3942867b"
      },
      "source": [
        "### Atom Evaluation\n",
        "*Note: for these questions, refer to the top of the Colab notebook.*\n",
        "Write a function that takes a FOL atom and evaluates it against a single model.\n",
        "\n",
        "For reference, our solution is **9** lines of code."
      ],
      "id": "3942867b"
    },
    {
      "cell_type": "code",
      "metadata": {
        "id": "596240e9"
      },
      "source": [
        "def evaluate_atom(atom, model, substitution):\n",
        "  \"\"\"Evaluate if an atom holds under the model.\n",
        "\n",
        "  Args:\n",
        "    atom: An Atom.\n",
        "    model: A FOLModel.\n",
        "    substitution: A dict mapping variables to objects.\n",
        "\n",
        "  Returns:\n",
        "    holds: A bool.\n",
        "\n",
        "  TOM = Object(\"tom-object\")\n",
        "NOMSY = Object(\"nomsy-object\")\n",
        "PUDDLES = Object(\"puddles-object\")\n",
        "OBJECTS = {TOM, NOMSY, PUDDLES}\n",
        "CT, CN, CP = Constant(\"Tom\"), Constant(\"Nomsy\"), Constant(\"Puddles\")\n",
        "X, Y = Variable(\"X\"), Variable(\"Y\")\n",
        "Likes = Predicate(\"Likes\", 2)\n",
        "IsDog = Predicate(\"IsDog\", 1)\n",
        "CONSTANT_MAP = {CT : TOM, CN: NOMSY, CP: PUDDLES}\n",
        "PREDICATE_MAP = {\n",
        "  Likes: {(TOM, NOMSY), (TOM, PUDDLES), (NOMSY, TOM)},\n",
        "  IsDog: {(NOMSY,), (PUDDLES,)},\n",
        "}\n",
        "INTERPRETATION = Interpretation(constant_map=CONSTANT_MAP,\n",
        "                                predicate_map=PREDICATE_MAP)\n",
        "FOL_MODEL = FOLModel(objects=OBJECTS, interpretation=INTERPRETATION)\n",
        "\n",
        "  \"\"\"\n",
        "  relation = model.interpretation.predicate_map[atom.predicate]\n",
        "  objects = []\n",
        "  for term in atom.terms:\n",
        "    if term in model.interpretation.constant_map:\n",
        "      obj = model.interpretation.constant_map[term]\n",
        "    else:\n",
        "      obj = substitution[term]\n",
        "    objects.append(obj)\n",
        "  return tuple(objects) in relation"
      ],
      "id": "596240e9",
      "execution_count": 4,
      "outputs": []
    },
    {
      "cell_type": "markdown",
      "metadata": {
        "id": "78ef4d64"
      },
      "source": [
        "Tests"
      ],
      "id": "78ef4d64"
    },
    {
      "cell_type": "code",
      "metadata": {
        "colab": {
          "base_uri": "https://localhost:8080/"
        },
        "id": "4a11fadd",
        "outputId": "b4a59c56-c285-4d30-9f04-25d439c0c748"
      },
      "source": [
        "assert evaluate_atom(Atom(IsDog, (CN,)), FOL_MODEL, {}) == True\n",
        "\n",
        "assert evaluate_atom(Atom(IsDog, (X,)), FOL_MODEL, {X: NOMSY}) == True\n",
        "\n",
        "assert evaluate_atom(Atom(IsDog, (CT,)), FOL_MODEL, {}) == False\n",
        "\n",
        "assert evaluate_atom(Atom(IsDog, (X,)), FOL_MODEL, {X: TOM}) == False\n",
        "\n",
        "assert evaluate_atom(Atom(Likes, (X, Y)), FOL_MODEL, {X: TOM, Y: NOMSY}) == True\n",
        "\n",
        "print('Tests passed.')"
      ],
      "id": "4a11fadd",
      "execution_count": 5,
      "outputs": [
        {
          "output_type": "stream",
          "name": "stdout",
          "text": [
            "Tests passed.\n"
          ]
        }
      ]
    },
    {
      "cell_type": "markdown",
      "metadata": {
        "id": "962fad91"
      },
      "source": [
        "### First-order Logic Sentence Evaluation\n",
        "Use your implementation of evaluate_atom to complete the following implementation of FOL sentence evaluation.\n",
        "\n",
        "For reference, our solution is **36** lines of code.\n",
        "\n",
        "In addition to all of the utilities defined at the top of the colab notebook, the following functions are available in this question environment: `evaluate_atom`. You may not need to use all of them."
      ],
      "id": "962fad91"
    },
    {
      "cell_type": "code",
      "metadata": {
        "id": "18fffdba"
      },
      "source": [
        "def evaluate_fol_sentence(sentence, model, substitution=None):\n",
        "  \"\"\"Evaluate a first-order logic sentence against a single model.\n",
        "\n",
        "  Note that Literals are not used here (we use them in later problems).\n",
        "\n",
        "  Be careful about updating `substitution` recursively. You may want\n",
        "  to create a copy of the dict (`substitution.copy()`) before each\n",
        "  recursive call.\n",
        "\n",
        "  Args:\n",
        "    sentence: An Atom, And, Or, Not, Implies, ForAll, or Exists.\n",
        "    model: A FOLModel.\n",
        "    substitution: A dict mapping variables to objects, or None,\n",
        "      representing an empty dict.\n",
        "\n",
        "  Returns:\n",
        "    holds: A bool representing the truth value of the sentence\n",
        "      under the model.\n",
        "  \"\"\"\n",
        "  if isinstance(sentence, Atom):\n",
        "    return evaluate_atom(sentence,model,substitution)\n",
        "  elif isinstance(sentence, Not):\n",
        "    return not evaluate_fol_sentence(sentence[0],model,substitution)\n",
        "  elif isinstance(sentence,And):\n",
        "    return evaluate_fol_sentence(sentence[0],model,substitution) and evaluate_fol_sentence(sentence[1],model,substitution)\n",
        "  elif isinstance(sentence,Or):\n",
        "    return evaluate_fol_sentence(sentence[0],model,substitution) or evaluate_fol_sentence(sentence[1],model,substitution)\n",
        "  elif isinstance(sentence,Implies):\n",
        "    return evaluate_fol_sentence(Not(sentence[0]),model,substitution) or evaluate_fol_sentence(sentence[1],model,substitution)\n",
        "  elif isinstance(sentence,ForAll):\n",
        "    for o in model.objects:\n",
        "      if substitution is not None:\n",
        "        new_sub = substitution.copy()\n",
        "      else:\n",
        "        new_sub ={}\n",
        "      new_sub[sentence.variable] = o\n",
        "      if not evaluate_fol_sentence(sentence.sentence,model,new_sub):\n",
        "        return False\n",
        "    return True\n",
        "  elif isinstance(sentence,Exists):\n",
        "    for o in model.objects:\n",
        "      if substitution is not None:\n",
        "        new_sub = substitution.copy()\n",
        "      else:\n",
        "        new_sub ={}\n",
        "      new_sub[sentence.variable] = o\n",
        "      if evaluate_fol_sentence(sentence.sentence,model,new_sub):\n",
        "        return True\n",
        "    return False"
      ],
      "id": "18fffdba",
      "execution_count": 6,
      "outputs": []
    },
    {
      "cell_type": "markdown",
      "metadata": {
        "id": "2ac37fe8"
      },
      "source": [
        "Tests"
      ],
      "id": "2ac37fe8"
    },
    {
      "cell_type": "code",
      "metadata": {
        "colab": {
          "base_uri": "https://localhost:8080/"
        },
        "id": "0b8e4faa",
        "outputId": "4d98f80b-58ae-4f51-b86f-017e105927c1"
      },
      "source": [
        "assert evaluate_fol_sentence(And(Atom(IsDog, (CN,)), Atom(IsDog, (CP,))), FOL_MODEL) == True\n",
        "\n",
        "assert evaluate_fol_sentence(Or(Atom(IsDog, (CT,)), Not(Atom(IsDog, (CP,)))), FOL_MODEL) == False\n",
        "\n",
        "assert evaluate_fol_sentence(ForAll(X, Implies(Atom(IsDog, (X,)), Atom(Likes, (CT, X)))), FOL_MODEL) == True\n",
        "\n",
        "assert evaluate_fol_sentence(Exists(X, And(Atom(IsDog, (X,)), Not(Atom(Likes, (CT, X))))), FOL_MODEL) == False\n",
        "\n",
        "assert evaluate_fol_sentence(Exists(X, Exists(Y, Atom(Likes, (Y, X)))), FOL_MODEL) == True\n",
        "\n",
        "print('Tests passed.')"
      ],
      "id": "0b8e4faa",
      "execution_count": 7,
      "outputs": [
        {
          "output_type": "stream",
          "name": "stdout",
          "text": [
            "Tests passed.\n"
          ]
        }
      ]
    },
    {
      "cell_type": "markdown",
      "metadata": {
        "id": "905dcc02"
      },
      "source": [
        "### FOL Clause Factoring\n",
        "Complete the following implementation of first-order clause factoring. Recall that a clause represents a universally quantified (\"for all\") disjunction (\"or\"). Factoring looks for a substitution of a variable that introduces redundancy in the clause. See the docstring for an example. Make sure to review the utility functions provided at the top of the colab.\n",
        "\n",
        "For reference, our solution is **8** lines of code."
      ],
      "id": "905dcc02"
    },
    {
      "cell_type": "code",
      "metadata": {
        "id": "16b5a4ff"
      },
      "source": [
        "def factor_clause(clause):\n",
        "  \"\"\"Return all possible factorings of a first-order logic clause.\n",
        "\n",
        "  Factoring looks for a substitution of a variable that introduces\n",
        "  redundancy in the clause and therefore reduces the size.\n",
        "\n",
        "  For example, {IsDog(X), IsDog(CN), Likes(CT, X)} would be factored\n",
        "  into {IsDog(CN), Likes(CT, CN)} using the substitution {X:CN}.\n",
        "\n",
        "  Args:\n",
        "    clause: A Clause (frozenset of Literals).\n",
        "\n",
        "  Returns:\n",
        "    clauses: A set of new Clauses.\n",
        "  \"\"\"\n",
        "  result = set()\n",
        "  for l1 in clause:\n",
        "    for l2 in clause:\n",
        "      if l1 == l2: continue\n",
        "      u = unify(l1, l2, {})\n",
        "      if u is not None:\n",
        "        result.add(subst(clause, u))\n",
        "  return result\n"
      ],
      "id": "16b5a4ff",
      "execution_count": 8,
      "outputs": []
    },
    {
      "cell_type": "markdown",
      "metadata": {
        "id": "5a4f1d28"
      },
      "source": [
        "Tests"
      ],
      "id": "5a4f1d28"
    },
    {
      "cell_type": "code",
      "metadata": {
        "colab": {
          "base_uri": "https://localhost:8080/"
        },
        "id": "c542e23d",
        "outputId": "73a5c677-af45-4f48-e534-8ef8551e6247"
      },
      "source": [
        "clause1 = Clause([\n",
        "  Literal(Atom(IsDog, (X,)), True),\n",
        "  Literal(Atom(IsDog, (CN,)), True),\n",
        "  Literal(Atom(Likes, (CT, X)), True)\n",
        "])\n",
        "assert factor_clause(clause1) == {Clause([\n",
        "  Literal(Atom(IsDog, (CN,)), True),\n",
        "  Literal(Atom(Likes, (CT, CN)), True)\n",
        "])}\n",
        "\n",
        "print('Tests passed.')"
      ],
      "id": "c542e23d",
      "execution_count": 9,
      "outputs": [
        {
          "output_type": "stream",
          "name": "stdout",
          "text": [
            "Tests passed.\n"
          ]
        }
      ]
    },
    {
      "cell_type": "markdown",
      "metadata": {
        "id": "a24508b8"
      },
      "source": [
        "### FOL Binary Resolution\n",
        "Complete the following implementation of first-order binary resolution. Given two clauses, return all possible new clauses that result from applying the binary resolution rule.\n",
        "\n",
        "For reference, our solution is **7** lines of code."
      ],
      "id": "a24508b8"
    },
    {
      "cell_type": "code",
      "metadata": {
        "id": "291f1c69"
      },
      "source": [
        "def binary_resolution(clause1, clause2):\n",
        "  \"\"\"Return all new clauses resulting from binary resolution.\n",
        "\n",
        "  Args:\n",
        "    clause1: A Clause (frozenset of Literals).\n",
        "    clause2: A Clause (frozenset of Literals).\n",
        "\n",
        "  Returns:\n",
        "    clauses: A set of new Clauses.\n",
        "  \"\"\"\n",
        "  result = set()\n",
        "  for l1 in clause1:\n",
        "    for l2 in clause2:\n",
        "      u = unify(l1, negate(l2), {})\n",
        "      if u is not None:\n",
        "        result.add(subst(clause1 - {l1} | clause2 - {l2}, u))\n",
        "  return result"
      ],
      "id": "291f1c69",
      "execution_count": 10,
      "outputs": []
    },
    {
      "cell_type": "markdown",
      "metadata": {
        "id": "a2457c4e"
      },
      "source": [
        "Tests"
      ],
      "id": "a2457c4e"
    },
    {
      "cell_type": "code",
      "metadata": {
        "id": "56ee57df",
        "colab": {
          "base_uri": "https://localhost:8080/"
        },
        "outputId": "4c740f82-5849-4fa7-f59d-5dd9ebb94195"
      },
      "source": [
        "clause1 = Clause([Literal(Atom(IsDog, (CT,)), True)])\n",
        "clause2 = Clause([Literal(Atom(IsDog, (CT,)), False)])\n",
        "assert binary_resolution(clause1, clause2) == {Clause()}\n",
        "\n",
        "clause1 = Clause([Literal(Atom(IsDog, (X,)), True)])\n",
        "clause2 = Clause([Literal(Atom(IsDog, (Y,)), False)])\n",
        "assert binary_resolution(clause1, clause2) == {Clause()}\n",
        "\n",
        "clause1 = Clause([Literal(Atom(IsDog, (X,)), True)])\n",
        "clause2 = Clause([Literal(Atom(IsDog, (Y,)), True)])\n",
        "assert binary_resolution(clause1, clause2) == set()\n",
        "\n",
        "# All dogs are liked by Tom\n",
        "clause1 = Clause([Literal(Atom(IsDog, (X,)), False), Literal(Atom(Likes, (CT, X)), True)])\n",
        "# Nomsy is a dog\n",
        "clause2 = Clause([Literal(Atom(IsDog, (CN,)), True)])\n",
        "# So Nomsy must be liked by Tom\n",
        "assert binary_resolution(clause1, clause2) == {Clause([Literal(Atom(Likes, (CT, CN)), True)])}\n",
        "\n",
        "print('Tests passed.')"
      ],
      "id": "56ee57df",
      "execution_count": 11,
      "outputs": [
        {
          "output_type": "stream",
          "name": "stdout",
          "text": [
            "Tests passed.\n"
          ]
        }
      ]
    },
    {
      "cell_type": "markdown",
      "metadata": {
        "id": "cca07b53"
      },
      "source": [
        "### FOL Resolution Prover\n",
        "Complete the following implementation of a first-order resolution prover. Given a sentence in CNF form, and a single query clause, check if the sentence entails the query. See unit tests for examples.\n",
        "\n",
        "For reference, our solution is **23** lines of code.\n",
        "\n",
        "In addition to all of the utilities defined at the top of the colab notebook, the following functions are available in this question environment: `binary_resolution`, `factor_clause`. You may not need to use all of them."
      ],
      "id": "cca07b53"
    },
    {
      "cell_type": "code",
      "metadata": {
        "id": "d9f83265"
      },
      "source": [
        "def can_prove_inconsistent(sentence):\n",
        "    '''Helper for resolution prover.\n",
        "    '''\n",
        "    clauses = set(sentence)\n",
        "    agenda = clauses.copy()\n",
        "    while agenda:\n",
        "      newc = agenda.pop()\n",
        "      for c in clauses:\n",
        "        new = binary_resolution(newc, c)\n",
        "        if Clause() in new:\n",
        "          # We proved False!\n",
        "          return True\n",
        "        agenda = agenda | new\n",
        "    # exhausted our opportunities\n",
        "    return False\n",
        "def resolution_prover(kb, q):\n",
        "  \"\"\"Check if a knowledge base entails a query.\n",
        "\n",
        "  That is, if kb ^ not q entails False.\n",
        "  That is, if we can prove False from kb ^ not q.\n",
        "  May run forever.\n",
        "\n",
        "  Args:\n",
        "    kb: A CNFSentence.\n",
        "    q: A single Clause.\n",
        "\n",
        "  Returns:\n",
        "    entails: True if kb entails q.\n",
        "  \"\"\"\n",
        "  return can_prove_inconsistent(kb | set([Clause([negate(l)]) for l in q]))\n",
        "\n",
        "  "
      ],
      "id": "d9f83265",
      "execution_count": 13,
      "outputs": []
    },
    {
      "cell_type": "markdown",
      "metadata": {
        "id": "e184fa2b"
      },
      "source": [
        "Tests"
      ],
      "id": "e184fa2b"
    },
    {
      "cell_type": "code",
      "metadata": {
        "id": "9d5ba793",
        "colab": {
          "base_uri": "https://localhost:8080/"
        },
        "outputId": "1ebe1b94-b31a-4f35-eb85-40139ba01c5b"
      },
      "source": [
        "# All dogs are liked by Tom\n",
        "kb_clause1 = Clause([Literal(Atom(IsDog, (X,)), False), Literal(Atom(Likes, (CT, X)), True)])\n",
        "# Nomsy is a dog\n",
        "kb_clause2 = Clause([Literal(Atom(IsDog, (CN,)), True)])\n",
        "kb = CNFSentence([kb_clause1, kb_clause2])\n",
        "# Tom likes Nomsy\n",
        "query = Clause([Literal(Atom(Likes, (CT, CN)), True)])\n",
        "assert resolution_prover(kb, query) == True\n",
        "\n",
        "# Tom does not like Nomsy (impossible!)\n",
        "query = Clause([Literal(Atom(Likes, (CT, CN)), False)])\n",
        "assert resolution_prover(kb, query) == False\n",
        "\n",
        "# Russell & Norvig example\n",
        "American = Predicate(\"American\", 1)\n",
        "Weapon = Predicate(\"Weapon\", 1)\n",
        "Sells = Predicate(\"Sells\", 3)\n",
        "Hostile = Predicate(\"Hostile\", 1)\n",
        "Criminal = Predicate(\"Criminal\", 1)\n",
        "Missile = Predicate(\"Missile\", 1)\n",
        "Enemy = Predicate(\"Enemy\", 1)\n",
        "Owns = Predicate(\"Owns\", 2)\n",
        "Nono = Constant(\"Nono\")\n",
        "America = Constant(\"America\")\n",
        "West = Constant(\"West\")\n",
        "M1 = Constant(\"M1\")\n",
        "\n",
        "clause1 = Clause([\n",
        "  Literal(Atom(American, (Variable(\"x1\"),)), False),\n",
        "  Literal(Atom(Weapon, (Variable(\"y1\"),)), False),\n",
        "  Literal(Atom(Sells, (Variable(\"x1\"),Variable(\"y1\"),Variable(\"z1\"))), False),\n",
        "  Literal(Atom(Hostile, (Variable(\"z1\"),)), False),\n",
        "  Literal(Atom(Criminal, (Variable(\"x1\"),)), True),\n",
        "])\n",
        "clause2 = Clause([\n",
        "  Literal(Atom(Missile, (Variable(\"x2\"),)), False),\n",
        "  Literal(Atom(Owns, (Nono, Variable(\"x2\"),)), False),\n",
        "  Literal(Atom(Sells, (West, Variable(\"x2\"), Nono)), True),\n",
        "])\n",
        "clause3 = Clause([\n",
        "  Literal(Atom(Enemy, (Variable(\"x3\"), America)), False),\n",
        "  Literal(Atom(Hostile, (Variable(\"x3\"),)), True),\n",
        "])\n",
        "clause4 = Clause([\n",
        "  Literal(Atom(Missile, (Variable(\"x4\"),)), False),\n",
        "  Literal(Atom(Weapon, (Variable(\"x4\"),)), True),\n",
        "])\n",
        "clause5 = Clause([\n",
        "  Literal(Atom(Owns, (Nono, M1)), True),\n",
        "])\n",
        "clause6 = Clause([\n",
        "  Literal(Atom(Missile, (M1,)), True),\n",
        "])\n",
        "clause7 = Clause([\n",
        "  Literal(Atom(American, (West,)), True),\n",
        "])\n",
        "clause8 = Clause([\n",
        "  Literal(Atom(Enemy, (Nono, America)), True),\n",
        "])\n",
        "kb = CNFSentence([clause1, clause2, clause3, clause4, clause5, clause6, clause7, clause8])\n",
        "query = Clause([\n",
        "  Literal(Atom(Criminal, (West,)), True),\n",
        "])\n",
        "assert resolution_prover(kb, query) == True\n",
        "\n",
        "print('Tests passed.')"
      ],
      "id": "9d5ba793",
      "execution_count": 14,
      "outputs": [
        {
          "output_type": "stream",
          "name": "stdout",
          "text": [
            "Tests passed.\n"
          ]
        }
      ]
    }
  ]
}