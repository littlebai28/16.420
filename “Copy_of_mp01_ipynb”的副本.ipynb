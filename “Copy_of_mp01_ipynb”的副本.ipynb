{
  "nbformat": 4,
  "nbformat_minor": 0,
  "metadata": {
    "colab": {
      "name": "“Copy of mp01.ipynb”的副本",
      "provenance": [],
      "collapsed_sections": []
    },
    "kernelspec": {
      "display_name": "Python 3",
      "name": "python3"
    },
    "language_info": {
      "name": "python"
    }
  },
  "cells": [
    {
      "cell_type": "markdown",
      "metadata": {
        "id": "rKzfp0fGGqS7"
      },
      "source": [
        "# Miniproject 1"
      ]
    },
    {
      "cell_type": "code",
      "metadata": {
        "id": "fKb8m2YNGqTH"
      },
      "source": [
        "!pip install pycosat\n",
        "!pip install sympy\n"
      ],
      "execution_count": null,
      "outputs": []
    },
    {
      "cell_type": "markdown",
      "metadata": {
        "id": "WA66o4m0GqTQ"
      },
      "source": [
        "## Imports and Utilities\n",
        "**Note**: these imports and functions are available in catsoop. You do not need to copy them in."
      ]
    },
    {
      "cell_type": "code",
      "metadata": {
        "id": "ThGOJw9gGqTY"
      },
      "source": [
        "import numpy as np\n",
        "from sympy import Symbol, And, Or, satisfiable\n",
        "\n"
      ],
      "execution_count": null,
      "outputs": []
    },
    {
      "cell_type": "markdown",
      "metadata": {
        "id": "rTSneOV9GqTc"
      },
      "source": [
        "## Problems"
      ]
    },
    {
      "cell_type": "markdown",
      "metadata": {
        "id": "Cca9FuBLGqTg"
      },
      "source": [
        "### Warmup 1\n",
        "Use sympy to determine whether the following formula is satisfiable:\n",
        "$(\\neg x_1 \\land x_2) \\Rightarrow ((x_2 \\lor x_3) \\land (x_1 \\lor \\neg x_3))$.\n",
        "\n",
        "\n",
        "For reference, our solution is **3** lines of code."
      ]
    },
    {
      "cell_type": "code",
      "metadata": {
        "id": "f9Cu9UTeGqTn"
      },
      "source": [
        "from sympy import *\n",
        "from sympy.logic.inference import satisfiable \n",
        "\n",
        "def formula1_is_satisfiable():\n",
        "  \"\"\"Determines whether the above formula is satisfiable.\n",
        "\n",
        "  Returns:\n",
        "    is_satisfiable: A bool indicating whether the formula is satisfiable.\n",
        "  \"\"\"\n",
        "  a,b,c = symbols(\"a b c\")\n",
        "  return satisfiable((~a | b) & (b | c) & (a | ~c)) != False"
      ],
      "execution_count": null,
      "outputs": []
    },
    {
      "cell_type": "markdown",
      "metadata": {
        "id": "HbMyaS3UGqTx"
      },
      "source": [
        "Tests"
      ]
    },
    {
      "cell_type": "code",
      "metadata": {
        "id": "HPScIY_QGqT5",
        "colab": {
          "base_uri": "https://localhost:8080/"
        },
        "outputId": "9a6933d8-3315-4927-fb10-91a792a9d6d8"
      },
      "source": [
        "\n",
        "assert formula1_is_satisfiable() == True\n",
        "print('Tests passed.')"
      ],
      "execution_count": null,
      "outputs": [
        {
          "output_type": "stream",
          "name": "stdout",
          "text": [
            "Tests passed.\n"
          ]
        }
      ]
    },
    {
      "cell_type": "markdown",
      "metadata": {
        "id": "zrAS5vlzGqUE"
      },
      "source": [
        "### Warmup 2\n",
        "Use sympy to determine whether the following formula is satisfiable:\n",
        "$(x_1 \\lor x_2) \\land (\\neg x_1 \\lor \\neg x_2) \\land (x_1 \\lor \\neg x_2) \\land (\\neg x_1 \\lor x_2)$.\n",
        "\n",
        "\n",
        "For reference, our solution is **3** lines of code."
      ]
    },
    {
      "cell_type": "code",
      "metadata": {
        "id": "wz1ZifKYGqUM"
      },
      "source": [
        "from sympy import *\n",
        "from sympy.logic.inference import satisfiable \n",
        "\n",
        "def formula2_is_satisfiable():\n",
        "  \"\"\"Determines whether the above formula is satisfiable.\n",
        "\n",
        "  Returns:\n",
        "    is_satisfiable: A bool indicating whether the formula is satisfiable.\n",
        "  \"\"\"\n",
        "  a,b = symbols(\"a b\")\n",
        "  return satisfiable((a | b) & (~a | b) & (a | ~b) & (~a | ~b)) != False"
      ],
      "execution_count": null,
      "outputs": []
    },
    {
      "cell_type": "markdown",
      "metadata": {
        "id": "7GLWR-GyVNyw"
      },
      "source": []
    },
    {
      "cell_type": "code",
      "metadata": {
        "colab": {
          "base_uri": "https://localhost:8080/"
        },
        "id": "Za8kJC69VOYg",
        "outputId": "7ebc1446-bfdb-4216-d4a0-268879b34743"
      },
      "source": [
        "from sympy import *\n",
        "from sympy.logic.inference import satisfiable \n",
        "\n",
        "\n",
        "a,b,c,d = symbols(\"a b c d\")\n",
        "a = false\n",
        "if not a:\n",
        "  print(satisfiable((False&b) | (c&d)))"
      ],
      "execution_count": null,
      "outputs": [
        {
          "output_type": "stream",
          "name": "stdout",
          "text": [
            "{d: True, c: True}\n"
          ]
        }
      ]
    },
    {
      "cell_type": "markdown",
      "metadata": {
        "id": "MBIQvdWFGqUO"
      },
      "source": [
        "Tests"
      ]
    },
    {
      "cell_type": "code",
      "metadata": {
        "id": "3Ybcqh7OGqUQ",
        "colab": {
          "base_uri": "https://localhost:8080/"
        },
        "outputId": "64d7a5eb-23ef-4ae1-d576-085212a63b49"
      },
      "source": [
        "\n",
        "assert formula2_is_satisfiable() == False\n",
        "print('Tests passed.')"
      ],
      "execution_count": null,
      "outputs": [
        {
          "output_type": "stream",
          "name": "stdout",
          "text": [
            "Tests passed.\n"
          ]
        }
      ]
    },
    {
      "cell_type": "markdown",
      "metadata": {
        "id": "5FwLrmXTGqUT"
      },
      "source": [
        "### Warmup 3\n",
        "Prove to yourself that the SAT solver is doing something more clever than enumerating truth tables. Write a formula involving 100 variables for which the SAT solver is able to quickly find a solution. (Hint: assume that the SAT solver is like DPLL. What kinds of formulas would be especially easy for DPLL to satisfy?)\n",
        "\n",
        "For reference, our solution is **1** lines of code."
      ]
    },
    {
      "cell_type": "code",
      "metadata": {
        "id": "Rcf_2VqmGqUV"
      },
      "source": [
        "from sympy import *\n",
        "from sympy.logic.inference import satisfiable \n",
        "\n",
        "def create_large_solvable_formula():\n",
        "  \"\"\"Return a sympy formula with at least 100 variables that `satisfiable` can\n",
        "  quickly solve.\n",
        "\n",
        "  Returns:\n",
        "    formula: A sympy logical formula.\n",
        "  \"\"\"\n",
        "  vars = []\n",
        "  for i in range(100):\n",
        "    vars.append(symbols(f'x{i}'))\n",
        "\n",
        "  formula = vars[0]\n",
        "  for i in range(1, 100):\n",
        "    formula = formula | vars[i]\n",
        "\n",
        "  print(formula)\n",
        "  return formula\n",
        "\n"
      ],
      "execution_count": null,
      "outputs": []
    },
    {
      "cell_type": "markdown",
      "metadata": {
        "id": "JPL8tG-VGqUa"
      },
      "source": [
        "Tests"
      ]
    },
    {
      "cell_type": "code",
      "metadata": {
        "id": "WGQlyxzzGqUd",
        "colab": {
          "base_uri": "https://localhost:8080/"
        },
        "outputId": "c0476d87-fedf-44c1-b84b-433bc849b0c0"
      },
      "source": [
        "large_formula = create_large_solvable_formula()\n",
        "assert len(large_formula.free_symbols) >= 100\n",
        "result = satisfiable(large_formula)\n",
        "print('Tests passed.')"
      ],
      "execution_count": null,
      "outputs": [
        {
          "output_type": "stream",
          "name": "stdout",
          "text": [
            "x0 | x1 | x10 | x11 | x12 | x13 | x14 | x15 | x16 | x17 | x18 | x19 | x2 | x20 | x21 | x22 | x23 | x24 | x25 | x26 | x27 | x28 | x29 | x3 | x30 | x31 | x32 | x33 | x34 | x35 | x36 | x37 | x38 | x39 | x4 | x40 | x41 | x42 | x43 | x44 | x45 | x46 | x47 | x48 | x49 | x5 | x50 | x51 | x52 | x53 | x54 | x55 | x56 | x57 | x58 | x59 | x6 | x60 | x61 | x62 | x63 | x64 | x65 | x66 | x67 | x68 | x69 | x7 | x70 | x71 | x72 | x73 | x74 | x75 | x76 | x77 | x78 | x79 | x8 | x80 | x81 | x82 | x83 | x84 | x85 | x86 | x87 | x88 | x89 | x9 | x90 | x91 | x92 | x93 | x94 | x95 | x96 | x97 | x98 | x99\n",
            "Tests passed.\n"
          ]
        }
      ]
    },
    {
      "cell_type": "markdown",
      "metadata": {
        "id": "MlyLsA25GqUe"
      },
      "source": [
        "### Search and Rescue Inference\n",
        "Write a program that takes a grid as input and infers unknown values.\n",
        "\n",
        "Your program should output a new grid with all determinable unknown values replaced with the inferred value. If an unknown value cannot be determined, it should be left unknown.\n",
        "\n",
        "**Your program should use sympy.**\n",
        "\n",
        "\n",
        "For reference, our solution is **53** lines of code."
      ]
    },
    {
      "cell_type": "code",
      "metadata": {
        "id": "-7MpJJRrGqUe"
      },
      "source": [
        "from sympy import *\n",
        "from sympy.logic.inference import satisfiable \n",
        "from sympy import true, false\n",
        "\n",
        "def infer_unknown_values(grid):\n",
        "  \"\"\"Fill in any unknown values in the grid that can be inferred.\n",
        "\n",
        "  Args:\n",
        "    grid: A list of lists of \"F\", \"U\", \"S\", or \"C\".\n",
        "\n",
        "  Returns:\n",
        "    inferred_grid: A copy of grid with some unknown values replaced.\n",
        "\n",
        "  Example:\n",
        "    >> grid = [\n",
        "    >>   [\"F\", \"U\", \"C\"],\n",
        "    >>   [\"S\", \"C\", \"U\"],\n",
        "    >>   [\"U\", \"U\", \"C\"]\n",
        "    >> ]\n",
        "    >> infer_unknown_values(grid)\n",
        "    >> [[\"F\" \"S\" \"C\"]\n",
        "    >>  [\"S\" \"C\" \"C\"]\n",
        "    >>  [\"U\" \"U\" \"C\"]]\n",
        "  \"\"\"\n",
        "  grid_height = len(grid)\n",
        "  grid_width = len(grid[0])\n",
        "\n",
        "  def xy_to_id(x, y):\n",
        "    return y*grid_width + x\n",
        "\n",
        "  def id_to_xy(id):\n",
        "    x = id%grid_width\n",
        "    y = id//grid_width\n",
        "    return x, y\n",
        "\n",
        "  def is_valid(x, y):\n",
        "    if x < 0 or x >= grid_width:\n",
        "      return False\n",
        "    if y < 0 or y >= grid_height:\n",
        "      return False\n",
        "    return True\n",
        "\n",
        "  def get_neighbors(id):\n",
        "    x, y = id_to_xy(id)\n",
        "    nei = []\n",
        "\n",
        "    if is_valid(x-1, y):\n",
        "      nei.append(xy_to_id(x-1, y))\n",
        "    if is_valid(x+1, y):\n",
        "      nei.append(xy_to_id(x+1, y))\n",
        "    if is_valid(x, y+1):\n",
        "      nei.append(xy_to_id(x, y+1))\n",
        "    if is_valid(x, y-1):\n",
        "      nei.append(xy_to_id(x, y-1))\n",
        "\n",
        "    return nei\n",
        "\n",
        "  print(\"\\n\\n\\n\")\n",
        "\n",
        "  vars = {}\n",
        "  for y in range(grid_height):\n",
        "    for x in range(grid_width):\n",
        "      vars[xy_to_id(x, y)] = {}\n",
        "      vars[xy_to_id(x, y)]['F'] = symbols(f'{xy_to_id(x, y)}F')\n",
        "      vars[xy_to_id(x, y)]['S'] = symbols(f'{xy_to_id(x, y)}S')\n",
        "      vars[xy_to_id(x, y)]['C'] = symbols(f'{xy_to_id(x, y)}C')\n",
        "      types = ['F', 'S', 'C']\n",
        "      if grid[y][x] != 'U':\n",
        "        for t in types:\n",
        "          if grid[y][x] == t:\n",
        "            vars[xy_to_id(x, y)][t] = true\n",
        "          else:\n",
        "            vars[xy_to_id(x, y)][t] = false\n",
        "\n",
        "  dummy1, dummy2 = symbols('d1, d2')\n",
        "  dummy1 = true\n",
        "  dummy2 = false\n",
        "  formula = dummy1\n",
        "  for y in range(grid_height):\n",
        "    for x in range(grid_width):\n",
        "      id = xy_to_id(x, y)\n",
        "\n",
        "      or_nei_fire = dummy2\n",
        "      and_nei_clear = dummy1\n",
        "      for nei in get_neighbors(id):\n",
        "        or_nei_fire = or_nei_fire | vars[nei]['F']\n",
        "        and_nei_clear = and_nei_clear & vars[nei]['C']\n",
        "\n",
        "        #FIRE IMPLIES SMOKE\n",
        "        formula = formula & (~vars[id]['F'] | vars[nei]['S'])\n",
        "\n",
        "      #SMOKE IMPLIES ONE FIRE\n",
        "      formula = formula & (~vars[id]['S'] | or_nei_fire)\n",
        "\n",
        "      #ALL CLEAR IFF CLEAR\n",
        "      # if grid[y][x] == 'U':\n",
        "      #   formula = formula & (~and_nei_clear | vars[id]['C'])\n",
        "      #   formula = formula & (~vars[id]['C'] | and_nei_clear)\n",
        "\n",
        "      #A THING CAN ONLY HAVE ONE VALUE\n",
        "      #formula = formula & ((~vars[id]['F'] & ~vars[id]['S'] & vars[id]['C']) | (vars[id]['F'] & ~vars[id]['S'] & ~vars[id]['C']) | (~vars[id]['F'] & vars[id]['S'] & ~vars[id]['C']))\n",
        "\n",
        "  # dummy1 = True\n",
        "  # dummy2 = False\n",
        "  # print(formula)\n",
        "  # for y in range(grid_height):\n",
        "  #   for x in range(grid_width):\n",
        "  #     types = ['F', 'S', 'C']\n",
        "  #     if grid[y][x] != 'U':\n",
        "  #       for t in types:\n",
        "  #         if grid[y][x] == t:\n",
        "  #           vars[xy_to_id(x, y)][t] = \n",
        "  #         else:\n",
        "  #           vars[xy_to_id(x, y)][t] = False\n",
        "  print(formula)\n",
        "  sln = satisfiable(formula)\n",
        "  print(sln)\n",
        "\n",
        "  for y in range(grid_height):\n",
        "    for x in range(grid_width):\n",
        "      types = ['F', 'S', 'C']\n",
        "      if grid[y][x] == 'U':\n",
        "        for t in types:\n",
        "          sym = vars[xy_to_id(x, y)][t]\n",
        "          if sym in sln and sln[sym]:\n",
        "            grid[y][x] = t\n",
        "            break\n",
        "        if vars[xy_to_id(x, y)]['F'] in sln and not sln[vars[xy_to_id(x, y)]['F']]:\n",
        "          if vars[xy_to_id(x, y)]['S'] in sln and not sln[vars[xy_to_id(x, y)]['S']]:\n",
        "            grid[y][x] = 'C'\n",
        "  print(grid)\n",
        "  return grid\n",
        "\n",
        "\n",
        "\n",
        "  possible_values = {}\n",
        "  for x in range(height):\n",
        "    for y in range(width):\n",
        "      if grid[x][y] != 'U':\n",
        "        continue\n",
        "      possible_values[(x, y)] = {}\n",
        "      types = ['F', 'S', 'C']\n",
        "      for t in types:\n",
        "        grid[x][y] = t\n",
        "        sln = solve(grid)\n",
        "        if sln != False:\n",
        "          possible_values[(x, y)][t] = True\n",
        "      grid[x][y] =  'U'\n",
        "\n",
        "  print(possible_values)\n",
        "\n",
        "  for x in range(height):\n",
        "    for y in range(width):\n",
        "      if grid[x][y] != 'U':\n",
        "        continue\n",
        "      if len(possible_values[(x, y)]) != 1:\n",
        "        continue\n",
        "      for v in possible_values[(x, y)]:\n",
        "        grid[y][x] = v\n",
        "  \n",
        "\n",
        "  #FIRE IMPLIES SMOKE\n",
        "            formula = any_fire & (vars[(x,y)]['F'] >> (vars[(n1,n2)]['S'] & ~vars[(n1,n2)]['F'] & ~vars[(n1,n2)]['C']))\n",
        "\n",
        "        #SMOKE IMPLIES ONE FIRE\n",
        "            formula = any_fire & (vars[(x,y)]['S'] >> or_nei_fire)\n",
        "    sln = satisfiable(formula)\n",
        "    return sln\n",
        "\n",
        "  "
      ],
      "execution_count": null,
      "outputs": []
    },
    {
      "cell_type": "code",
      "metadata": {
        "id": "Gfrw70Quk2V1"
      },
      "source": [
        "from sympy import *\n",
        "from sympy.logic.inference import satisfiable \n",
        "from sympy import true, false\n",
        "\n",
        "def infer_unknown_values(grid):\n",
        "  \"\"\"Fill in any unknown values in the grid that can be inferred.\n",
        "\n",
        "  Args:\n",
        "    grid: A list of lists of \"F\", \"U\", \"S\", or \"C\".\n",
        "\n",
        "  Returns:\n",
        "    inferred_grid: A copy of grid with some unknown values replaced.\n",
        "\n",
        "  Example:\n",
        "    >> grid = [\n",
        "    >>   [\"F\", \"U\", \"C\"],\n",
        "    >>   [\"S\", \"C\", \"U\"],\n",
        "    >>   [\"U\", \"U\", \"C\"]\n",
        "    >> ]\n",
        "    >> infer_unknown_values(grid)\n",
        "    >> [[\"F\" \"S\" \"C\"]\n",
        "    >>  [\"S\" \"C\" \"C\"]\n",
        "    >>  [\"U\" \"U\" \"C\"]]\n",
        "  \"\"\"\n",
        "  height = len(grid)\n",
        "  width = len(grid[0])\n",
        "\n",
        "  def findNeighbors(m,n, x, y):\n",
        "    re = []\n",
        "    xi = ( -1, 1) if 0 < x < m - 1 else ((0, -1) if x > 0 else ((0,) if x == m-1 else (0, 1)))\n",
        "    yi = (0, -1, 1) if 0 < y < n - 1 else ((0, -1) if y > 0 else ((0,) if y == n-1 else (0, 1)))\n",
        "    for i in xi:\n",
        "      if(i != 0):\n",
        "        re.append((x+i,y))\n",
        "    for j in yi:\n",
        "      if(j != 0):\n",
        "        re.append((x,y+j))\n",
        "    return re\n",
        "  \n",
        "\n",
        "  def solve(grid):\n",
        "    vars = {}\n",
        "    for x in range(height):\n",
        "      for y in range(width):\n",
        "        vars[(x, y)] = {}\n",
        "        vars[(x, y)]['F'] = symbols(f'{(x, y)}F')\n",
        "        vars[(x, y)]['S'] = symbols(f'{(x, y)}S')\n",
        "        vars[(x, y)]['C'] = symbols(f'{(x, y)}C')\n",
        "        types = ['F', 'S', 'C']\n",
        "        if grid[x][y] != 'U':\n",
        "          for t in types:\n",
        "            if grid[x][y] == t:\n",
        "              vars[(x, y)][t] = true\n",
        "            else:\n",
        "              vars[(x, y)][t] = false\n",
        "    print(vars)\n",
        "    for x in range(height):\n",
        "        for y in range(width):\n",
        "          if grid[x][y] == 'U':\n",
        "            any_fire = symbols(\"F\")\n",
        "            any_clear = symbols(\"C\")\n",
        "            all_clear = symbols(\"AC\")\n",
        "            any_un = symbols(\"U\")\n",
        "            any_fire = false\n",
        "            any_clear =false\n",
        "            all_clear = true\n",
        "            any_un = false\n",
        "            for (n1,n2) in findNeighbors(height,width,x,y):\n",
        "              if grid[n1][n2] != 'U':\n",
        "                any_fire = any_fire | vars[(n1,n2)]['F']\n",
        "                any_clear = any_clear | vars[(n1,n2)]['C']\n",
        "                all_clear = all_clear & vars[(n1,n2)]['C']\n",
        "              else:\n",
        "                all_clear = false\n",
        "                any_un = true\n",
        "            #some clear no fire implies no fire\n",
        "            if not any_fire and any_clear:\n",
        "              vars[(x,y)]['F']= false\n",
        "            #all clear implies clear\n",
        "            if all_clear or not any_fire and not any_un:\n",
        "              vars[(x,y)]['F']= false\n",
        "              vars[(x,y)]['S']= false\n",
        "              vars[(x,y)]['C']= true\n",
        "              grid[x][y] = \"C\"\n",
        "              \n",
        "    changed = True\n",
        "    while(changed):\n",
        "      changed = False\n",
        "      for x in range(height):\n",
        "        for y in range(width):\n",
        "          if grid[x][y] == 'U':\n",
        "              any_fire = false\n",
        "              any_clear =false\n",
        "              all_clear = true\n",
        "              any_possible_fire = false\n",
        "              for (n1,n2) in findNeighbors(height,width,x,y):\n",
        "                if grid[n1][n2] != 'U':\n",
        "                  any_fire = any_fire | vars[(n1,n2)]['F']\n",
        "                  any_clear = any_clear | vars[(n1,n2)]['C']\n",
        "                  all_clear = all_clear & vars[(n1,n2)]['C']\n",
        "                elif not isinstance(vars[(n1,n2)]['F'],tuple):\n",
        "                  continue\n",
        "                else:\n",
        "                  any_possible_fire = true\n",
        "                  all_clear = false\n",
        "              if any_fire :\n",
        "                vars[(x,y)]['C']= false\n",
        "                vars[(x,y)]['F']= false\n",
        "                vars[(x,y)]['S']= true\n",
        "                grid[x][y] = \"S\"\n",
        "                changed = True\n",
        "              if any_clear and not any_fire and not any_possible_fire:\n",
        "                vars[(x,y)]['F']= false\n",
        "                vars[(x,y)]['S']= false\n",
        "                vars[(x,y)]['C']= true\n",
        "                grid[x][y] = \"C\"\n",
        "          if grid[x][y] == 'S':\n",
        "              any_fire = false\n",
        "              any_clear =false\n",
        "              all_clear = true\n",
        "              any_undefined = false\n",
        "              for (n1,n2) in findNeighbors(height,width,x,y):\n",
        "                if grid[n1][n2] != 'U':\n",
        "                  any_fire = any_fire | vars[(n1,n2)]['F']\n",
        "                  any_clear = any_clear | vars[(n1,n2)]['C']\n",
        "                  all_clear = all_clear & vars[(n1,n2)]['C']\n",
        "                elif not isinstance(vars[(n1,n2)]['F'],tuple):\n",
        "                  continue\n",
        "                elif any_undefined:\n",
        "                  any_undefined = false\n",
        "                  break\n",
        "                else:\n",
        "                  all_clear = false\n",
        "                  any_undefined = true\n",
        "                  undefined = (n1,n2)\n",
        "              if not any_fire and any_undefined:\n",
        "                vars[undefined]['C']= false\n",
        "                vars[undefined]['F']= true\n",
        "                vars[undefined]['S']= false\n",
        "                grid[undefined[0]][undefined[1]] = \"F\"\n",
        "                changed = True\n",
        "    return grid\n",
        "           \n",
        "  print(solve(grid))\n",
        "  return solve(grid)\n",
        "\n",
        "\n",
        "\n",
        "    \n",
        "\n",
        "  "
      ],
      "execution_count": null,
      "outputs": []
    },
    {
      "cell_type": "markdown",
      "metadata": {
        "id": "smWvsmxzGqUj"
      },
      "source": [
        "Tests"
      ]
    },
    {
      "cell_type": "code",
      "metadata": {
        "id": "RkzysiTbGqUo",
        "colab": {
          "base_uri": "https://localhost:8080/"
        },
        "outputId": "83c44983-10b0-4e55-8311-2daeb2a62455"
      },
      "source": [
        "\n",
        "assert infer_unknown_values([[\"U\", \"F\"]]) == [[\"S\", \"F\"]]\n",
        "\n",
        "assert infer_unknown_values([[\"F\", \"U\", \"C\"], [\"S\", \"C\", \"U\"], [\"U\", \"U\", \"C\"]]) == [[\"F\", \"S\", \"C\"], [\"S\", \"C\", \"C\"], [\"U\", \"U\", \"C\"]]\n",
        "\n",
        "assert infer_unknown_values([[\"U\", \"C\", \"C\"], [\"S\", \"C\", \"U\"], [\"U\", \"U\", \"C\"]]) == [[\"C\", \"C\", \"C\"], [\"S\", \"C\", \"C\"], [\"F\", \"S\", \"C\"]]\n",
        "\n",
        "assert infer_unknown_values([[\"U\", \"S\", \"C\", \"U\"], \n",
        "                             [\"U\", \"U\", \"C\", \"U\"], \n",
        "                             [\"U\", \"S\", \"C\", \"U\"]]) == [[\"F\", \"S\", \"C\", \"C\"], \n",
        "                                                        [\"S\", \"C\", \"C\", \"C\"], \n",
        "                                                        [\"F\", \"S\", \"C\", \"C\"]]\n",
        "\n",
        "assert infer_unknown_values([[\"U\", \"U\", \"C\", \"U\", \"U\", \"U\", \"U\", \"U\"], [\"C\", \"U\", \"U\", \"U\", \"U\", \"U\", \"U\", \"U\"], [\"U\", \"U\", \"U\", \"U\", \"U\", \"U\", \"U\", \"U\"], [\"U\", \"U\", \"U\", \"U\", \"U\", \"U\", \"C\", \"C\"], [\"U\", \"U\", \"U\", \"U\", \"U\", \"U\", \"C\", \"C\"], [\"U\", \"C\", \"U\", \"U\", \"U\", \"U\", \"U\", \"U\"], [\"U\", \"U\", \"U\", \"F\", \"U\", \"U\", \"U\", \"U\"], [\"U\", \"U\", \"U\", \"U\", \"U\", \"U\", \"U\", \"U\"]]) == [[\"C\", \"C\", \"C\", \"U\", \"U\", \"U\", \"U\", \"U\"], [\"C\", \"U\", \"U\", \"U\", \"U\", \"U\", \"U\", \"U\"], [\"U\", \"U\", \"U\", \"U\", \"U\", \"U\", \"U\", \"U\"], [\"U\", \"U\", \"U\", \"U\", \"U\", \"U\", \"C\", \"C\"], [\"U\", \"U\", \"U\", \"U\", \"U\", \"U\", \"C\", \"C\"], [\"U\", \"C\", \"U\", \"S\", \"U\", \"U\", \"U\", \"U\"], [\"U\", \"U\", \"S\", \"F\", \"S\", \"U\", \"U\", \"U\"], [\"U\", \"U\", \"U\", \"S\", \"U\", \"U\", \"U\", \"U\"]]\n",
        "print('Tests passed.')"
      ],
      "execution_count": null,
      "outputs": [
        {
          "output_type": "stream",
          "name": "stdout",
          "text": [
            "{(0, 0): {'F': ((0, 0)F), 'S': ((0, 0)S), 'C': ((0, 0)C)}, (0, 1): {'F': True, 'S': False, 'C': False}}\n",
            "[['S', 'F']]\n",
            "{(0, 0): {'F': False, 'S': True, 'C': False}, (0, 1): {'F': True, 'S': False, 'C': False}}\n",
            "{(0, 0): {'F': True, 'S': False, 'C': False}, (0, 1): {'F': ((0, 1)F), 'S': ((0, 1)S), 'C': ((0, 1)C)}, (0, 2): {'F': False, 'S': False, 'C': True}, (1, 0): {'F': False, 'S': True, 'C': False}, (1, 1): {'F': False, 'S': False, 'C': True}, (1, 2): {'F': ((1, 2)F), 'S': ((1, 2)S), 'C': ((1, 2)C)}, (2, 0): {'F': ((2, 0)F), 'S': ((2, 0)S), 'C': ((2, 0)C)}, (2, 1): {'F': ((2, 1)F), 'S': ((2, 1)S), 'C': ((2, 1)C)}, (2, 2): {'F': False, 'S': False, 'C': True}}\n",
            "[['F', 'S', 'C'], ['S', 'C', 'C'], ['U', 'U', 'C']]\n",
            "{(0, 0): {'F': True, 'S': False, 'C': False}, (0, 1): {'F': False, 'S': True, 'C': False}, (0, 2): {'F': False, 'S': False, 'C': True}, (1, 0): {'F': False, 'S': True, 'C': False}, (1, 1): {'F': False, 'S': False, 'C': True}, (1, 2): {'F': False, 'S': False, 'C': True}, (2, 0): {'F': ((2, 0)F), 'S': ((2, 0)S), 'C': ((2, 0)C)}, (2, 1): {'F': ((2, 1)F), 'S': ((2, 1)S), 'C': ((2, 1)C)}, (2, 2): {'F': False, 'S': False, 'C': True}}\n",
            "{(0, 0): {'F': ((0, 0)F), 'S': ((0, 0)S), 'C': ((0, 0)C)}, (0, 1): {'F': False, 'S': False, 'C': True}, (0, 2): {'F': False, 'S': False, 'C': True}, (1, 0): {'F': False, 'S': True, 'C': False}, (1, 1): {'F': False, 'S': False, 'C': True}, (1, 2): {'F': ((1, 2)F), 'S': ((1, 2)S), 'C': ((1, 2)C)}, (2, 0): {'F': ((2, 0)F), 'S': ((2, 0)S), 'C': ((2, 0)C)}, (2, 1): {'F': ((2, 1)F), 'S': ((2, 1)S), 'C': ((2, 1)C)}, (2, 2): {'F': False, 'S': False, 'C': True}}\n",
            "[['C', 'C', 'C'], ['S', 'C', 'C'], ['F', 'S', 'C']]\n",
            "{(0, 0): {'F': False, 'S': False, 'C': True}, (0, 1): {'F': False, 'S': False, 'C': True}, (0, 2): {'F': False, 'S': False, 'C': True}, (1, 0): {'F': False, 'S': True, 'C': False}, (1, 1): {'F': False, 'S': False, 'C': True}, (1, 2): {'F': False, 'S': False, 'C': True}, (2, 0): {'F': True, 'S': False, 'C': False}, (2, 1): {'F': False, 'S': True, 'C': False}, (2, 2): {'F': False, 'S': False, 'C': True}}\n",
            "{(0, 0): {'F': ((0, 0)F), 'S': ((0, 0)S), 'C': ((0, 0)C)}, (0, 1): {'F': False, 'S': True, 'C': False}, (0, 2): {'F': False, 'S': False, 'C': True}, (0, 3): {'F': ((0, 3)F), 'S': ((0, 3)S), 'C': ((0, 3)C)}, (1, 0): {'F': ((1, 0)F), 'S': ((1, 0)S), 'C': ((1, 0)C)}, (1, 1): {'F': ((1, 1)F), 'S': ((1, 1)S), 'C': ((1, 1)C)}, (1, 2): {'F': False, 'S': False, 'C': True}, (1, 3): {'F': ((1, 3)F), 'S': ((1, 3)S), 'C': ((1, 3)C)}, (2, 0): {'F': ((2, 0)F), 'S': ((2, 0)S), 'C': ((2, 0)C)}, (2, 1): {'F': False, 'S': True, 'C': False}, (2, 2): {'F': False, 'S': False, 'C': True}, (2, 3): {'F': ((2, 3)F), 'S': ((2, 3)S), 'C': ((2, 3)C)}}\n",
            "[['F', 'S', 'C', 'C'], ['S', 'C', 'C', 'C'], ['F', 'S', 'C', 'C']]\n",
            "{(0, 0): {'F': True, 'S': False, 'C': False}, (0, 1): {'F': False, 'S': True, 'C': False}, (0, 2): {'F': False, 'S': False, 'C': True}, (0, 3): {'F': False, 'S': False, 'C': True}, (1, 0): {'F': False, 'S': True, 'C': False}, (1, 1): {'F': False, 'S': False, 'C': True}, (1, 2): {'F': False, 'S': False, 'C': True}, (1, 3): {'F': False, 'S': False, 'C': True}, (2, 0): {'F': True, 'S': False, 'C': False}, (2, 1): {'F': False, 'S': True, 'C': False}, (2, 2): {'F': False, 'S': False, 'C': True}, (2, 3): {'F': False, 'S': False, 'C': True}}\n",
            "{(0, 0): {'F': ((0, 0)F), 'S': ((0, 0)S), 'C': ((0, 0)C)}, (0, 1): {'F': ((0, 1)F), 'S': ((0, 1)S), 'C': ((0, 1)C)}, (0, 2): {'F': False, 'S': False, 'C': True}, (0, 3): {'F': ((0, 3)F), 'S': ((0, 3)S), 'C': ((0, 3)C)}, (0, 4): {'F': ((0, 4)F), 'S': ((0, 4)S), 'C': ((0, 4)C)}, (0, 5): {'F': ((0, 5)F), 'S': ((0, 5)S), 'C': ((0, 5)C)}, (0, 6): {'F': ((0, 6)F), 'S': ((0, 6)S), 'C': ((0, 6)C)}, (0, 7): {'F': ((0, 7)F), 'S': ((0, 7)S), 'C': ((0, 7)C)}, (1, 0): {'F': False, 'S': False, 'C': True}, (1, 1): {'F': ((1, 1)F), 'S': ((1, 1)S), 'C': ((1, 1)C)}, (1, 2): {'F': ((1, 2)F), 'S': ((1, 2)S), 'C': ((1, 2)C)}, (1, 3): {'F': ((1, 3)F), 'S': ((1, 3)S), 'C': ((1, 3)C)}, (1, 4): {'F': ((1, 4)F), 'S': ((1, 4)S), 'C': ((1, 4)C)}, (1, 5): {'F': ((1, 5)F), 'S': ((1, 5)S), 'C': ((1, 5)C)}, (1, 6): {'F': ((1, 6)F), 'S': ((1, 6)S), 'C': ((1, 6)C)}, (1, 7): {'F': ((1, 7)F), 'S': ((1, 7)S), 'C': ((1, 7)C)}, (2, 0): {'F': ((2, 0)F), 'S': ((2, 0)S), 'C': ((2, 0)C)}, (2, 1): {'F': ((2, 1)F), 'S': ((2, 1)S), 'C': ((2, 1)C)}, (2, 2): {'F': ((2, 2)F), 'S': ((2, 2)S), 'C': ((2, 2)C)}, (2, 3): {'F': ((2, 3)F), 'S': ((2, 3)S), 'C': ((2, 3)C)}, (2, 4): {'F': ((2, 4)F), 'S': ((2, 4)S), 'C': ((2, 4)C)}, (2, 5): {'F': ((2, 5)F), 'S': ((2, 5)S), 'C': ((2, 5)C)}, (2, 6): {'F': ((2, 6)F), 'S': ((2, 6)S), 'C': ((2, 6)C)}, (2, 7): {'F': ((2, 7)F), 'S': ((2, 7)S), 'C': ((2, 7)C)}, (3, 0): {'F': ((3, 0)F), 'S': ((3, 0)S), 'C': ((3, 0)C)}, (3, 1): {'F': ((3, 1)F), 'S': ((3, 1)S), 'C': ((3, 1)C)}, (3, 2): {'F': ((3, 2)F), 'S': ((3, 2)S), 'C': ((3, 2)C)}, (3, 3): {'F': ((3, 3)F), 'S': ((3, 3)S), 'C': ((3, 3)C)}, (3, 4): {'F': ((3, 4)F), 'S': ((3, 4)S), 'C': ((3, 4)C)}, (3, 5): {'F': ((3, 5)F), 'S': ((3, 5)S), 'C': ((3, 5)C)}, (3, 6): {'F': False, 'S': False, 'C': True}, (3, 7): {'F': False, 'S': False, 'C': True}, (4, 0): {'F': ((4, 0)F), 'S': ((4, 0)S), 'C': ((4, 0)C)}, (4, 1): {'F': ((4, 1)F), 'S': ((4, 1)S), 'C': ((4, 1)C)}, (4, 2): {'F': ((4, 2)F), 'S': ((4, 2)S), 'C': ((4, 2)C)}, (4, 3): {'F': ((4, 3)F), 'S': ((4, 3)S), 'C': ((4, 3)C)}, (4, 4): {'F': ((4, 4)F), 'S': ((4, 4)S), 'C': ((4, 4)C)}, (4, 5): {'F': ((4, 5)F), 'S': ((4, 5)S), 'C': ((4, 5)C)}, (4, 6): {'F': False, 'S': False, 'C': True}, (4, 7): {'F': False, 'S': False, 'C': True}, (5, 0): {'F': ((5, 0)F), 'S': ((5, 0)S), 'C': ((5, 0)C)}, (5, 1): {'F': False, 'S': False, 'C': True}, (5, 2): {'F': ((5, 2)F), 'S': ((5, 2)S), 'C': ((5, 2)C)}, (5, 3): {'F': ((5, 3)F), 'S': ((5, 3)S), 'C': ((5, 3)C)}, (5, 4): {'F': ((5, 4)F), 'S': ((5, 4)S), 'C': ((5, 4)C)}, (5, 5): {'F': ((5, 5)F), 'S': ((5, 5)S), 'C': ((5, 5)C)}, (5, 6): {'F': ((5, 6)F), 'S': ((5, 6)S), 'C': ((5, 6)C)}, (5, 7): {'F': ((5, 7)F), 'S': ((5, 7)S), 'C': ((5, 7)C)}, (6, 0): {'F': ((6, 0)F), 'S': ((6, 0)S), 'C': ((6, 0)C)}, (6, 1): {'F': ((6, 1)F), 'S': ((6, 1)S), 'C': ((6, 1)C)}, (6, 2): {'F': ((6, 2)F), 'S': ((6, 2)S), 'C': ((6, 2)C)}, (6, 3): {'F': True, 'S': False, 'C': False}, (6, 4): {'F': ((6, 4)F), 'S': ((6, 4)S), 'C': ((6, 4)C)}, (6, 5): {'F': ((6, 5)F), 'S': ((6, 5)S), 'C': ((6, 5)C)}, (6, 6): {'F': ((6, 6)F), 'S': ((6, 6)S), 'C': ((6, 6)C)}, (6, 7): {'F': ((6, 7)F), 'S': ((6, 7)S), 'C': ((6, 7)C)}, (7, 0): {'F': ((7, 0)F), 'S': ((7, 0)S), 'C': ((7, 0)C)}, (7, 1): {'F': ((7, 1)F), 'S': ((7, 1)S), 'C': ((7, 1)C)}, (7, 2): {'F': ((7, 2)F), 'S': ((7, 2)S), 'C': ((7, 2)C)}, (7, 3): {'F': ((7, 3)F), 'S': ((7, 3)S), 'C': ((7, 3)C)}, (7, 4): {'F': ((7, 4)F), 'S': ((7, 4)S), 'C': ((7, 4)C)}, (7, 5): {'F': ((7, 5)F), 'S': ((7, 5)S), 'C': ((7, 5)C)}, (7, 6): {'F': ((7, 6)F), 'S': ((7, 6)S), 'C': ((7, 6)C)}, (7, 7): {'F': ((7, 7)F), 'S': ((7, 7)S), 'C': ((7, 7)C)}}\n",
            "[['C', 'C', 'C', 'U', 'U', 'U', 'U', 'U'], ['C', 'U', 'U', 'U', 'U', 'U', 'U', 'U'], ['U', 'U', 'U', 'U', 'U', 'U', 'U', 'U'], ['U', 'U', 'U', 'U', 'U', 'U', 'C', 'C'], ['U', 'U', 'U', 'U', 'U', 'U', 'C', 'C'], ['U', 'C', 'U', 'S', 'U', 'U', 'U', 'U'], ['U', 'U', 'S', 'F', 'S', 'U', 'U', 'U'], ['U', 'U', 'U', 'S', 'U', 'U', 'U', 'U']]\n",
            "{(0, 0): {'F': False, 'S': False, 'C': True}, (0, 1): {'F': False, 'S': False, 'C': True}, (0, 2): {'F': False, 'S': False, 'C': True}, (0, 3): {'F': ((0, 3)F), 'S': ((0, 3)S), 'C': ((0, 3)C)}, (0, 4): {'F': ((0, 4)F), 'S': ((0, 4)S), 'C': ((0, 4)C)}, (0, 5): {'F': ((0, 5)F), 'S': ((0, 5)S), 'C': ((0, 5)C)}, (0, 6): {'F': ((0, 6)F), 'S': ((0, 6)S), 'C': ((0, 6)C)}, (0, 7): {'F': ((0, 7)F), 'S': ((0, 7)S), 'C': ((0, 7)C)}, (1, 0): {'F': False, 'S': False, 'C': True}, (1, 1): {'F': ((1, 1)F), 'S': ((1, 1)S), 'C': ((1, 1)C)}, (1, 2): {'F': ((1, 2)F), 'S': ((1, 2)S), 'C': ((1, 2)C)}, (1, 3): {'F': ((1, 3)F), 'S': ((1, 3)S), 'C': ((1, 3)C)}, (1, 4): {'F': ((1, 4)F), 'S': ((1, 4)S), 'C': ((1, 4)C)}, (1, 5): {'F': ((1, 5)F), 'S': ((1, 5)S), 'C': ((1, 5)C)}, (1, 6): {'F': ((1, 6)F), 'S': ((1, 6)S), 'C': ((1, 6)C)}, (1, 7): {'F': ((1, 7)F), 'S': ((1, 7)S), 'C': ((1, 7)C)}, (2, 0): {'F': ((2, 0)F), 'S': ((2, 0)S), 'C': ((2, 0)C)}, (2, 1): {'F': ((2, 1)F), 'S': ((2, 1)S), 'C': ((2, 1)C)}, (2, 2): {'F': ((2, 2)F), 'S': ((2, 2)S), 'C': ((2, 2)C)}, (2, 3): {'F': ((2, 3)F), 'S': ((2, 3)S), 'C': ((2, 3)C)}, (2, 4): {'F': ((2, 4)F), 'S': ((2, 4)S), 'C': ((2, 4)C)}, (2, 5): {'F': ((2, 5)F), 'S': ((2, 5)S), 'C': ((2, 5)C)}, (2, 6): {'F': ((2, 6)F), 'S': ((2, 6)S), 'C': ((2, 6)C)}, (2, 7): {'F': ((2, 7)F), 'S': ((2, 7)S), 'C': ((2, 7)C)}, (3, 0): {'F': ((3, 0)F), 'S': ((3, 0)S), 'C': ((3, 0)C)}, (3, 1): {'F': ((3, 1)F), 'S': ((3, 1)S), 'C': ((3, 1)C)}, (3, 2): {'F': ((3, 2)F), 'S': ((3, 2)S), 'C': ((3, 2)C)}, (3, 3): {'F': ((3, 3)F), 'S': ((3, 3)S), 'C': ((3, 3)C)}, (3, 4): {'F': ((3, 4)F), 'S': ((3, 4)S), 'C': ((3, 4)C)}, (3, 5): {'F': ((3, 5)F), 'S': ((3, 5)S), 'C': ((3, 5)C)}, (3, 6): {'F': False, 'S': False, 'C': True}, (3, 7): {'F': False, 'S': False, 'C': True}, (4, 0): {'F': ((4, 0)F), 'S': ((4, 0)S), 'C': ((4, 0)C)}, (4, 1): {'F': ((4, 1)F), 'S': ((4, 1)S), 'C': ((4, 1)C)}, (4, 2): {'F': ((4, 2)F), 'S': ((4, 2)S), 'C': ((4, 2)C)}, (4, 3): {'F': ((4, 3)F), 'S': ((4, 3)S), 'C': ((4, 3)C)}, (4, 4): {'F': ((4, 4)F), 'S': ((4, 4)S), 'C': ((4, 4)C)}, (4, 5): {'F': ((4, 5)F), 'S': ((4, 5)S), 'C': ((4, 5)C)}, (4, 6): {'F': False, 'S': False, 'C': True}, (4, 7): {'F': False, 'S': False, 'C': True}, (5, 0): {'F': ((5, 0)F), 'S': ((5, 0)S), 'C': ((5, 0)C)}, (5, 1): {'F': False, 'S': False, 'C': True}, (5, 2): {'F': ((5, 2)F), 'S': ((5, 2)S), 'C': ((5, 2)C)}, (5, 3): {'F': False, 'S': True, 'C': False}, (5, 4): {'F': ((5, 4)F), 'S': ((5, 4)S), 'C': ((5, 4)C)}, (5, 5): {'F': ((5, 5)F), 'S': ((5, 5)S), 'C': ((5, 5)C)}, (5, 6): {'F': ((5, 6)F), 'S': ((5, 6)S), 'C': ((5, 6)C)}, (5, 7): {'F': ((5, 7)F), 'S': ((5, 7)S), 'C': ((5, 7)C)}, (6, 0): {'F': ((6, 0)F), 'S': ((6, 0)S), 'C': ((6, 0)C)}, (6, 1): {'F': ((6, 1)F), 'S': ((6, 1)S), 'C': ((6, 1)C)}, (6, 2): {'F': False, 'S': True, 'C': False}, (6, 3): {'F': True, 'S': False, 'C': False}, (6, 4): {'F': False, 'S': True, 'C': False}, (6, 5): {'F': ((6, 5)F), 'S': ((6, 5)S), 'C': ((6, 5)C)}, (6, 6): {'F': ((6, 6)F), 'S': ((6, 6)S), 'C': ((6, 6)C)}, (6, 7): {'F': ((6, 7)F), 'S': ((6, 7)S), 'C': ((6, 7)C)}, (7, 0): {'F': ((7, 0)F), 'S': ((7, 0)S), 'C': ((7, 0)C)}, (7, 1): {'F': ((7, 1)F), 'S': ((7, 1)S), 'C': ((7, 1)C)}, (7, 2): {'F': ((7, 2)F), 'S': ((7, 2)S), 'C': ((7, 2)C)}, (7, 3): {'F': False, 'S': True, 'C': False}, (7, 4): {'F': ((7, 4)F), 'S': ((7, 4)S), 'C': ((7, 4)C)}, (7, 5): {'F': ((7, 5)F), 'S': ((7, 5)S), 'C': ((7, 5)C)}, (7, 6): {'F': ((7, 6)F), 'S': ((7, 6)S), 'C': ((7, 6)C)}, (7, 7): {'F': ((7, 7)F), 'S': ((7, 7)S), 'C': ((7, 7)C)}}\n",
            "Tests passed.\n"
          ]
        }
      ]
    }
  ]
}